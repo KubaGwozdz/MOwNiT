{
 "cells": [
  {
   "cell_type": "code",
   "execution_count": 1,
   "metadata": {},
   "outputs": [
    {
     "name": "stderr",
     "output_type": "stream",
     "text": [
      "┌ Info: Recompiling stale cache file /Users/kuba/.julia/compiled/v1.0/DataFrames/AR9oZ.ji for DataFrames [a93c6f00-e57d-5684-b7b6-d8193f3e46c0]\n",
      "└ @ Base loading.jl:1187\n"
     ]
    }
   ],
   "source": [
    "using QuadGK\n",
    "using Polynomials\n",
    "using Plots\n",
    "using DataFrames"
   ]
  },
  {
   "cell_type": "code",
   "execution_count": 2,
   "metadata": {},
   "outputs": [
    {
     "data": {
      "text/plain": [
       "([-0.949108, -0.741531, -0.405845, 0.0, 0.405845, 0.741531, 0.949108], [0.129485, 0.279705, 0.38183, 0.417959, 0.38183, 0.279705, 0.129485])"
      ]
     },
     "execution_count": 2,
     "metadata": {},
     "output_type": "execute_result"
    }
   ],
   "source": [
    "# funkcja obliczająca odcięte punktów Gaussa oraz ich współczynniki \n",
    "(xp,a)=gauss(Float64,7)"
   ]
  },
  {
   "cell_type": "code",
   "execution_count": 3,
   "metadata": {},
   "outputs": [
    {
     "data": {
      "text/plain": [
       "0.6666666666666669"
      ]
     },
     "execution_count": 3,
     "metadata": {},
     "output_type": "execute_result"
    }
   ],
   "source": [
    "f(x)=x^2\n",
    "sum(a .* f.(xp))"
   ]
  },
  {
   "cell_type": "markdown",
   "metadata": {},
   "source": [
    "## Legendre\n",
    "\n",
    "$P_{0}(x)=1$\n",
    "\n",
    "$P_{1}(x)=x$\n",
    "\n",
    "$P_{i}(x)=\\frac{2i-1}{i}x*P_{i-1}(x)-\\frac{i-1}{i}*P_{i-2}(x)$\n",
    "\n"
   ]
  },
  {
   "cell_type": "code",
   "execution_count": 4,
   "metadata": {},
   "outputs": [
    {
     "data": {
      "text/plain": [
       "legendre (generic function with 2 methods)"
      ]
     },
     "execution_count": 4,
     "metadata": {},
     "output_type": "execute_result"
    }
   ],
   "source": [
    "function legendre(n, sym::Symbol=:x)\n",
    "    x = Poly([0//1,1//1],sym)\n",
    "    p0 = Poly([1//1], sym)\n",
    "    p1 = x\n",
    "    if n==0\n",
    "        return p0\n",
    "    elseif n==1\n",
    "        return p1\n",
    "    end\n",
    "\n",
    "    for i = 2:n\n",
    "        p2 = ( (2i-1)*x*p1 - (i-1)*p0 ) / i\n",
    "        p1, p0 = p2, p1\n",
    "    end\n",
    "\n",
    "    return p1\n",
    "end"
   ]
  },
  {
   "cell_type": "code",
   "execution_count": 5,
   "metadata": {},
   "outputs": [
    {
     "data": {
      "text/html": [
       "&#45;1//2 &#43; 3//2&#8729;x^2"
      ],
      "text/plain": [
       "Poly(-1//2 + 3//2*x^2)"
      ]
     },
     "execution_count": 5,
     "metadata": {},
     "output_type": "execute_result"
    }
   ],
   "source": [
    "legendre(2)"
   ]
  },
  {
   "cell_type": "code",
   "execution_count": 6,
   "metadata": {},
   "outputs": [
    {
     "data": {
      "text/html": [
       "&#45;3//2&#8729;x &#43; 5//2&#8729;x^3"
      ],
      "text/plain": [
       "Poly(-3//2*x + 5//2*x^3)"
      ]
     },
     "execution_count": 6,
     "metadata": {},
     "output_type": "execute_result"
    }
   ],
   "source": [
    "legendre(3)"
   ]
  },
  {
   "cell_type": "code",
   "execution_count": 7,
   "metadata": {},
   "outputs": [
    {
     "data": {
      "text/html": [
       "3//8 &#45; 15//4&#8729;x^2 &#43; 35//8&#8729;x^4"
      ],
      "text/plain": [
       "Poly(3//8 - 15//4*x^2 + 35//8*x^4)"
      ]
     },
     "execution_count": 7,
     "metadata": {},
     "output_type": "execute_result"
    }
   ],
   "source": [
    "legendre(4)"
   ]
  },
  {
   "cell_type": "code",
   "execution_count": 8,
   "metadata": {},
   "outputs": [
    {
     "data": {
      "image/svg+xml": [
       "<?xml version=\"1.0\" encoding=\"utf-8\"?>\n",
       "<svg xmlns=\"http://www.w3.org/2000/svg\" xmlns:xlink=\"http://www.w3.org/1999/xlink\" width=\"600\" height=\"400\" viewBox=\"0 0 2400 1600\">\n",
       "<defs>\n",
       "  <clipPath id=\"clip6000\">\n",
       "    <rect x=\"0\" y=\"0\" width=\"2000\" height=\"2000\"/>\n",
       "  </clipPath>\n",
       "</defs>\n",
       "<defs>\n",
       "  <clipPath id=\"clip6001\">\n",
       "    <rect x=\"0\" y=\"0\" width=\"2400\" height=\"1600\"/>\n",
       "  </clipPath>\n",
       "</defs>\n",
       "<polygon clip-path=\"url(#clip6001)\" points=\"\n",
       "0,1600 2400,1600 2400,0 0,0 \n",
       "  \" fill=\"#ffffff\" fill-rule=\"evenodd\" fill-opacity=\"1\"/>\n",
       "<defs>\n",
       "  <clipPath id=\"clip6002\">\n",
       "    <rect x=\"480\" y=\"0\" width=\"1681\" height=\"1600\"/>\n",
       "  </clipPath>\n",
       "</defs>\n",
       "<polygon clip-path=\"url(#clip6001)\" points=\"\n",
       "189.504,1503.47 2321.26,1503.47 2321.26,47.2441 189.504,47.2441 \n",
       "  \" fill=\"#ffffff\" fill-rule=\"evenodd\" fill-opacity=\"1\"/>\n",
       "<defs>\n",
       "  <clipPath id=\"clip6003\">\n",
       "    <rect x=\"189\" y=\"47\" width=\"2133\" height=\"1457\"/>\n",
       "  </clipPath>\n",
       "</defs>\n",
       "<polyline clip-path=\"url(#clip6003)\" style=\"stroke:#000000; stroke-width:2; stroke-opacity:0.1; fill:none\" points=\"\n",
       "  244.899,1503.47 244.899,47.2441 \n",
       "  \"/>\n",
       "<polyline clip-path=\"url(#clip6003)\" style=\"stroke:#000000; stroke-width:2; stroke-opacity:0.1; fill:none\" points=\"\n",
       "  750.513,1503.47 750.513,47.2441 \n",
       "  \"/>\n",
       "<polyline clip-path=\"url(#clip6003)\" style=\"stroke:#000000; stroke-width:2; stroke-opacity:0.1; fill:none\" points=\"\n",
       "  1256.13,1503.47 1256.13,47.2441 \n",
       "  \"/>\n",
       "<polyline clip-path=\"url(#clip6003)\" style=\"stroke:#000000; stroke-width:2; stroke-opacity:0.1; fill:none\" points=\"\n",
       "  1761.74,1503.47 1761.74,47.2441 \n",
       "  \"/>\n",
       "<polyline clip-path=\"url(#clip6003)\" style=\"stroke:#000000; stroke-width:2; stroke-opacity:0.1; fill:none\" points=\"\n",
       "  2267.35,1503.47 2267.35,47.2441 \n",
       "  \"/>\n",
       "<polyline clip-path=\"url(#clip6003)\" style=\"stroke:#000000; stroke-width:2; stroke-opacity:0.1; fill:none\" points=\"\n",
       "  189.504,1475.91 2321.26,1475.91 \n",
       "  \"/>\n",
       "<polyline clip-path=\"url(#clip6003)\" style=\"stroke:#000000; stroke-width:2; stroke-opacity:0.1; fill:none\" points=\"\n",
       "  189.504,1126.49 2321.26,1126.49 \n",
       "  \"/>\n",
       "<polyline clip-path=\"url(#clip6003)\" style=\"stroke:#000000; stroke-width:2; stroke-opacity:0.1; fill:none\" points=\"\n",
       "  189.504,777.078 2321.26,777.078 \n",
       "  \"/>\n",
       "<polyline clip-path=\"url(#clip6003)\" style=\"stroke:#000000; stroke-width:2; stroke-opacity:0.1; fill:none\" points=\"\n",
       "  189.504,427.662 2321.26,427.662 \n",
       "  \"/>\n",
       "<polyline clip-path=\"url(#clip6003)\" style=\"stroke:#000000; stroke-width:2; stroke-opacity:0.1; fill:none\" points=\"\n",
       "  189.504,78.2462 2321.26,78.2462 \n",
       "  \"/>\n",
       "<polyline clip-path=\"url(#clip6001)\" style=\"stroke:#000000; stroke-width:4; stroke-opacity:1; fill:none\" points=\"\n",
       "  189.504,1503.47 2321.26,1503.47 \n",
       "  \"/>\n",
       "<polyline clip-path=\"url(#clip6001)\" style=\"stroke:#000000; stroke-width:4; stroke-opacity:1; fill:none\" points=\"\n",
       "  189.504,1503.47 189.504,47.2441 \n",
       "  \"/>\n",
       "<polyline clip-path=\"url(#clip6001)\" style=\"stroke:#000000; stroke-width:4; stroke-opacity:1; fill:none\" points=\"\n",
       "  244.899,1503.47 244.899,1481.63 \n",
       "  \"/>\n",
       "<polyline clip-path=\"url(#clip6001)\" style=\"stroke:#000000; stroke-width:4; stroke-opacity:1; fill:none\" points=\"\n",
       "  750.513,1503.47 750.513,1481.63 \n",
       "  \"/>\n",
       "<polyline clip-path=\"url(#clip6001)\" style=\"stroke:#000000; stroke-width:4; stroke-opacity:1; fill:none\" points=\"\n",
       "  1256.13,1503.47 1256.13,1481.63 \n",
       "  \"/>\n",
       "<polyline clip-path=\"url(#clip6001)\" style=\"stroke:#000000; stroke-width:4; stroke-opacity:1; fill:none\" points=\"\n",
       "  1761.74,1503.47 1761.74,1481.63 \n",
       "  \"/>\n",
       "<polyline clip-path=\"url(#clip6001)\" style=\"stroke:#000000; stroke-width:4; stroke-opacity:1; fill:none\" points=\"\n",
       "  2267.35,1503.47 2267.35,1481.63 \n",
       "  \"/>\n",
       "<polyline clip-path=\"url(#clip6001)\" style=\"stroke:#000000; stroke-width:4; stroke-opacity:1; fill:none\" points=\"\n",
       "  189.504,1475.91 221.48,1475.91 \n",
       "  \"/>\n",
       "<polyline clip-path=\"url(#clip6001)\" style=\"stroke:#000000; stroke-width:4; stroke-opacity:1; fill:none\" points=\"\n",
       "  189.504,1126.49 221.48,1126.49 \n",
       "  \"/>\n",
       "<polyline clip-path=\"url(#clip6001)\" style=\"stroke:#000000; stroke-width:4; stroke-opacity:1; fill:none\" points=\"\n",
       "  189.504,777.078 221.48,777.078 \n",
       "  \"/>\n",
       "<polyline clip-path=\"url(#clip6001)\" style=\"stroke:#000000; stroke-width:4; stroke-opacity:1; fill:none\" points=\"\n",
       "  189.504,427.662 221.48,427.662 \n",
       "  \"/>\n",
       "<polyline clip-path=\"url(#clip6001)\" style=\"stroke:#000000; stroke-width:4; stroke-opacity:1; fill:none\" points=\"\n",
       "  189.504,78.2462 221.48,78.2462 \n",
       "  \"/>\n",
       "<g clip-path=\"url(#clip6001)\">\n",
       "<text style=\"fill:#000000; fill-opacity:1; font-family:Arial,Helvetica Neue,Helvetica,sans-serif; font-size:48px; text-anchor:middle;\" transform=\"rotate(0, 244.899, 1557.47)\" x=\"244.899\" y=\"1557.47\">-1.0</text>\n",
       "</g>\n",
       "<g clip-path=\"url(#clip6001)\">\n",
       "<text style=\"fill:#000000; fill-opacity:1; font-family:Arial,Helvetica Neue,Helvetica,sans-serif; font-size:48px; text-anchor:middle;\" transform=\"rotate(0, 750.513, 1557.47)\" x=\"750.513\" y=\"1557.47\">-0.5</text>\n",
       "</g>\n",
       "<g clip-path=\"url(#clip6001)\">\n",
       "<text style=\"fill:#000000; fill-opacity:1; font-family:Arial,Helvetica Neue,Helvetica,sans-serif; font-size:48px; text-anchor:middle;\" transform=\"rotate(0, 1256.13, 1557.47)\" x=\"1256.13\" y=\"1557.47\">0.0</text>\n",
       "</g>\n",
       "<g clip-path=\"url(#clip6001)\">\n",
       "<text style=\"fill:#000000; fill-opacity:1; font-family:Arial,Helvetica Neue,Helvetica,sans-serif; font-size:48px; text-anchor:middle;\" transform=\"rotate(0, 1761.74, 1557.47)\" x=\"1761.74\" y=\"1557.47\">0.5</text>\n",
       "</g>\n",
       "<g clip-path=\"url(#clip6001)\">\n",
       "<text style=\"fill:#000000; fill-opacity:1; font-family:Arial,Helvetica Neue,Helvetica,sans-serif; font-size:48px; text-anchor:middle;\" transform=\"rotate(0, 2267.35, 1557.47)\" x=\"2267.35\" y=\"1557.47\">1.0</text>\n",
       "</g>\n",
       "<g clip-path=\"url(#clip6001)\">\n",
       "<text style=\"fill:#000000; fill-opacity:1; font-family:Arial,Helvetica Neue,Helvetica,sans-serif; font-size:48px; text-anchor:end;\" transform=\"rotate(0, 165.504, 1493.41)\" x=\"165.504\" y=\"1493.41\">-1.0</text>\n",
       "</g>\n",
       "<g clip-path=\"url(#clip6001)\">\n",
       "<text style=\"fill:#000000; fill-opacity:1; font-family:Arial,Helvetica Neue,Helvetica,sans-serif; font-size:48px; text-anchor:end;\" transform=\"rotate(0, 165.504, 1143.99)\" x=\"165.504\" y=\"1143.99\">-0.5</text>\n",
       "</g>\n",
       "<g clip-path=\"url(#clip6001)\">\n",
       "<text style=\"fill:#000000; fill-opacity:1; font-family:Arial,Helvetica Neue,Helvetica,sans-serif; font-size:48px; text-anchor:end;\" transform=\"rotate(0, 165.504, 794.578)\" x=\"165.504\" y=\"794.578\">0.0</text>\n",
       "</g>\n",
       "<g clip-path=\"url(#clip6001)\">\n",
       "<text style=\"fill:#000000; fill-opacity:1; font-family:Arial,Helvetica Neue,Helvetica,sans-serif; font-size:48px; text-anchor:end;\" transform=\"rotate(0, 165.504, 445.162)\" x=\"165.504\" y=\"445.162\">0.5</text>\n",
       "</g>\n",
       "<g clip-path=\"url(#clip6001)\">\n",
       "<text style=\"fill:#000000; fill-opacity:1; font-family:Arial,Helvetica Neue,Helvetica,sans-serif; font-size:48px; text-anchor:end;\" transform=\"rotate(0, 165.504, 95.7462)\" x=\"165.504\" y=\"95.7462\">1.0</text>\n",
       "</g>\n",
       "<polyline clip-path=\"url(#clip6003)\" style=\"stroke:#009af9; stroke-width:4; stroke-opacity:1; fill:none\" points=\"\n",
       "  264.65,1462.26 447.276,1336.05 557.026,1260.21 649.819,1196.08 750.618,1126.42 843.545,1062.2 943.173,993.351 1058.6,913.581 1161.18,842.691 1251.14,780.527 \n",
       "  1349.21,712.751 1447.86,644.573 1556.94,569.193 1660.72,497.471 1768.64,422.896 1859.47,360.12 1970.38,283.478 2074.63,211.432 2241.65,96.0093 \n",
       "  \"/>\n",
       "<polyline clip-path=\"url(#clip6003)\" style=\"stroke:#e26f46; stroke-width:4; stroke-opacity:1; fill:none\" points=\"\n",
       "  249.837,88.4582 254.775,98.6202 259.712,108.732 264.65,118.794 310.306,209.464 355.963,295.861 401.619,377.984 447.276,455.833 502.151,543.746 557.026,625.486 \n",
       "  603.423,689.779 649.819,749.658 700.218,809.703 750.618,864.541 797.081,910.483 843.545,951.998 893.359,991.591 943.173,1026.1 1000.89,1059.71 1058.6,1086.5 \n",
       "  1109.89,1104.57 1161.18,1117.25 1206.16,1123.93 1251.14,1126.47 1300.17,1124.51 1349.21,1117.61 1398.54,1105.7 1447.86,1088.81 1502.4,1064.32 1556.94,1033.73 \n",
       "  1608.83,998.969 1660.72,958.685 1714.68,910.944 1768.64,857.234 1814.06,807.396 1859.47,753.328 1914.93,681.583 1970.38,603.534 2022.5,524.417 2074.63,439.73 \n",
       "  2116.38,367.874 2158.14,292.443 2199.89,213.438 2241.65,130.858 2248.08,117.832 2254.5,104.721 2260.93,91.5262 \n",
       "  \"/>\n",
       "<polyline clip-path=\"url(#clip6003)\" style=\"stroke:#3da44d; stroke-width:4; stroke-opacity:1; fill:none\" points=\"\n",
       "  249.837,1455.56 254.775,1435.46 259.712,1415.61 264.65,1396 287.478,1308.52 310.306,1226.16 333.135,1148.79 355.963,1076.3 378.791,1008.56 401.619,945.464 \n",
       "  424.448,886.878 447.276,832.685 474.713,773.194 502.151,719.665 529.589,671.891 557.026,629.661 580.224,598.128 603.423,570.281 626.621,545.995 649.819,525.143 \n",
       "  675.019,506.237 700.218,491.07 725.418,479.483 750.618,471.312 773.85,466.666 797.081,464.658 820.313,465.162 843.545,468.05 868.452,473.65 893.359,481.689 \n",
       "  918.266,492.009 943.173,504.453 972.031,521.322 1000.89,540.589 1029.75,562.011 1058.6,585.344 1161.18,680.104 1251.14,771.905 1349.21,872.206 1447.86,963.926 \n",
       "  1475.13,986.356 1502.4,1007.13 1529.67,1026.06 1556.94,1042.92 1582.89,1056.86 1608.83,1068.57 1634.78,1077.87 1660.72,1084.59 1687.7,1088.64 1714.68,1089.51 \n",
       "  1741.66,1087 1768.64,1080.91 1791.35,1072.85 1814.06,1062 1836.76,1048.24 1859.47,1031.43 1887.2,1006.63 1914.93,976.908 1942.65,942.053 1970.38,901.848 \n",
       "  1996.44,858.983 2022.5,811.02 2048.57,757.78 2074.63,699.084 2095.51,648.008 2116.38,593.224 2137.26,534.638 2158.14,472.16 2179.02,405.696 2199.89,335.154 \n",
       "  2220.77,260.441 2241.65,181.467 2248.08,156.287 2254.5,130.692 2260.93,104.68 \n",
       "  \"/>\n",
       "<polyline clip-path=\"url(#clip6003)\" style=\"stroke:#c271d2; stroke-width:4; stroke-opacity:1; fill:none\" points=\"\n",
       "  249.837,111.996 254.775,145.005 259.712,177.28 264.65,208.832 276.064,279.04 287.478,345.525 298.892,408.389 310.306,467.732 321.721,523.654 333.135,576.252 \n",
       "  344.549,625.623 355.963,671.864 367.377,715.069 378.791,755.33 390.205,792.741 401.619,827.392 413.033,859.373 424.448,888.772 435.862,915.677 447.276,940.174 \n",
       "  460.995,966.552 474.713,989.718 488.432,1009.82 502.151,1026.99 515.87,1041.37 529.589,1053.1 543.307,1062.31 557.026,1069.12 580.224,1075.57 603.423,1076.14 \n",
       "  626.621,1071.43 649.819,1061.99 675.019,1047.01 700.218,1027.76 725.418,1004.88 750.618,978.971 797.081,925.214 843.545,866.534 893.359,801.637 943.173,737.964 \n",
       "  1000.89,669.561 1058.6,610.553 1084.25,588.174 1109.89,568.482 1135.54,551.665 1161.18,537.88 1183.67,528.389 1206.16,521.396 1228.65,516.95 1251.14,515.08 \n",
       "  1275.65,515.993 1300.17,519.977 1324.69,526.999 1349.21,537.001 1373.87,549.985 1398.54,565.788 1423.2,584.274 1447.86,605.28 1502.4,659.697 1556.94,722.977 \n",
       "  1608.83,788.579 1660.72,856.186 1714.68,924.615 1768.64,986.438 1791.35,1009.21 1814.06,1029.45 1836.76,1046.69 1859.47,1060.47 1887.2,1071.9 1914.93,1076.53 \n",
       "  1942.65,1073.38 1970.38,1061.46 1983.41,1052.53 1996.44,1041.32 2009.47,1027.71 2022.5,1011.59 2035.53,992.842 2048.57,971.345 2061.6,946.976 2074.63,919.612 \n",
       "  2085.07,895.446 2095.51,869.212 2105.95,840.843 2116.38,810.27 2126.82,777.427 2137.26,742.244 2147.7,704.651 2158.14,664.577 2168.58,621.951 2179.02,576.701 \n",
       "  2189.46,528.752 2199.89,478.031 2210.33,424.464 2220.77,367.974 2231.21,308.484 2241.65,245.918 2248.08,205.839 2254.5,164.547 2260.93,122.022 \n",
       "  \"/>\n",
       "<polyline clip-path=\"url(#clip6003)\" style=\"stroke:#ac8d18; stroke-width:4; stroke-opacity:1; fill:none\" points=\"\n",
       "  249.837,1425.59 254.775,1376.99 259.712,1330.08 264.65,1284.81 276.064,1186.29 287.478,1096.01 298.892,1013.58 310.306,938.622 321.721,870.765 333.135,809.653 \n",
       "  344.549,754.94 355.963,706.285 367.377,663.362 378.791,625.852 390.205,593.444 401.619,565.84 413.033,542.748 424.448,523.887 435.862,508.982 447.276,497.772 \n",
       "  460.995,488.825 474.713,484.418 488.432,484.143 502.151,487.605 515.87,494.432 529.589,504.263 543.307,516.757 557.026,531.588 580.224,561.122 603.423,595.058 \n",
       "  626.621,632.118 649.819,671.141 700.218,757.829 750.618,840.025 773.85,874.461 797.081,905.971 820.313,934.132 843.545,958.604 868.452,980.449 893.359,997.531 \n",
       "  918.266,1009.72 943.173,1016.97 972.031,1019.24 1000.89,1015.12 1029.75,1004.9 1058.6,989.015 1084.25,970.546 1109.89,948.419 1135.54,923.096 1161.18,895.082 \n",
       "  1206.16,841.088 1251.14,783.544 1300.17,720.51 1349.21,661.198 1373.87,634.042 1398.54,609.322 1423.2,587.49 1447.86,568.965 1475.13,552.791 1502.4,541.576 \n",
       "  1529.67,535.695 1556.94,535.439 1582.89,540.598 1608.83,551.109 1634.78,566.961 1660.72,588.045 1687.7,615.278 1714.68,647.555 1741.66,684.355 1768.64,725.008 \n",
       "  1814.06,799.77 1859.47,877.95 1887.2,924.618 1914.93,968.368 1942.65,1007.19 1970.38,1038.82 1983.41,1050.5 1996.44,1059.76 2009.47,1066.31 2022.5,1069.84 \n",
       "  2035.53,1070.03 2048.57,1066.54 2061.6,1059.03 2074.63,1047.14 2085.07,1034.19 2095.51,1017.99 2105.95,998.328 2116.38,974.988 2126.82,947.752 2137.26,916.395 \n",
       "  2147.7,880.685 2158.14,840.382 2168.58,795.242 2179.02,745.012 2189.46,689.434 2199.89,628.243 2210.33,561.164 2220.77,487.92 2231.21,408.224 2241.65,321.78 \n",
       "  2248.08,265.083 2254.5,205.643 2260.93,143.389 \n",
       "  \"/>\n",
       "<polygon clip-path=\"url(#clip6001)\" points=\"\n",
       "1982.5,493.644 2249.26,493.644 2249.26,130.764 1982.5,130.764 \n",
       "  \" fill=\"#ffffff\" fill-rule=\"evenodd\" fill-opacity=\"1\"/>\n",
       "<polyline clip-path=\"url(#clip6001)\" style=\"stroke:#000000; stroke-width:4; stroke-opacity:1; fill:none\" points=\"\n",
       "  1982.5,493.644 2249.26,493.644 2249.26,130.764 1982.5,130.764 1982.5,493.644 \n",
       "  \"/>\n",
       "<polyline clip-path=\"url(#clip6001)\" style=\"stroke:#009af9; stroke-width:4; stroke-opacity:1; fill:none\" points=\"\n",
       "  2006.5,191.244 2150.5,191.244 \n",
       "  \"/>\n",
       "<g clip-path=\"url(#clip6001)\">\n",
       "<text style=\"fill:#000000; fill-opacity:1; font-family:Arial,Helvetica Neue,Helvetica,sans-serif; font-size:48px; text-anchor:start;\" transform=\"rotate(0, 2174.5, 208.744)\" x=\"2174.5\" y=\"208.744\">1</text>\n",
       "</g>\n",
       "<polyline clip-path=\"url(#clip6001)\" style=\"stroke:#e26f46; stroke-width:4; stroke-opacity:1; fill:none\" points=\"\n",
       "  2006.5,251.724 2150.5,251.724 \n",
       "  \"/>\n",
       "<g clip-path=\"url(#clip6001)\">\n",
       "<text style=\"fill:#000000; fill-opacity:1; font-family:Arial,Helvetica Neue,Helvetica,sans-serif; font-size:48px; text-anchor:start;\" transform=\"rotate(0, 2174.5, 269.224)\" x=\"2174.5\" y=\"269.224\">2</text>\n",
       "</g>\n",
       "<polyline clip-path=\"url(#clip6001)\" style=\"stroke:#3da44d; stroke-width:4; stroke-opacity:1; fill:none\" points=\"\n",
       "  2006.5,312.204 2150.5,312.204 \n",
       "  \"/>\n",
       "<g clip-path=\"url(#clip6001)\">\n",
       "<text style=\"fill:#000000; fill-opacity:1; font-family:Arial,Helvetica Neue,Helvetica,sans-serif; font-size:48px; text-anchor:start;\" transform=\"rotate(0, 2174.5, 329.704)\" x=\"2174.5\" y=\"329.704\">3</text>\n",
       "</g>\n",
       "<polyline clip-path=\"url(#clip6001)\" style=\"stroke:#c271d2; stroke-width:4; stroke-opacity:1; fill:none\" points=\"\n",
       "  2006.5,372.684 2150.5,372.684 \n",
       "  \"/>\n",
       "<g clip-path=\"url(#clip6001)\">\n",
       "<text style=\"fill:#000000; fill-opacity:1; font-family:Arial,Helvetica Neue,Helvetica,sans-serif; font-size:48px; text-anchor:start;\" transform=\"rotate(0, 2174.5, 390.184)\" x=\"2174.5\" y=\"390.184\">4</text>\n",
       "</g>\n",
       "<polyline clip-path=\"url(#clip6001)\" style=\"stroke:#ac8d18; stroke-width:4; stroke-opacity:1; fill:none\" points=\"\n",
       "  2006.5,433.164 2150.5,433.164 \n",
       "  \"/>\n",
       "<g clip-path=\"url(#clip6001)\">\n",
       "<text style=\"fill:#000000; fill-opacity:1; font-family:Arial,Helvetica Neue,Helvetica,sans-serif; font-size:48px; text-anchor:start;\" transform=\"rotate(0, 2174.5, 450.664)\" x=\"2174.5\" y=\"450.664\">5</text>\n",
       "</g>\n",
       "</svg>\n"
      ]
     },
     "execution_count": 8,
     "metadata": {},
     "output_type": "execute_result"
    }
   ],
   "source": [
    "plot(x->legendre(1)(x),-1,1,label=\"1\")\n",
    "plot!(x->legendre(2)(x),-1,1,label=\"2\")\n",
    "plot!(x->legendre(3)(x),-1,1,label=\"3\")\n",
    "plot!(x->legendre(4)(x),-1,1,label=\"4\")\n",
    "plot!(x->legendre(5)(x),-1,1,label=\"5\")"
   ]
  },
  {
   "cell_type": "code",
   "execution_count": 9,
   "metadata": {},
   "outputs": [
    {
     "data": {
      "text/plain": [
       "([-0.57735, 0.57735], [-0.57735, 0.57735])"
      ]
     },
     "execution_count": 9,
     "metadata": {},
     "output_type": "execute_result"
    }
   ],
   "source": [
    "roots(legendre(2)), gauss(Float64,2)[1]"
   ]
  },
  {
   "cell_type": "code",
   "execution_count": 10,
   "metadata": {},
   "outputs": [
    {
     "data": {
      "text/plain": [
       "([-0.774597, 0.774597, 0.0], [-0.774597, 0.0, 0.774597])"
      ]
     },
     "execution_count": 10,
     "metadata": {},
     "output_type": "execute_result"
    }
   ],
   "source": [
    "roots(legendre(3)), gauss(Float64,3)[1]"
   ]
  },
  {
   "cell_type": "code",
   "execution_count": 11,
   "metadata": {},
   "outputs": [
    {
     "data": {
      "text/plain": [
       "([-0.861136, 0.861136, -0.339981, 0.339981], [-0.861136, -0.339981, 0.339981, 0.861136])"
      ]
     },
     "execution_count": 11,
     "metadata": {},
     "output_type": "execute_result"
    }
   ],
   "source": [
    "roots(legendre(4)), gauss(Float64,4)[1]"
   ]
  },
  {
   "cell_type": "code",
   "execution_count": 12,
   "metadata": {},
   "outputs": [
    {
     "data": {
      "text/plain": [
       "intGauss (generic function with 1 method)"
      ]
     },
     "execution_count": 12,
     "metadata": {},
     "output_type": "execute_result"
    }
   ],
   "source": [
    "function intGauss(k, f)\n",
    "    (x,w) = gauss(Float64,k)\n",
    "    sum(w .* f.(x))   \n",
    "end"
   ]
  },
  {
   "cell_type": "code",
   "execution_count": 13,
   "metadata": {},
   "outputs": [
    {
     "data": {
      "text/plain": [
       "(0.6666666666666667, 0.6666666666666667)"
      ]
     },
     "execution_count": 13,
     "metadata": {},
     "output_type": "execute_result"
    }
   ],
   "source": [
    "f1 = x -> x*x\n",
    "intGauss(2,f1), quadgk(f1,-1,1)[1]"
   ]
  },
  {
   "cell_type": "code",
   "execution_count": 14,
   "metadata": {},
   "outputs": [
    {
     "data": {
      "text/plain": [
       "(1.6829416886959732, 1.6829419696157932)"
      ]
     },
     "execution_count": 14,
     "metadata": {},
     "output_type": "execute_result"
    }
   ],
   "source": [
    "f3 = x -> cos.(x)\n",
    "intGauss(4,f3), quadgk(f3,-1,1)[1]"
   ]
  },
  {
   "cell_type": "code",
   "execution_count": 15,
   "metadata": {},
   "outputs": [],
   "source": [
    "data = DataFrame(k = Int64[], gauss = Float64[], quadqk = Float64[], isEqual = Bool[])\n",
    "d = Int64[]\n",
    "for i in 1:1:20\n",
    "    append!(d,[Int64(i)])\n",
    "    p = poly(d)\n",
    "    for k in 1:1:3\n",
    "        xg = intGauss(k,p)\n",
    "        xq = quadgk(p,-1,1)[1]\n",
    "        push!(data,[k, xg, xq, (xg≈xq)])     \n",
    "    end\n",
    "end "
   ]
  },
  {
   "cell_type": "code",
   "execution_count": 16,
   "metadata": {},
   "outputs": [
    {
     "data": {
      "text/html": [
       "<table class=\"data-frame\"><thead><tr><th></th><th>k</th><th>gauss</th><th>quadqk</th><th>isEqual</th></tr><tr><th></th><th>Int64</th><th>Float64</th><th>Float64</th><th>Bool</th></tr></thead><tbody><tr><th>1</th><td>1</td><td>-2.0</td><td>-2.0</td><td>true</td></tr><tr><th>2</th><td>2</td><td>-2.0</td><td>-2.0</td><td>true</td></tr><tr><th>3</th><td>3</td><td>-2.0</td><td>-2.0</td><td>true</td></tr><tr><th>4</th><td>1</td><td>4.0</td><td>4.66667</td><td>false</td></tr><tr><th>5</th><td>2</td><td>4.66667</td><td>4.66667</td><td>true</td></tr><tr><th>6</th><td>3</td><td>4.66667</td><td>4.66667</td><td>true</td></tr><tr><th>7</th><td>1</td><td>-12.0</td><td>-16.0</td><td>false</td></tr><tr><th>8</th><td>2</td><td>-16.0</td><td>-16.0</td><td>true</td></tr><tr><th>9</th><td>3</td><td>-16.0</td><td>-16.0</td><td>true</td></tr><tr><th>10</th><td>1</td><td>48.0</td><td>71.7333</td><td>false</td></tr><tr><th>11</th><td>2</td><td>71.5556</td><td>71.7333</td><td>false</td></tr><tr><th>12</th><td>3</td><td>71.7333</td><td>71.7333</td><td>true</td></tr><tr><th>13</th><td>1</td><td>-240.0</td><td>-396.0</td><td>false</td></tr><tr><th>14</th><td>2</td><td>-393.333</td><td>-396.0</td><td>false</td></tr><tr><th>15</th><td>3</td><td>-396.0</td><td>-396.0</td><td>true</td></tr><tr><th>16</th><td>1</td><td>1440.0</td><td>2592.95</td><td>false</td></tr><tr><th>17</th><td>2</td><td>2561.63</td><td>2592.95</td><td>false</td></tr><tr><th>18</th><td>3</td><td>2592.91</td><td>2592.95</td><td>false</td></tr><tr><th>19</th><td>1</td><td>-10080.0</td><td>-19626.7</td><td>false</td></tr><tr><th>20</th><td>2</td><td>-19272.3</td><td>-19626.7</td><td>false</td></tr><tr><th>21</th><td>3</td><td>-19625.4</td><td>-19626.7</td><td>false</td></tr><tr><th>22</th><td>1</td><td>80640.0</td><td>1.68525e5</td><td>false</td></tr><tr><th>23</th><td>2</td><td>1.64418e5</td><td>1.68525e5</td><td>false</td></tr><tr><th>24</th><td>3</td><td>1.685e5</td><td>1.68525e5</td><td>false</td></tr><tr><th>25</th><td>1</td><td>-725760.0</td><td>-1.618e6</td><td>false</td></tr><tr><th>26</th><td>2</td><td>-1.56811e6</td><td>-1.618e6</td><td>false</td></tr><tr><th>27</th><td>3</td><td>-1.61756e6</td><td>-1.618e6</td><td>false</td></tr><tr><th>28</th><td>1</td><td>7.2576e6</td><td>1.71721e7</td><td>false</td></tr><tr><th>29</th><td>2</td><td>1.6531e7</td><td>1.71721e7</td><td>false</td></tr><tr><th>30</th><td>3</td><td>1.71648e7</td><td>1.71721e7</td><td>false</td></tr><tr><th>&vellip;</th><td>&vellip;</td><td>&vellip;</td><td>&vellip;</td><td>&vellip;</td></tr></tbody></table>"
      ],
      "text/plain": [
       "60×4 DataFrame\n",
       "│ Row │ k     │ gauss       │ quadqk      │ isEqual │\n",
       "│     │ \u001b[90mInt64\u001b[39m │ \u001b[90mFloat64\u001b[39m     │ \u001b[90mFloat64\u001b[39m     │ \u001b[90mBool\u001b[39m    │\n",
       "├─────┼───────┼─────────────┼─────────────┼─────────┤\n",
       "│ 1   │ 1     │ -2.0        │ -2.0        │ true    │\n",
       "│ 2   │ 2     │ -2.0        │ -2.0        │ true    │\n",
       "│ 3   │ 3     │ -2.0        │ -2.0        │ true    │\n",
       "│ 4   │ 1     │ 4.0         │ 4.66667     │ false   │\n",
       "│ 5   │ 2     │ 4.66667     │ 4.66667     │ true    │\n",
       "│ 6   │ 3     │ 4.66667     │ 4.66667     │ true    │\n",
       "│ 7   │ 1     │ -12.0       │ -16.0       │ false   │\n",
       "│ 8   │ 2     │ -16.0       │ -16.0       │ true    │\n",
       "│ 9   │ 3     │ -16.0       │ -16.0       │ true    │\n",
       "│ 10  │ 1     │ 48.0        │ 71.7333     │ false   │\n",
       "⋮\n",
       "│ 50  │ 2     │ -2.13612e15 │ -2.32196e15 │ false   │\n",
       "│ 51  │ 3     │ -2.31658e15 │ -2.32196e15 │ false   │\n",
       "│ 52  │ 1     │ 1.28047e16  │ 4.33553e16  │ false   │\n",
       "│ 53  │ 2     │ 3.96455e16  │ 4.33553e16  │ false   │\n",
       "│ 54  │ 3     │ 4.32395e16  │ 4.33553e16  │ false   │\n",
       "│ 55  │ 1     │ -2.4329e17  │ -8.53081e17 │ false   │\n",
       "│ 56  │ 2     │ -7.75493e17 │ -8.53081e17 │ false   │\n",
       "│ 57  │ 3     │ -8.50491e17 │ -8.53081e17 │ false   │\n",
       "│ 58  │ 1     │ 4.8658e18   │ 5.34461e18  │ false   │\n",
       "│ 59  │ 2     │ 3.64761e18  │ 5.34461e18  │ false   │\n",
       "│ 60  │ 3     │ 5.28439e18  │ 5.34461e18  │ false   │"
      ]
     },
     "execution_count": 16,
     "metadata": {},
     "output_type": "execute_result"
    }
   ],
   "source": [
    "data"
   ]
  },
  {
   "cell_type": "markdown",
   "metadata": {},
   "source": [
    "# zadanie 3\n",
    "$\\int_{a}^{b} f(x) dx$\n",
    "\n",
    "$x=\\frac{b+a}{2}+ \\frac{b-a}{2} z $\n",
    "\n",
    "$dx =\\frac{b-a}{2} dz $"
   ]
  },
  {
   "cell_type": "code",
   "execution_count": 17,
   "metadata": {},
   "outputs": [
    {
     "data": {
      "text/plain": [
       "integralFun (generic function with 1 method)"
      ]
     },
     "execution_count": 17,
     "metadata": {},
     "output_type": "execute_result"
    }
   ],
   "source": [
    "function integralFun(f, a, b)\n",
    "    fz(x) = f(((b+a)/2)+((b-a)/2)*x)\n",
    "    return((b-a)/2*intGauss(5,fz))\n",
    "end"
   ]
  },
  {
   "cell_type": "code",
   "execution_count": 18,
   "metadata": {},
   "outputs": [],
   "source": [
    "data1 = DataFrame( a = Int64[], b = Int64[], integral = Float64[], quadqk = Float64[], isEqual = Bool[])\n",
    "d = Int64[]\n",
    "a=1\n",
    "b=5\n",
    "for i in 1:1:20\n",
    "    append!(d,[Int64(i)])\n",
    "    p = poly(d)\n",
    "    xg = integralFun(p,a,b)\n",
    "    xq = quadgk(p,a,b)[1]\n",
    "    push!(data1,[a, b, xg, xq, (xg≈xq)])\n",
    "    a = a-1\n",
    "    b = b-1\n",
    "end "
   ]
  },
  {
   "cell_type": "code",
   "execution_count": 19,
   "metadata": {},
   "outputs": [
    {
     "data": {
      "text/html": [
       "<table class=\"data-frame\"><thead><tr><th></th><th>a</th><th>b</th><th>integral</th><th>quadqk</th><th>isEqual</th></tr><tr><th></th><th>Int64</th><th>Int64</th><th>Float64</th><th>Float64</th><th>Bool</th></tr></thead><tbody><tr><th>1</th><td>1</td><td>5</td><td>8.0</td><td>8.0</td><td>true</td></tr><tr><th>2</th><td>0</td><td>4</td><td>5.33333</td><td>5.33333</td><td>true</td></tr><tr><th>3</th><td>-1</td><td>3</td><td>-16.0</td><td>-16.0</td><td>true</td></tr><tr><th>4</th><td>-2</td><td>2</td><td>295.467</td><td>295.467</td><td>true</td></tr><tr><th>5</th><td>-3</td><td>1</td><td>-6229.33</td><td>-6229.33</td><td>true</td></tr><tr><th>6</th><td>-4</td><td>0</td><td>1.51194e5</td><td>1.51194e5</td><td>true</td></tr><tr><th>7</th><td>-5</td><td>-1</td><td>-4.20015e6</td><td>-4.20015e6</td><td>true</td></tr><tr><th>8</th><td>-6</td><td>-2</td><td>1.3213e8</td><td>1.3213e8</td><td>true</td></tr><tr><th>9</th><td>-7</td><td>-3</td><td>-4.65539e9</td><td>-4.65539e9</td><td>true</td></tr><tr><th>10</th><td>-8</td><td>-4</td><td>1.81876e11</td><td>1.81876e11</td><td>true</td></tr><tr><th>11</th><td>-9</td><td>-5</td><td>-7.80999e12</td><td>-7.80999e12</td><td>true</td></tr><tr><th>12</th><td>-10</td><td>-6</td><td>3.65829e14</td><td>3.65829e14</td><td>true</td></tr><tr><th>13</th><td>-11</td><td>-7</td><td>-1.85695e16</td><td>-1.85695e16</td><td>true</td></tr><tr><th>14</th><td>-12</td><td>-8</td><td>1.01563e18</td><td>1.01563e18</td><td>true</td></tr><tr><th>15</th><td>-13</td><td>-9</td><td>-5.9554e19</td><td>-5.9554e19</td><td>true</td></tr><tr><th>16</th><td>-14</td><td>-10</td><td>3.72747e21</td><td>3.72747e21</td><td>true</td></tr><tr><th>17</th><td>-15</td><td>-11</td><td>-2.48058e23</td><td>-2.48058e23</td><td>true</td></tr><tr><th>18</th><td>-16</td><td>-12</td><td>1.74913e25</td><td>1.74913e25</td><td>true</td></tr><tr><th>19</th><td>-17</td><td>-13</td><td>-1.30278e27</td><td>-1.30278e27</td><td>true</td></tr><tr><th>20</th><td>-18</td><td>-14</td><td>1.02207e29</td><td>1.02207e29</td><td>true</td></tr></tbody></table>"
      ],
      "text/plain": [
       "20×5 DataFrame\n",
       "│ Row │ a     │ b     │ integral    │ quadqk      │ isEqual │\n",
       "│     │ \u001b[90mInt64\u001b[39m │ \u001b[90mInt64\u001b[39m │ \u001b[90mFloat64\u001b[39m     │ \u001b[90mFloat64\u001b[39m     │ \u001b[90mBool\u001b[39m    │\n",
       "├─────┼───────┼───────┼─────────────┼─────────────┼─────────┤\n",
       "│ 1   │ 1     │ 5     │ 8.0         │ 8.0         │ true    │\n",
       "│ 2   │ 0     │ 4     │ 5.33333     │ 5.33333     │ true    │\n",
       "│ 3   │ -1    │ 3     │ -16.0       │ -16.0       │ true    │\n",
       "│ 4   │ -2    │ 2     │ 295.467     │ 295.467     │ true    │\n",
       "│ 5   │ -3    │ 1     │ -6229.33    │ -6229.33    │ true    │\n",
       "│ 6   │ -4    │ 0     │ 1.51194e5   │ 1.51194e5   │ true    │\n",
       "│ 7   │ -5    │ -1    │ -4.20015e6  │ -4.20015e6  │ true    │\n",
       "│ 8   │ -6    │ -2    │ 1.3213e8    │ 1.3213e8    │ true    │\n",
       "│ 9   │ -7    │ -3    │ -4.65539e9  │ -4.65539e9  │ true    │\n",
       "│ 10  │ -8    │ -4    │ 1.81876e11  │ 1.81876e11  │ true    │\n",
       "│ 11  │ -9    │ -5    │ -7.80999e12 │ -7.80999e12 │ true    │\n",
       "│ 12  │ -10   │ -6    │ 3.65829e14  │ 3.65829e14  │ true    │\n",
       "│ 13  │ -11   │ -7    │ -1.85695e16 │ -1.85695e16 │ true    │\n",
       "│ 14  │ -12   │ -8    │ 1.01563e18  │ 1.01563e18  │ true    │\n",
       "│ 15  │ -13   │ -9    │ -5.9554e19  │ -5.9554e19  │ true    │\n",
       "│ 16  │ -14   │ -10   │ 3.72747e21  │ 3.72747e21  │ true    │\n",
       "│ 17  │ -15   │ -11   │ -2.48058e23 │ -2.48058e23 │ true    │\n",
       "│ 18  │ -16   │ -12   │ 1.74913e25  │ 1.74913e25  │ true    │\n",
       "│ 19  │ -17   │ -13   │ -1.30278e27 │ -1.30278e27 │ true    │\n",
       "│ 20  │ -18   │ -14   │ 1.02207e29  │ 1.02207e29  │ true    │"
      ]
     },
     "execution_count": 19,
     "metadata": {},
     "output_type": "execute_result"
    }
   ],
   "source": [
    "data1"
   ]
  },
  {
   "cell_type": "markdown",
   "metadata": {},
   "source": [
    "# Zadanie 4"
   ]
  },
  {
   "cell_type": "markdown",
   "metadata": {},
   "source": [
    "rozkładu normalny Gaussa \n",
    "\n",
    "$ \\frac{1}{\\sqrt{2\\pi}}exp(\\frac{-x^2}{2})$"
   ]
  },
  {
   "cell_type": "code",
   "execution_count": 20,
   "metadata": {},
   "outputs": [
    {
     "data": {
      "text/plain": [
       "#18 (generic function with 1 method)"
      ]
     },
     "execution_count": 20,
     "metadata": {},
     "output_type": "execute_result"
    }
   ],
   "source": [
    "rnG = x -> 1/√(2*pi)*exp.(-x^2/2)"
   ]
  },
  {
   "cell_type": "code",
   "execution_count": 21,
   "metadata": {},
   "outputs": [
    {
     "data": {
      "text/plain": [
       "(1.0000000000032583, 0.9999994266968563)"
      ]
     },
     "execution_count": 21,
     "metadata": {},
     "output_type": "execute_result"
    }
   ],
   "source": [
    "quadgk(rnG,-Inf,+Inf)[1], quadgk(rnG,-5,+5)[1]"
   ]
  },
  {
   "cell_type": "code",
   "execution_count": 22,
   "metadata": {},
   "outputs": [
    {
     "data": {
      "image/svg+xml": [
       "<?xml version=\"1.0\" encoding=\"utf-8\"?>\n",
       "<svg xmlns=\"http://www.w3.org/2000/svg\" xmlns:xlink=\"http://www.w3.org/1999/xlink\" width=\"600\" height=\"400\" viewBox=\"0 0 2400 1600\">\n",
       "<defs>\n",
       "  <clipPath id=\"clip6200\">\n",
       "    <rect x=\"0\" y=\"0\" width=\"2000\" height=\"2000\"/>\n",
       "  </clipPath>\n",
       "</defs>\n",
       "<defs>\n",
       "  <clipPath id=\"clip6201\">\n",
       "    <rect x=\"0\" y=\"0\" width=\"2400\" height=\"1600\"/>\n",
       "  </clipPath>\n",
       "</defs>\n",
       "<polygon clip-path=\"url(#clip6201)\" points=\"\n",
       "0,1600 2400,1600 2400,0 0,0 \n",
       "  \" fill=\"#ffffff\" fill-rule=\"evenodd\" fill-opacity=\"1\"/>\n",
       "<defs>\n",
       "  <clipPath id=\"clip6202\">\n",
       "    <rect x=\"480\" y=\"0\" width=\"1681\" height=\"1600\"/>\n",
       "  </clipPath>\n",
       "</defs>\n",
       "<polygon clip-path=\"url(#clip6201)\" points=\"\n",
       "161.394,1503.47 2321.26,1503.47 2321.26,47.2441 161.394,47.2441 \n",
       "  \" fill=\"#ffffff\" fill-rule=\"evenodd\" fill-opacity=\"1\"/>\n",
       "<defs>\n",
       "  <clipPath id=\"clip6203\">\n",
       "    <rect x=\"161\" y=\"47\" width=\"2161\" height=\"1457\"/>\n",
       "  </clipPath>\n",
       "</defs>\n",
       "<polyline clip-path=\"url(#clip6203)\" style=\"stroke:#000000; stroke-width:2; stroke-opacity:0.1; fill:none\" points=\"\n",
       "  202.166,1503.47 202.166,47.2441 \n",
       "  \"/>\n",
       "<polyline clip-path=\"url(#clip6203)\" style=\"stroke:#000000; stroke-width:2; stroke-opacity:0.1; fill:none\" points=\"\n",
       "  723.28,1503.47 723.28,47.2441 \n",
       "  \"/>\n",
       "<polyline clip-path=\"url(#clip6203)\" style=\"stroke:#000000; stroke-width:2; stroke-opacity:0.1; fill:none\" points=\"\n",
       "  1244.39,1503.47 1244.39,47.2441 \n",
       "  \"/>\n",
       "<polyline clip-path=\"url(#clip6203)\" style=\"stroke:#000000; stroke-width:2; stroke-opacity:0.1; fill:none\" points=\"\n",
       "  1765.51,1503.47 1765.51,47.2441 \n",
       "  \"/>\n",
       "<polyline clip-path=\"url(#clip6203)\" style=\"stroke:#000000; stroke-width:2; stroke-opacity:0.1; fill:none\" points=\"\n",
       "  2286.62,1503.47 2286.62,47.2441 \n",
       "  \"/>\n",
       "<polyline clip-path=\"url(#clip6203)\" style=\"stroke:#000000; stroke-width:2; stroke-opacity:0.1; fill:none\" points=\"\n",
       "  161.394,1462.26 2321.26,1462.26 \n",
       "  \"/>\n",
       "<polyline clip-path=\"url(#clip6203)\" style=\"stroke:#000000; stroke-width:2; stroke-opacity:0.1; fill:none\" points=\"\n",
       "  161.394,1117.88 2321.26,1117.88 \n",
       "  \"/>\n",
       "<polyline clip-path=\"url(#clip6203)\" style=\"stroke:#000000; stroke-width:2; stroke-opacity:0.1; fill:none\" points=\"\n",
       "  161.394,773.495 2321.26,773.495 \n",
       "  \"/>\n",
       "<polyline clip-path=\"url(#clip6203)\" style=\"stroke:#000000; stroke-width:2; stroke-opacity:0.1; fill:none\" points=\"\n",
       "  161.394,429.111 2321.26,429.111 \n",
       "  \"/>\n",
       "<polyline clip-path=\"url(#clip6203)\" style=\"stroke:#000000; stroke-width:2; stroke-opacity:0.1; fill:none\" points=\"\n",
       "  161.394,84.7284 2321.26,84.7284 \n",
       "  \"/>\n",
       "<polyline clip-path=\"url(#clip6201)\" style=\"stroke:#000000; stroke-width:4; stroke-opacity:1; fill:none\" points=\"\n",
       "  161.394,1503.47 2321.26,1503.47 \n",
       "  \"/>\n",
       "<polyline clip-path=\"url(#clip6201)\" style=\"stroke:#000000; stroke-width:4; stroke-opacity:1; fill:none\" points=\"\n",
       "  161.394,1503.47 161.394,47.2441 \n",
       "  \"/>\n",
       "<polyline clip-path=\"url(#clip6201)\" style=\"stroke:#000000; stroke-width:4; stroke-opacity:1; fill:none\" points=\"\n",
       "  202.166,1503.47 202.166,1481.63 \n",
       "  \"/>\n",
       "<polyline clip-path=\"url(#clip6201)\" style=\"stroke:#000000; stroke-width:4; stroke-opacity:1; fill:none\" points=\"\n",
       "  723.28,1503.47 723.28,1481.63 \n",
       "  \"/>\n",
       "<polyline clip-path=\"url(#clip6201)\" style=\"stroke:#000000; stroke-width:4; stroke-opacity:1; fill:none\" points=\"\n",
       "  1244.39,1503.47 1244.39,1481.63 \n",
       "  \"/>\n",
       "<polyline clip-path=\"url(#clip6201)\" style=\"stroke:#000000; stroke-width:4; stroke-opacity:1; fill:none\" points=\"\n",
       "  1765.51,1503.47 1765.51,1481.63 \n",
       "  \"/>\n",
       "<polyline clip-path=\"url(#clip6201)\" style=\"stroke:#000000; stroke-width:4; stroke-opacity:1; fill:none\" points=\"\n",
       "  2286.62,1503.47 2286.62,1481.63 \n",
       "  \"/>\n",
       "<polyline clip-path=\"url(#clip6201)\" style=\"stroke:#000000; stroke-width:4; stroke-opacity:1; fill:none\" points=\"\n",
       "  161.394,1462.26 193.792,1462.26 \n",
       "  \"/>\n",
       "<polyline clip-path=\"url(#clip6201)\" style=\"stroke:#000000; stroke-width:4; stroke-opacity:1; fill:none\" points=\"\n",
       "  161.394,1117.88 193.792,1117.88 \n",
       "  \"/>\n",
       "<polyline clip-path=\"url(#clip6201)\" style=\"stroke:#000000; stroke-width:4; stroke-opacity:1; fill:none\" points=\"\n",
       "  161.394,773.495 193.792,773.495 \n",
       "  \"/>\n",
       "<polyline clip-path=\"url(#clip6201)\" style=\"stroke:#000000; stroke-width:4; stroke-opacity:1; fill:none\" points=\"\n",
       "  161.394,429.111 193.792,429.111 \n",
       "  \"/>\n",
       "<polyline clip-path=\"url(#clip6201)\" style=\"stroke:#000000; stroke-width:4; stroke-opacity:1; fill:none\" points=\"\n",
       "  161.394,84.7284 193.792,84.7284 \n",
       "  \"/>\n",
       "<g clip-path=\"url(#clip6201)\">\n",
       "<text style=\"fill:#000000; fill-opacity:1; font-family:Arial,Helvetica Neue,Helvetica,sans-serif; font-size:48px; text-anchor:middle;\" transform=\"rotate(0, 202.166, 1557.47)\" x=\"202.166\" y=\"1557.47\">-10</text>\n",
       "</g>\n",
       "<g clip-path=\"url(#clip6201)\">\n",
       "<text style=\"fill:#000000; fill-opacity:1; font-family:Arial,Helvetica Neue,Helvetica,sans-serif; font-size:48px; text-anchor:middle;\" transform=\"rotate(0, 723.28, 1557.47)\" x=\"723.28\" y=\"1557.47\">-5</text>\n",
       "</g>\n",
       "<g clip-path=\"url(#clip6201)\">\n",
       "<text style=\"fill:#000000; fill-opacity:1; font-family:Arial,Helvetica Neue,Helvetica,sans-serif; font-size:48px; text-anchor:middle;\" transform=\"rotate(0, 1244.39, 1557.47)\" x=\"1244.39\" y=\"1557.47\">0</text>\n",
       "</g>\n",
       "<g clip-path=\"url(#clip6201)\">\n",
       "<text style=\"fill:#000000; fill-opacity:1; font-family:Arial,Helvetica Neue,Helvetica,sans-serif; font-size:48px; text-anchor:middle;\" transform=\"rotate(0, 1765.51, 1557.47)\" x=\"1765.51\" y=\"1557.47\">5</text>\n",
       "</g>\n",
       "<g clip-path=\"url(#clip6201)\">\n",
       "<text style=\"fill:#000000; fill-opacity:1; font-family:Arial,Helvetica Neue,Helvetica,sans-serif; font-size:48px; text-anchor:middle;\" transform=\"rotate(0, 2286.62, 1557.47)\" x=\"2286.62\" y=\"1557.47\">10</text>\n",
       "</g>\n",
       "<g clip-path=\"url(#clip6201)\">\n",
       "<text style=\"fill:#000000; fill-opacity:1; font-family:Arial,Helvetica Neue,Helvetica,sans-serif; font-size:48px; text-anchor:end;\" transform=\"rotate(0, 137.394, 1479.76)\" x=\"137.394\" y=\"1479.76\">0.0</text>\n",
       "</g>\n",
       "<g clip-path=\"url(#clip6201)\">\n",
       "<text style=\"fill:#000000; fill-opacity:1; font-family:Arial,Helvetica Neue,Helvetica,sans-serif; font-size:48px; text-anchor:end;\" transform=\"rotate(0, 137.394, 1135.38)\" x=\"137.394\" y=\"1135.38\">0.1</text>\n",
       "</g>\n",
       "<g clip-path=\"url(#clip6201)\">\n",
       "<text style=\"fill:#000000; fill-opacity:1; font-family:Arial,Helvetica Neue,Helvetica,sans-serif; font-size:48px; text-anchor:end;\" transform=\"rotate(0, 137.394, 790.995)\" x=\"137.394\" y=\"790.995\">0.2</text>\n",
       "</g>\n",
       "<g clip-path=\"url(#clip6201)\">\n",
       "<text style=\"fill:#000000; fill-opacity:1; font-family:Arial,Helvetica Neue,Helvetica,sans-serif; font-size:48px; text-anchor:end;\" transform=\"rotate(0, 137.394, 446.611)\" x=\"137.394\" y=\"446.611\">0.3</text>\n",
       "</g>\n",
       "<g clip-path=\"url(#clip6201)\">\n",
       "<text style=\"fill:#000000; fill-opacity:1; font-family:Arial,Helvetica Neue,Helvetica,sans-serif; font-size:48px; text-anchor:end;\" transform=\"rotate(0, 137.394, 102.228)\" x=\"137.394\" y=\"102.228\">0.4</text>\n",
       "</g>\n",
       "<polyline clip-path=\"url(#clip6203)\" style=\"stroke:#009af9; stroke-width:4; stroke-opacity:1; fill:none\" points=\"\n",
       "  222.522,1462.26 410.747,1462.26 523.862,1462.26 619.5,1462.26 723.389,1462.26 819.165,1461.93 870.506,1460.06 921.848,1450.83 951.59,1435.71 981.331,1405.43 \n",
       "  996.202,1381.62 1011.07,1350.14 1025.94,1309.51 1040.82,1258.35 1054.03,1203.13 1067.25,1138.21 1080.46,1063.49 1093.68,979.367 1106.89,886.827 1120.11,787.49 \n",
       "  1133.32,683.624 1146.54,578.102 1158.13,486.855 1169.72,399.413 1181.31,318.364 1192.9,246.262 1204.48,185.499 1216.07,138.172 1227.66,105.964 1239.25,90.0433 \n",
       "  1245.57,88.4582 1251.89,91.9154 1258.2,100.377 1264.52,113.75 1277.16,154.597 1289.79,212.707 1302.43,285.655 1315.06,370.508 1327.7,464.021 1340.33,562.84 \n",
       "  1365.75,764.764 1391.17,952.594 1403.88,1036.2 1416.59,1111.35 1429.3,1177.51 1442.01,1234.61 1456.06,1287.56 1470.12,1330.61 1484.17,1364.84 1498.22,1391.47 \n",
       "  1512.27,1411.74 1526.33,1426.86 1540.38,1437.9 1554.43,1445.8 1607.91,1459.13 1661.4,1461.8 1772.62,1462.26 1866.24,1462.26 1980.54,1462.26 2087.99,1462.26 \n",
       "  2260.13,1462.26 \n",
       "  \"/>\n",
       "<polygon clip-path=\"url(#clip6201)\" points=\"\n",
       "1958.43,251.724 2249.26,251.724 2249.26,130.764 1958.43,130.764 \n",
       "  \" fill=\"#ffffff\" fill-rule=\"evenodd\" fill-opacity=\"1\"/>\n",
       "<polyline clip-path=\"url(#clip6201)\" style=\"stroke:#000000; stroke-width:4; stroke-opacity:1; fill:none\" points=\"\n",
       "  1958.43,251.724 2249.26,251.724 2249.26,130.764 1958.43,130.764 1958.43,251.724 \n",
       "  \"/>\n",
       "<polyline clip-path=\"url(#clip6201)\" style=\"stroke:#009af9; stroke-width:4; stroke-opacity:1; fill:none\" points=\"\n",
       "  1982.43,191.244 2126.43,191.244 \n",
       "  \"/>\n",
       "<g clip-path=\"url(#clip6201)\">\n",
       "<text style=\"fill:#000000; fill-opacity:1; font-family:Arial,Helvetica Neue,Helvetica,sans-serif; font-size:48px; text-anchor:start;\" transform=\"rotate(0, 2150.43, 208.744)\" x=\"2150.43\" y=\"208.744\">y1</text>\n",
       "</g>\n",
       "</svg>\n"
      ]
     },
     "execution_count": 22,
     "metadata": {},
     "output_type": "execute_result"
    }
   ],
   "source": [
    "plot(x->rnG(x),-10,10)"
   ]
  },
  {
   "cell_type": "markdown",
   "metadata": {},
   "source": [
    "# Zadanie 5"
   ]
  },
  {
   "cell_type": "code",
   "execution_count": 23,
   "metadata": {},
   "outputs": [
    {
     "data": {
      "text/plain": [
       "recInt (generic function with 1 method)"
      ]
     },
     "execution_count": 23,
     "metadata": {},
     "output_type": "execute_result"
    }
   ],
   "source": [
    "function recInt(f, a, b, n)\n",
    "    res = 0\n",
    "    prev = a\n",
    "    samp = (b-a)/n\n",
    "    for i in a+samp:samp:b\n",
    "        res += (f(i)+f(prev))/2 * samp\n",
    "        prev = i\n",
    "    end   \n",
    "    return res\n",
    "end"
   ]
  },
  {
   "cell_type": "code",
   "execution_count": 24,
   "metadata": {},
   "outputs": [],
   "source": [
    "a=-10\n",
    "b=15\n",
    "fun1 = Poly([1,2,3,4,5,6,7])\n",
    "comp = DataFrame(it=Int64[], rectangleRule = Float64[], quadgk = Float64[], isEqual = Bool[], diff = Float64[])\n",
    "for i in 1:1:100\n",
    "    xr = recInt(fun1,a,b,i)\n",
    "    xq = quadgk(fun1,a,b)[1]\n",
    "    push!(comp,[i,xr, xq, xr ≈ xq, xr-xq])\n",
    "end"
   ]
  },
  {
   "cell_type": "code",
   "execution_count": 25,
   "metadata": {},
   "outputs": [
    {
     "data": {
      "text/html": [
       "<table class=\"data-frame\"><thead><tr><th></th><th>it</th><th>rectangleRule</th><th>quadgk</th><th>isEqual</th><th>diff</th></tr><tr><th></th><th>Int64</th><th>Float64</th><th>Float64</th><th>Bool</th><th>Float64</th></tr></thead><tbody><tr><th>1</th><td>1</td><td>1.13755e9</td><td>1.92155e8</td><td>false</td><td>9.45398e8</td></tr><tr><th>2</th><td>2</td><td>5.68809e8</td><td>1.92155e8</td><td>false</td><td>3.76654e8</td></tr><tr><th>3</th><td>3</td><td>2.97968e7</td><td>1.92155e8</td><td>false</td><td>-1.62358e8</td></tr><tr><th>4</th><td>4</td><td>3.06263e8</td><td>1.92155e8</td><td>false</td><td>1.14108e8</td></tr><tr><th>5</th><td>5</td><td>2.66908e8</td><td>1.92155e8</td><td>false</td><td>7.47534e7</td></tr><tr><th>6</th><td>6</td><td>2.44729e8</td><td>1.92155e8</td><td>false</td><td>5.25745e7</td></tr><tr><th>7</th><td>7</td><td>2.31077e8</td><td>1.92155e8</td><td>false</td><td>3.89225e7</td></tr><tr><th>8</th><td>8</td><td>2.22103e8</td><td>1.92155e8</td><td>false</td><td>2.99483e7</td></tr><tr><th>9</th><td>9</td><td>2.15898e8</td><td>1.92155e8</td><td>false</td><td>2.37435e7</td></tr><tr><th>10</th><td>10</td><td>2.11434e8</td><td>1.92155e8</td><td>false</td><td>1.92791e7</td></tr><tr><th>11</th><td>11</td><td>7.57832e7</td><td>1.92155e8</td><td>false</td><td>-1.16371e8</td></tr><tr><th>12</th><td>12</td><td>8.12391e7</td><td>1.92155e8</td><td>false</td><td>-1.10915e8</td></tr><tr><th>13</th><td>13</td><td>2.03611e8</td><td>1.92155e8</td><td>false</td><td>1.14561e7</td></tr><tr><th>14</th><td>14</td><td>2.02041e8</td><td>1.92155e8</td><td>false</td><td>9.88635e6</td></tr><tr><th>15</th><td>15</td><td>2.00773e8</td><td>1.92155e8</td><td>false</td><td>8.61798e6</td></tr><tr><th>16</th><td>16</td><td>1.99733e8</td><td>1.92155e8</td><td>false</td><td>7.57863e6</td></tr><tr><th>17</th><td>17</td><td>1.98871e8</td><td>1.92155e8</td><td>false</td><td>6.71635e6</td></tr><tr><th>18</th><td>18</td><td>1.98148e8</td><td>1.92155e8</td><td>false</td><td>5.99314e6</td></tr><tr><th>19</th><td>19</td><td>1.97535e8</td><td>1.92155e8</td><td>false</td><td>5.38065e6</td></tr><tr><th>20</th><td>20</td><td>1.97012e8</td><td>1.92155e8</td><td>false</td><td>4.8574e6</td></tr><tr><th>21</th><td>21</td><td>1.96561e8</td><td>1.92155e8</td><td>false</td><td>4.40687e6</td></tr><tr><th>22</th><td>22</td><td>1.96171e8</td><td>1.92155e8</td><td>false</td><td>4.01619e6</td></tr><tr><th>23</th><td>23</td><td>1.9583e8</td><td>1.92155e8</td><td>false</td><td>3.67521e6</td></tr><tr><th>24</th><td>24</td><td>1.9553e8</td><td>1.92155e8</td><td>false</td><td>3.37587e6</td></tr><tr><th>25</th><td>25</td><td>1.95266e8</td><td>1.92155e8</td><td>false</td><td>3.11164e6</td></tr><tr><th>26</th><td>26</td><td>1.95032e8</td><td>1.92155e8</td><td>false</td><td>2.87724e6</td></tr><tr><th>27</th><td>27</td><td>1.94823e8</td><td>1.92155e8</td><td>false</td><td>2.66836e6</td></tr><tr><th>28</th><td>28</td><td>1.94636e8</td><td>1.92155e8</td><td>false</td><td>2.48141e6</td></tr><tr><th>29</th><td>29</td><td>1.94468e8</td><td>1.92155e8</td><td>false</td><td>2.31344e6</td></tr><tr><th>30</th><td>30</td><td>1.94316e8</td><td>1.92155e8</td><td>false</td><td>2.16196e6</td></tr><tr><th>&vellip;</th><td>&vellip;</td><td>&vellip;</td><td>&vellip;</td><td>&vellip;</td><td>&vellip;</td></tr></tbody></table>"
      ],
      "text/plain": [
       "100×5 DataFrame\n",
       "│ Row │ it    │ rectangleRule │ quadgk    │ isEqual │ diff       │\n",
       "│     │ \u001b[90mInt64\u001b[39m │ \u001b[90mFloat64\u001b[39m       │ \u001b[90mFloat64\u001b[39m   │ \u001b[90mBool\u001b[39m    │ \u001b[90mFloat64\u001b[39m    │\n",
       "├─────┼───────┼───────────────┼───────────┼─────────┼────────────┤\n",
       "│ 1   │ 1     │ 1.13755e9     │ 1.92155e8 │ false   │ 9.45398e8  │\n",
       "│ 2   │ 2     │ 5.68809e8     │ 1.92155e8 │ false   │ 3.76654e8  │\n",
       "│ 3   │ 3     │ 2.97968e7     │ 1.92155e8 │ false   │ -1.62358e8 │\n",
       "│ 4   │ 4     │ 3.06263e8     │ 1.92155e8 │ false   │ 1.14108e8  │\n",
       "│ 5   │ 5     │ 2.66908e8     │ 1.92155e8 │ false   │ 7.47534e7  │\n",
       "│ 6   │ 6     │ 2.44729e8     │ 1.92155e8 │ false   │ 5.25745e7  │\n",
       "│ 7   │ 7     │ 2.31077e8     │ 1.92155e8 │ false   │ 3.89225e7  │\n",
       "│ 8   │ 8     │ 2.22103e8     │ 1.92155e8 │ false   │ 2.99483e7  │\n",
       "│ 9   │ 9     │ 2.15898e8     │ 1.92155e8 │ false   │ 2.37435e7  │\n",
       "│ 10  │ 10    │ 2.11434e8     │ 1.92155e8 │ false   │ 1.92791e7  │\n",
       "⋮\n",
       "│ 90  │ 90    │ 1.92395e8     │ 1.92155e8 │ false   │ 2.40463e5  │\n",
       "│ 91  │ 91    │ 1.9239e8      │ 1.92155e8 │ false   │ 2.35208e5  │\n",
       "│ 92  │ 92    │ 1.92385e8     │ 1.92155e8 │ false   │ 2.30123e5  │\n",
       "│ 93  │ 93    │ 1.9238e8      │ 1.92155e8 │ false   │ 2.25202e5  │\n",
       "│ 94  │ 94    │ 1.92375e8     │ 1.92155e8 │ false   │ 2.20436e5  │\n",
       "│ 95  │ 95    │ 1.9237e8      │ 1.92155e8 │ false   │ 2.1582e5   │\n",
       "│ 96  │ 96    │ 1.92366e8     │ 1.92155e8 │ false   │ 211348.0   │\n",
       "│ 97  │ 97    │ 1.92362e8     │ 1.92155e8 │ false   │ 2.07013e5  │\n",
       "│ 98  │ 98    │ 1.92357e8     │ 1.92155e8 │ false   │ 2.02811e5  │\n",
       "│ 99  │ 99    │ 1.92353e8     │ 1.92155e8 │ false   │ 1.98734e5  │\n",
       "│ 100 │ 100   │ 1.92349e8     │ 1.92155e8 │ false   │ 1.9478e5   │"
      ]
     },
     "execution_count": 25,
     "metadata": {},
     "output_type": "execute_result"
    }
   ],
   "source": [
    "comp"
   ]
  },
  {
   "cell_type": "code",
   "execution_count": 26,
   "metadata": {},
   "outputs": [
    {
     "data": {
      "image/svg+xml": [
       "<?xml version=\"1.0\" encoding=\"utf-8\"?>\n",
       "<svg xmlns=\"http://www.w3.org/2000/svg\" xmlns:xlink=\"http://www.w3.org/1999/xlink\" width=\"600\" height=\"400\" viewBox=\"0 0 2400 1600\">\n",
       "<defs>\n",
       "  <clipPath id=\"clip6400\">\n",
       "    <rect x=\"0\" y=\"0\" width=\"2000\" height=\"2000\"/>\n",
       "  </clipPath>\n",
       "</defs>\n",
       "<defs>\n",
       "  <clipPath id=\"clip6401\">\n",
       "    <rect x=\"0\" y=\"0\" width=\"2400\" height=\"1600\"/>\n",
       "  </clipPath>\n",
       "</defs>\n",
       "<polygon clip-path=\"url(#clip6401)\" points=\"\n",
       "0,1600 2400,1600 2400,0 0,0 \n",
       "  \" fill=\"#ffffff\" fill-rule=\"evenodd\" fill-opacity=\"1\"/>\n",
       "<defs>\n",
       "  <clipPath id=\"clip6402\">\n",
       "    <rect x=\"480\" y=\"0\" width=\"1681\" height=\"1600\"/>\n",
       "  </clipPath>\n",
       "</defs>\n",
       "<polygon clip-path=\"url(#clip6401)\" points=\"\n",
       "252.607,1503.47 2321.26,1503.47 2321.26,47.2441 252.607,47.2441 \n",
       "  \" fill=\"#ffffff\" fill-rule=\"evenodd\" fill-opacity=\"1\"/>\n",
       "<defs>\n",
       "  <clipPath id=\"clip6403\">\n",
       "    <rect x=\"252\" y=\"47\" width=\"2070\" height=\"1457\"/>\n",
       "  </clipPath>\n",
       "</defs>\n",
       "<polyline clip-path=\"url(#clip6403)\" style=\"stroke:#000000; stroke-width:2; stroke-opacity:0.1; fill:none\" points=\"\n",
       "  291.441,1503.47 291.441,47.2441 \n",
       "  \"/>\n",
       "<polyline clip-path=\"url(#clip6403)\" style=\"stroke:#000000; stroke-width:2; stroke-opacity:0.1; fill:none\" points=\"\n",
       "  784.259,1503.47 784.259,47.2441 \n",
       "  \"/>\n",
       "<polyline clip-path=\"url(#clip6403)\" style=\"stroke:#000000; stroke-width:2; stroke-opacity:0.1; fill:none\" points=\"\n",
       "  1277.08,1503.47 1277.08,47.2441 \n",
       "  \"/>\n",
       "<polyline clip-path=\"url(#clip6403)\" style=\"stroke:#000000; stroke-width:2; stroke-opacity:0.1; fill:none\" points=\"\n",
       "  1769.9,1503.47 1769.9,47.2441 \n",
       "  \"/>\n",
       "<polyline clip-path=\"url(#clip6403)\" style=\"stroke:#000000; stroke-width:2; stroke-opacity:0.1; fill:none\" points=\"\n",
       "  2262.71,1503.47 2262.71,47.2441 \n",
       "  \"/>\n",
       "<polyline clip-path=\"url(#clip6403)\" style=\"stroke:#000000; stroke-width:2; stroke-opacity:0.1; fill:none\" points=\"\n",
       "  252.607,1260.91 2321.26,1260.91 \n",
       "  \"/>\n",
       "<polyline clip-path=\"url(#clip6403)\" style=\"stroke:#000000; stroke-width:2; stroke-opacity:0.1; fill:none\" points=\"\n",
       "  252.607,1012.88 2321.26,1012.88 \n",
       "  \"/>\n",
       "<polyline clip-path=\"url(#clip6403)\" style=\"stroke:#000000; stroke-width:2; stroke-opacity:0.1; fill:none\" points=\"\n",
       "  252.607,764.843 2321.26,764.843 \n",
       "  \"/>\n",
       "<polyline clip-path=\"url(#clip6403)\" style=\"stroke:#000000; stroke-width:2; stroke-opacity:0.1; fill:none\" points=\"\n",
       "  252.607,516.81 2321.26,516.81 \n",
       "  \"/>\n",
       "<polyline clip-path=\"url(#clip6403)\" style=\"stroke:#000000; stroke-width:2; stroke-opacity:0.1; fill:none\" points=\"\n",
       "  252.607,268.776 2321.26,268.776 \n",
       "  \"/>\n",
       "<polyline clip-path=\"url(#clip6401)\" style=\"stroke:#000000; stroke-width:4; stroke-opacity:1; fill:none\" points=\"\n",
       "  252.607,1503.47 2321.26,1503.47 \n",
       "  \"/>\n",
       "<polyline clip-path=\"url(#clip6401)\" style=\"stroke:#000000; stroke-width:4; stroke-opacity:1; fill:none\" points=\"\n",
       "  252.607,1503.47 252.607,47.2441 \n",
       "  \"/>\n",
       "<polyline clip-path=\"url(#clip6401)\" style=\"stroke:#000000; stroke-width:4; stroke-opacity:1; fill:none\" points=\"\n",
       "  291.441,1503.47 291.441,1481.63 \n",
       "  \"/>\n",
       "<polyline clip-path=\"url(#clip6401)\" style=\"stroke:#000000; stroke-width:4; stroke-opacity:1; fill:none\" points=\"\n",
       "  784.259,1503.47 784.259,1481.63 \n",
       "  \"/>\n",
       "<polyline clip-path=\"url(#clip6401)\" style=\"stroke:#000000; stroke-width:4; stroke-opacity:1; fill:none\" points=\"\n",
       "  1277.08,1503.47 1277.08,1481.63 \n",
       "  \"/>\n",
       "<polyline clip-path=\"url(#clip6401)\" style=\"stroke:#000000; stroke-width:4; stroke-opacity:1; fill:none\" points=\"\n",
       "  1769.9,1503.47 1769.9,1481.63 \n",
       "  \"/>\n",
       "<polyline clip-path=\"url(#clip6401)\" style=\"stroke:#000000; stroke-width:4; stroke-opacity:1; fill:none\" points=\"\n",
       "  2262.71,1503.47 2262.71,1481.63 \n",
       "  \"/>\n",
       "<polyline clip-path=\"url(#clip6401)\" style=\"stroke:#000000; stroke-width:4; stroke-opacity:1; fill:none\" points=\"\n",
       "  252.607,1260.91 283.637,1260.91 \n",
       "  \"/>\n",
       "<polyline clip-path=\"url(#clip6401)\" style=\"stroke:#000000; stroke-width:4; stroke-opacity:1; fill:none\" points=\"\n",
       "  252.607,1012.88 283.637,1012.88 \n",
       "  \"/>\n",
       "<polyline clip-path=\"url(#clip6401)\" style=\"stroke:#000000; stroke-width:4; stroke-opacity:1; fill:none\" points=\"\n",
       "  252.607,764.843 283.637,764.843 \n",
       "  \"/>\n",
       "<polyline clip-path=\"url(#clip6401)\" style=\"stroke:#000000; stroke-width:4; stroke-opacity:1; fill:none\" points=\"\n",
       "  252.607,516.81 283.637,516.81 \n",
       "  \"/>\n",
       "<polyline clip-path=\"url(#clip6401)\" style=\"stroke:#000000; stroke-width:4; stroke-opacity:1; fill:none\" points=\"\n",
       "  252.607,268.776 283.637,268.776 \n",
       "  \"/>\n",
       "<g clip-path=\"url(#clip6401)\">\n",
       "<text style=\"fill:#000000; fill-opacity:1; font-family:Arial,Helvetica Neue,Helvetica,sans-serif; font-size:48px; text-anchor:middle;\" transform=\"rotate(0, 291.441, 1557.47)\" x=\"291.441\" y=\"1557.47\">0</text>\n",
       "</g>\n",
       "<g clip-path=\"url(#clip6401)\">\n",
       "<text style=\"fill:#000000; fill-opacity:1; font-family:Arial,Helvetica Neue,Helvetica,sans-serif; font-size:48px; text-anchor:middle;\" transform=\"rotate(0, 784.259, 1557.47)\" x=\"784.259\" y=\"1557.47\">25</text>\n",
       "</g>\n",
       "<g clip-path=\"url(#clip6401)\">\n",
       "<text style=\"fill:#000000; fill-opacity:1; font-family:Arial,Helvetica Neue,Helvetica,sans-serif; font-size:48px; text-anchor:middle;\" transform=\"rotate(0, 1277.08, 1557.47)\" x=\"1277.08\" y=\"1557.47\">50</text>\n",
       "</g>\n",
       "<g clip-path=\"url(#clip6401)\">\n",
       "<text style=\"fill:#000000; fill-opacity:1; font-family:Arial,Helvetica Neue,Helvetica,sans-serif; font-size:48px; text-anchor:middle;\" transform=\"rotate(0, 1769.9, 1557.47)\" x=\"1769.9\" y=\"1557.47\">75</text>\n",
       "</g>\n",
       "<g clip-path=\"url(#clip6401)\">\n",
       "<text style=\"fill:#000000; fill-opacity:1; font-family:Arial,Helvetica Neue,Helvetica,sans-serif; font-size:48px; text-anchor:middle;\" transform=\"rotate(0, 2262.71, 1557.47)\" x=\"2262.71\" y=\"1557.47\">100</text>\n",
       "</g>\n",
       "<g clip-path=\"url(#clip6401)\">\n",
       "<text style=\"fill:#000000; fill-opacity:1; font-family:Arial,Helvetica Neue,Helvetica,sans-serif; font-size:48px; text-anchor:end;\" transform=\"rotate(0, 228.607, 1278.41)\" x=\"228.607\" y=\"1278.41\">0</text>\n",
       "</g>\n",
       "<g clip-path=\"url(#clip6401)\">\n",
       "<text style=\"fill:#000000; fill-opacity:1; font-family:Arial,Helvetica Neue,Helvetica,sans-serif; font-size:48px; text-anchor:start;\" transform=\"rotate(0, 98.4659, 1036.6)\" x=\"98.4659\" y=\"1036.6\">2×10</text>\n",
       "</g>\n",
       "<g clip-path=\"url(#clip6401)\">\n",
       "<text style=\"fill:#000000; fill-opacity:1; font-family:Arial,Helvetica Neue,Helvetica,sans-serif; font-size:38px; text-anchor:start;\" transform=\"rotate(0, 206.863, 1009.19)\" x=\"206.863\" y=\"1009.19\">8</text>\n",
       "</g>\n",
       "<g clip-path=\"url(#clip6401)\">\n",
       "<text style=\"fill:#000000; fill-opacity:1; font-family:Arial,Helvetica Neue,Helvetica,sans-serif; font-size:48px; text-anchor:start;\" transform=\"rotate(0, 98.4659, 788.571)\" x=\"98.4659\" y=\"788.571\">4×10</text>\n",
       "</g>\n",
       "<g clip-path=\"url(#clip6401)\">\n",
       "<text style=\"fill:#000000; fill-opacity:1; font-family:Arial,Helvetica Neue,Helvetica,sans-serif; font-size:38px; text-anchor:start;\" transform=\"rotate(0, 206.863, 761.16)\" x=\"206.863\" y=\"761.16\">8</text>\n",
       "</g>\n",
       "<g clip-path=\"url(#clip6401)\">\n",
       "<text style=\"fill:#000000; fill-opacity:1; font-family:Arial,Helvetica Neue,Helvetica,sans-serif; font-size:48px; text-anchor:start;\" transform=\"rotate(0, 98.4659, 540.537)\" x=\"98.4659\" y=\"540.537\">6×10</text>\n",
       "</g>\n",
       "<g clip-path=\"url(#clip6401)\">\n",
       "<text style=\"fill:#000000; fill-opacity:1; font-family:Arial,Helvetica Neue,Helvetica,sans-serif; font-size:38px; text-anchor:start;\" transform=\"rotate(0, 206.863, 513.127)\" x=\"206.863\" y=\"513.127\">8</text>\n",
       "</g>\n",
       "<g clip-path=\"url(#clip6401)\">\n",
       "<text style=\"fill:#000000; fill-opacity:1; font-family:Arial,Helvetica Neue,Helvetica,sans-serif; font-size:48px; text-anchor:start;\" transform=\"rotate(0, 98.4659, 292.504)\" x=\"98.4659\" y=\"292.504\">8×10</text>\n",
       "</g>\n",
       "<g clip-path=\"url(#clip6401)\">\n",
       "<text style=\"fill:#000000; fill-opacity:1; font-family:Arial,Helvetica Neue,Helvetica,sans-serif; font-size:38px; text-anchor:start;\" transform=\"rotate(0, 206.863, 265.094)\" x=\"206.863\" y=\"265.094\">8</text>\n",
       "</g>\n",
       "<polyline clip-path=\"url(#clip6403)\" style=\"stroke:#009af9; stroke-width:4; stroke-opacity:1; fill:none\" points=\"\n",
       "  311.154,88.4582 330.867,793.796 350.58,1462.26 370.292,1119.4 390.005,1168.2 409.718,1195.71 429.43,1212.64 449.143,1223.77 468.856,1231.46 488.569,1237 \n",
       "  508.281,1405.23 527.994,1398.46 547.707,1246.7 567.419,1248.65 587.132,1250.22 606.845,1251.51 626.558,1252.58 646.27,1253.48 665.983,1254.24 685.696,1254.89 \n",
       "  705.408,1255.44 725.121,1255.93 744.834,1256.35 764.547,1256.72 784.259,1257.05 803.972,1257.34 823.685,1257.6 843.398,1257.83 863.11,1258.04 882.823,1258.23 \n",
       "  902.536,1258.4 922.248,1258.55 941.961,1258.69 961.674,1258.82 981.387,1258.94 1001.1,1259.05 1020.81,1259.15 1040.52,1320.16 1060.24,1259.32 1079.95,1259.4 \n",
       "  1099.66,1259.47 1119.38,1259.54 1139.09,1259.6 1158.8,1259.66 1178.51,1259.72 1198.23,1259.77 1217.94,1259.82 1237.65,1259.86 1257.36,1259.9 1277.08,1259.94 \n",
       "  1296.79,1259.98 1316.5,1260.02 1336.22,1260.05 1355.93,1260.08 1375.64,1260.11 1395.35,1260.14 1415.07,1260.17 1434.78,1260.19 1454.49,1260.22 1474.2,1260.24 \n",
       "  1493.92,1260.26 1513.63,1260.28 1533.34,1260.3 1553.06,1260.32 1572.77,1260.34 1592.48,1260.36 1612.19,1260.37 1631.91,1260.39 1651.62,1260.4 1671.33,1260.42 \n",
       "  1691.04,1260.43 1710.76,1260.44 1730.47,1260.46 1750.18,1260.47 1769.9,1260.48 1789.61,1260.49 1809.32,1260.5 1829.03,1260.51 1848.75,1260.52 1868.46,1260.53 \n",
       "  1888.17,1260.54 1907.88,1260.55 1927.6,1260.56 1947.31,1260.57 1967.02,1260.58 1986.74,1260.58 2006.45,1260.59 2026.16,1260.6 2045.87,1260.61 2065.59,1260.61 \n",
       "  2085.3,1260.62 2105.01,1260.62 2124.72,1260.63 2144.44,1260.64 2164.15,1260.64 2183.86,1260.65 2203.57,1260.65 2223.29,1260.66 2243,1260.66 2262.71,1260.67 \n",
       "  \n",
       "  \"/>\n",
       "<polygon clip-path=\"url(#clip6401)\" points=\"\n",
       "1888.93,251.724 2249.26,251.724 2249.26,130.764 1888.93,130.764 \n",
       "  \" fill=\"#ffffff\" fill-rule=\"evenodd\" fill-opacity=\"1\"/>\n",
       "<polyline clip-path=\"url(#clip6401)\" style=\"stroke:#000000; stroke-width:4; stroke-opacity:1; fill:none\" points=\"\n",
       "  1888.93,251.724 2249.26,251.724 2249.26,130.764 1888.93,130.764 1888.93,251.724 \n",
       "  \"/>\n",
       "<polyline clip-path=\"url(#clip6401)\" style=\"stroke:#009af9; stroke-width:4; stroke-opacity:1; fill:none\" points=\"\n",
       "  1912.93,191.244 2056.93,191.244 \n",
       "  \"/>\n",
       "<g clip-path=\"url(#clip6401)\">\n",
       "<text style=\"fill:#000000; fill-opacity:1; font-family:Arial,Helvetica Neue,Helvetica,sans-serif; font-size:48px; text-anchor:start;\" transform=\"rotate(0, 2080.93, 208.744)\" x=\"2080.93\" y=\"208.744\">diff(it)</text>\n",
       "</g>\n",
       "</svg>\n"
      ]
     },
     "execution_count": 26,
     "metadata": {},
     "output_type": "execute_result"
    }
   ],
   "source": [
    "plot(comp[:it], comp[:diff], label=\"diff(it)\")"
   ]
  },
  {
   "cell_type": "code",
   "execution_count": 27,
   "metadata": {},
   "outputs": [],
   "source": [
    "a=-10\n",
    "b=15\n",
    "fun2 = Poly([1,2,3,4,5,6,7,8,9,10,11,12,13,14,16])\n",
    "compa = DataFrame(it=Int64[], rectangleRule = Float64[], quadgk = Float64[], isEqual = Bool[], diff = Float64[])\n",
    "for i in 1:1:100\n",
    "    xr = recInt(fun2,a,b,i)\n",
    "    xq = quadgk(fun2,a,b)[1]\n",
    "    push!(compa,[i,xr, xq, xr ≈ xq, xr-xq])\n",
    "end"
   ]
  },
  {
   "cell_type": "code",
   "execution_count": 28,
   "metadata": {},
   "outputs": [
    {
     "data": {
      "text/html": [
       "<table class=\"data-frame\"><thead><tr><th></th><th>it</th><th>rectangleRule</th><th>quadgk</th><th>isEqual</th><th>diff</th></tr><tr><th></th><th>Int64</th><th>Float64</th><th>Float64</th><th>Bool</th><th>Float64</th></tr></thead><tbody><tr><th>1</th><td>1</td><td>6.22003e18</td><td>4.99341e17</td><td>false</td><td>5.72069e18</td></tr><tr><th>2</th><td>2</td><td>3.11002e18</td><td>4.99341e17</td><td>false</td><td>2.61068e18</td></tr><tr><th>3</th><td>3</td><td>6.15924e15</td><td>4.99341e17</td><td>false</td><td>-4.93181e17</td></tr><tr><th>4</th><td>4</td><td>1.55672e18</td><td>4.99341e17</td><td>false</td><td>1.05738e18</td></tr><tr><th>5</th><td>5</td><td>1.25278e18</td><td>4.99341e17</td><td>false</td><td>7.53439e17</td></tr><tr><th>6</th><td>6</td><td>1.05895e18</td><td>4.99341e17</td><td>false</td><td>5.59612e17</td></tr><tr><th>7</th><td>7</td><td>9.2895e17</td><td>4.99341e17</td><td>false</td><td>4.29609e17</td></tr><tr><th>8</th><td>8</td><td>8.38261e17</td><td>4.99341e17</td><td>false</td><td>3.3892e17</td></tr><tr><th>9</th><td>9</td><td>7.72868e17</td><td>4.99341e17</td><td>false</td><td>2.73528e17</td></tr><tr><th>10</th><td>10</td><td>7.24361e17</td><td>4.99341e17</td><td>false</td><td>2.2502e17</td></tr><tr><th>11</th><td>11</td><td>6.65556e16</td><td>4.99341e17</td><td>false</td><td>-4.32785e17</td></tr><tr><th>12</th><td>12</td><td>7.7709e16</td><td>4.99341e17</td><td>false</td><td>-4.21632e17</td></tr><tr><th>13</th><td>13</td><td>6.36225e17</td><td>4.99341e17</td><td>false</td><td>1.36885e17</td></tr><tr><th>14</th><td>14</td><td>6.18035e17</td><td>4.99341e17</td><td>false</td><td>1.18695e17</td></tr><tr><th>15</th><td>15</td><td>6.0321e17</td><td>4.99341e17</td><td>false</td><td>1.03869e17</td></tr><tr><th>16</th><td>16</td><td>5.90976e17</td><td>4.99341e17</td><td>false</td><td>9.1635e16</td></tr><tr><th>17</th><td>17</td><td>5.80766e17</td><td>4.99341e17</td><td>false</td><td>8.14255e16</td></tr><tr><th>18</th><td>18</td><td>5.72161e17</td><td>4.99341e17</td><td>false</td><td>7.28205e16</td></tr><tr><th>19</th><td>19</td><td>5.64843e17</td><td>4.99341e17</td><td>false</td><td>6.55027e16</td></tr><tr><th>20</th><td>20</td><td>5.5857e17</td><td>4.99341e17</td><td>false</td><td>5.9229e16</td></tr><tr><th>21</th><td>21</td><td>5.53152e17</td><td>4.99341e17</td><td>false</td><td>5.38109e16</td></tr><tr><th>22</th><td>22</td><td>5.48441e17</td><td>4.99341e17</td><td>false</td><td>4.91002e16</td></tr><tr><th>23</th><td>23</td><td>5.4432e17</td><td>4.99341e17</td><td>false</td><td>4.49795e16</td></tr><tr><th>24</th><td>24</td><td>5.40695e17</td><td>4.99341e17</td><td>false</td><td>4.13546e16</td></tr><tr><th>25</th><td>25</td><td>5.3749e17</td><td>4.99341e17</td><td>false</td><td>3.81493e16</td></tr><tr><th>26</th><td>26</td><td>5.34642e17</td><td>4.99341e17</td><td>false</td><td>3.53015e16</td></tr><tr><th>27</th><td>27</td><td>5.32101e17</td><td>4.99341e17</td><td>false</td><td>3.27601e16</td></tr><tr><th>28</th><td>28</td><td>5.29823e17</td><td>4.99341e17</td><td>false</td><td>3.04827e16</td></tr><tr><th>29</th><td>29</td><td>5.27775e17</td><td>4.99341e17</td><td>false</td><td>2.84343e16</td></tr><tr><th>30</th><td>30</td><td>5.25926e17</td><td>4.99341e17</td><td>false</td><td>2.6585e16</td></tr><tr><th>&vellip;</th><td>&vellip;</td><td>&vellip;</td><td>&vellip;</td><td>&vellip;</td><td>&vellip;</td></tr></tbody></table>"
      ],
      "text/plain": [
       "100×5 DataFrame\n",
       "│ Row │ it    │ rectangleRule │ quadgk     │ isEqual │ diff        │\n",
       "│     │ \u001b[90mInt64\u001b[39m │ \u001b[90mFloat64\u001b[39m       │ \u001b[90mFloat64\u001b[39m    │ \u001b[90mBool\u001b[39m    │ \u001b[90mFloat64\u001b[39m     │\n",
       "├─────┼───────┼───────────────┼────────────┼─────────┼─────────────┤\n",
       "│ 1   │ 1     │ 6.22003e18    │ 4.99341e17 │ false   │ 5.72069e18  │\n",
       "│ 2   │ 2     │ 3.11002e18    │ 4.99341e17 │ false   │ 2.61068e18  │\n",
       "│ 3   │ 3     │ 6.15924e15    │ 4.99341e17 │ false   │ -4.93181e17 │\n",
       "│ 4   │ 4     │ 1.55672e18    │ 4.99341e17 │ false   │ 1.05738e18  │\n",
       "│ 5   │ 5     │ 1.25278e18    │ 4.99341e17 │ false   │ 7.53439e17  │\n",
       "│ 6   │ 6     │ 1.05895e18    │ 4.99341e17 │ false   │ 5.59612e17  │\n",
       "│ 7   │ 7     │ 9.2895e17     │ 4.99341e17 │ false   │ 4.29609e17  │\n",
       "│ 8   │ 8     │ 8.38261e17    │ 4.99341e17 │ false   │ 3.3892e17   │\n",
       "│ 9   │ 9     │ 7.72868e17    │ 4.99341e17 │ false   │ 2.73528e17  │\n",
       "│ 10  │ 10    │ 7.24361e17    │ 4.99341e17 │ false   │ 2.2502e17   │\n",
       "⋮\n",
       "│ 90  │ 90    │ 5.02316e17    │ 4.99341e17 │ false   │ 2.97488e15  │\n",
       "│ 91  │ 91    │ 5.02251e17    │ 4.99341e17 │ false   │ 2.90991e15  │\n",
       "│ 92  │ 92    │ 5.02188e17    │ 4.99341e17 │ false   │ 2.84705e15  │\n",
       "│ 93  │ 93    │ 5.02127e17    │ 4.99341e17 │ false   │ 2.7862e15   │\n",
       "│ 94  │ 94    │ 5.02068e17    │ 4.99341e17 │ false   │ 2.72728e15  │\n",
       "│ 95  │ 95    │ 5.02011e17    │ 4.99341e17 │ false   │ 2.67021e15  │\n",
       "│ 96  │ 96    │ 5.01956e17    │ 4.99341e17 │ false   │ 2.61492e15  │\n",
       "│ 97  │ 97    │ 5.01902e17    │ 4.99341e17 │ false   │ 2.56132e15  │\n",
       "│ 98  │ 98    │ 5.0185e17     │ 4.99341e17 │ false   │ 2.50935e15  │\n",
       "│ 99  │ 99    │ 5.018e17      │ 4.99341e17 │ false   │ 2.45895e15  │\n",
       "│ 100 │ 100   │ 5.01751e17    │ 4.99341e17 │ false   │ 2.41006e15  │"
      ]
     },
     "execution_count": 28,
     "metadata": {},
     "output_type": "execute_result"
    }
   ],
   "source": [
    "compa"
   ]
  },
  {
   "cell_type": "code",
   "execution_count": 29,
   "metadata": {},
   "outputs": [
    {
     "data": {
      "image/svg+xml": [
       "<?xml version=\"1.0\" encoding=\"utf-8\"?>\n",
       "<svg xmlns=\"http://www.w3.org/2000/svg\" xmlns:xlink=\"http://www.w3.org/1999/xlink\" width=\"600\" height=\"400\" viewBox=\"0 0 2400 1600\">\n",
       "<defs>\n",
       "  <clipPath id=\"clip6600\">\n",
       "    <rect x=\"0\" y=\"0\" width=\"2000\" height=\"2000\"/>\n",
       "  </clipPath>\n",
       "</defs>\n",
       "<defs>\n",
       "  <clipPath id=\"clip6601\">\n",
       "    <rect x=\"0\" y=\"0\" width=\"2400\" height=\"1600\"/>\n",
       "  </clipPath>\n",
       "</defs>\n",
       "<polygon clip-path=\"url(#clip6601)\" points=\"\n",
       "0,1600 2400,1600 2400,0 0,0 \n",
       "  \" fill=\"#ffffff\" fill-rule=\"evenodd\" fill-opacity=\"1\"/>\n",
       "<defs>\n",
       "  <clipPath id=\"clip6602\">\n",
       "    <rect x=\"480\" y=\"0\" width=\"1681\" height=\"1600\"/>\n",
       "  </clipPath>\n",
       "</defs>\n",
       "<polygon clip-path=\"url(#clip6601)\" points=\"\n",
       "268.636,1503.47 2321.26,1503.47 2321.26,47.2441 268.636,47.2441 \n",
       "  \" fill=\"#ffffff\" fill-rule=\"evenodd\" fill-opacity=\"1\"/>\n",
       "<defs>\n",
       "  <clipPath id=\"clip6603\">\n",
       "    <rect x=\"268\" y=\"47\" width=\"2054\" height=\"1457\"/>\n",
       "  </clipPath>\n",
       "</defs>\n",
       "<polyline clip-path=\"url(#clip6603)\" style=\"stroke:#000000; stroke-width:2; stroke-opacity:0.1; fill:none\" points=\"\n",
       "  307.169,1503.47 307.169,47.2441 \n",
       "  \"/>\n",
       "<polyline clip-path=\"url(#clip6603)\" style=\"stroke:#000000; stroke-width:2; stroke-opacity:0.1; fill:none\" points=\"\n",
       "  796.168,1503.47 796.168,47.2441 \n",
       "  \"/>\n",
       "<polyline clip-path=\"url(#clip6603)\" style=\"stroke:#000000; stroke-width:2; stroke-opacity:0.1; fill:none\" points=\"\n",
       "  1285.17,1503.47 1285.17,47.2441 \n",
       "  \"/>\n",
       "<polyline clip-path=\"url(#clip6603)\" style=\"stroke:#000000; stroke-width:2; stroke-opacity:0.1; fill:none\" points=\"\n",
       "  1774.17,1503.47 1774.17,47.2441 \n",
       "  \"/>\n",
       "<polyline clip-path=\"url(#clip6603)\" style=\"stroke:#000000; stroke-width:2; stroke-opacity:0.1; fill:none\" points=\"\n",
       "  2263.17,1503.47 2263.17,47.2441 \n",
       "  \"/>\n",
       "<polyline clip-path=\"url(#clip6603)\" style=\"stroke:#000000; stroke-width:2; stroke-opacity:0.1; fill:none\" points=\"\n",
       "  268.636,1353.22 2321.26,1353.22 \n",
       "  \"/>\n",
       "<polyline clip-path=\"url(#clip6603)\" style=\"stroke:#000000; stroke-width:2; stroke-opacity:0.1; fill:none\" points=\"\n",
       "  268.636,1132.14 2321.26,1132.14 \n",
       "  \"/>\n",
       "<polyline clip-path=\"url(#clip6603)\" style=\"stroke:#000000; stroke-width:2; stroke-opacity:0.1; fill:none\" points=\"\n",
       "  268.636,911.052 2321.26,911.052 \n",
       "  \"/>\n",
       "<polyline clip-path=\"url(#clip6603)\" style=\"stroke:#000000; stroke-width:2; stroke-opacity:0.1; fill:none\" points=\"\n",
       "  268.636,689.966 2321.26,689.966 \n",
       "  \"/>\n",
       "<polyline clip-path=\"url(#clip6603)\" style=\"stroke:#000000; stroke-width:2; stroke-opacity:0.1; fill:none\" points=\"\n",
       "  268.636,468.88 2321.26,468.88 \n",
       "  \"/>\n",
       "<polyline clip-path=\"url(#clip6603)\" style=\"stroke:#000000; stroke-width:2; stroke-opacity:0.1; fill:none\" points=\"\n",
       "  268.636,247.794 2321.26,247.794 \n",
       "  \"/>\n",
       "<polyline clip-path=\"url(#clip6601)\" style=\"stroke:#000000; stroke-width:4; stroke-opacity:1; fill:none\" points=\"\n",
       "  268.636,1503.47 2321.26,1503.47 \n",
       "  \"/>\n",
       "<polyline clip-path=\"url(#clip6601)\" style=\"stroke:#000000; stroke-width:4; stroke-opacity:1; fill:none\" points=\"\n",
       "  268.636,1503.47 268.636,47.2441 \n",
       "  \"/>\n",
       "<polyline clip-path=\"url(#clip6601)\" style=\"stroke:#000000; stroke-width:4; stroke-opacity:1; fill:none\" points=\"\n",
       "  307.169,1503.47 307.169,1481.63 \n",
       "  \"/>\n",
       "<polyline clip-path=\"url(#clip6601)\" style=\"stroke:#000000; stroke-width:4; stroke-opacity:1; fill:none\" points=\"\n",
       "  796.168,1503.47 796.168,1481.63 \n",
       "  \"/>\n",
       "<polyline clip-path=\"url(#clip6601)\" style=\"stroke:#000000; stroke-width:4; stroke-opacity:1; fill:none\" points=\"\n",
       "  1285.17,1503.47 1285.17,1481.63 \n",
       "  \"/>\n",
       "<polyline clip-path=\"url(#clip6601)\" style=\"stroke:#000000; stroke-width:4; stroke-opacity:1; fill:none\" points=\"\n",
       "  1774.17,1503.47 1774.17,1481.63 \n",
       "  \"/>\n",
       "<polyline clip-path=\"url(#clip6601)\" style=\"stroke:#000000; stroke-width:4; stroke-opacity:1; fill:none\" points=\"\n",
       "  2263.17,1503.47 2263.17,1481.63 \n",
       "  \"/>\n",
       "<polyline clip-path=\"url(#clip6601)\" style=\"stroke:#000000; stroke-width:4; stroke-opacity:1; fill:none\" points=\"\n",
       "  268.636,1353.22 299.425,1353.22 \n",
       "  \"/>\n",
       "<polyline clip-path=\"url(#clip6601)\" style=\"stroke:#000000; stroke-width:4; stroke-opacity:1; fill:none\" points=\"\n",
       "  268.636,1132.14 299.425,1132.14 \n",
       "  \"/>\n",
       "<polyline clip-path=\"url(#clip6601)\" style=\"stroke:#000000; stroke-width:4; stroke-opacity:1; fill:none\" points=\"\n",
       "  268.636,911.052 299.425,911.052 \n",
       "  \"/>\n",
       "<polyline clip-path=\"url(#clip6601)\" style=\"stroke:#000000; stroke-width:4; stroke-opacity:1; fill:none\" points=\"\n",
       "  268.636,689.966 299.425,689.966 \n",
       "  \"/>\n",
       "<polyline clip-path=\"url(#clip6601)\" style=\"stroke:#000000; stroke-width:4; stroke-opacity:1; fill:none\" points=\"\n",
       "  268.636,468.88 299.425,468.88 \n",
       "  \"/>\n",
       "<polyline clip-path=\"url(#clip6601)\" style=\"stroke:#000000; stroke-width:4; stroke-opacity:1; fill:none\" points=\"\n",
       "  268.636,247.794 299.425,247.794 \n",
       "  \"/>\n",
       "<g clip-path=\"url(#clip6601)\">\n",
       "<text style=\"fill:#000000; fill-opacity:1; font-family:Arial,Helvetica Neue,Helvetica,sans-serif; font-size:48px; text-anchor:middle;\" transform=\"rotate(0, 307.169, 1557.47)\" x=\"307.169\" y=\"1557.47\">0</text>\n",
       "</g>\n",
       "<g clip-path=\"url(#clip6601)\">\n",
       "<text style=\"fill:#000000; fill-opacity:1; font-family:Arial,Helvetica Neue,Helvetica,sans-serif; font-size:48px; text-anchor:middle;\" transform=\"rotate(0, 796.168, 1557.47)\" x=\"796.168\" y=\"1557.47\">25</text>\n",
       "</g>\n",
       "<g clip-path=\"url(#clip6601)\">\n",
       "<text style=\"fill:#000000; fill-opacity:1; font-family:Arial,Helvetica Neue,Helvetica,sans-serif; font-size:48px; text-anchor:middle;\" transform=\"rotate(0, 1285.17, 1557.47)\" x=\"1285.17\" y=\"1557.47\">50</text>\n",
       "</g>\n",
       "<g clip-path=\"url(#clip6601)\">\n",
       "<text style=\"fill:#000000; fill-opacity:1; font-family:Arial,Helvetica Neue,Helvetica,sans-serif; font-size:48px; text-anchor:middle;\" transform=\"rotate(0, 1774.17, 1557.47)\" x=\"1774.17\" y=\"1557.47\">75</text>\n",
       "</g>\n",
       "<g clip-path=\"url(#clip6601)\">\n",
       "<text style=\"fill:#000000; fill-opacity:1; font-family:Arial,Helvetica Neue,Helvetica,sans-serif; font-size:48px; text-anchor:middle;\" transform=\"rotate(0, 2263.17, 1557.47)\" x=\"2263.17\" y=\"1557.47\">100</text>\n",
       "</g>\n",
       "<g clip-path=\"url(#clip6601)\">\n",
       "<text style=\"fill:#000000; fill-opacity:1; font-family:Arial,Helvetica Neue,Helvetica,sans-serif; font-size:48px; text-anchor:end;\" transform=\"rotate(0, 244.636, 1370.72)\" x=\"244.636\" y=\"1370.72\">0</text>\n",
       "</g>\n",
       "<g clip-path=\"url(#clip6601)\">\n",
       "<text style=\"fill:#000000; fill-opacity:1; font-family:Arial,Helvetica Neue,Helvetica,sans-serif; font-size:48px; text-anchor:start;\" transform=\"rotate(0, 92.75, 1155.87)\" x=\"92.75\" y=\"1155.87\">1×10</text>\n",
       "</g>\n",
       "<g clip-path=\"url(#clip6601)\">\n",
       "<text style=\"fill:#000000; fill-opacity:1; font-family:Arial,Helvetica Neue,Helvetica,sans-serif; font-size:38px; text-anchor:start;\" transform=\"rotate(0, 201.147, 1128.46)\" x=\"201.147\" y=\"1128.46\">18</text>\n",
       "</g>\n",
       "<g clip-path=\"url(#clip6601)\">\n",
       "<text style=\"fill:#000000; fill-opacity:1; font-family:Arial,Helvetica Neue,Helvetica,sans-serif; font-size:48px; text-anchor:start;\" transform=\"rotate(0, 92.75, 934.78)\" x=\"92.75\" y=\"934.78\">2×10</text>\n",
       "</g>\n",
       "<g clip-path=\"url(#clip6601)\">\n",
       "<text style=\"fill:#000000; fill-opacity:1; font-family:Arial,Helvetica Neue,Helvetica,sans-serif; font-size:38px; text-anchor:start;\" transform=\"rotate(0, 201.147, 907.37)\" x=\"201.147\" y=\"907.37\">18</text>\n",
       "</g>\n",
       "<g clip-path=\"url(#clip6601)\">\n",
       "<text style=\"fill:#000000; fill-opacity:1; font-family:Arial,Helvetica Neue,Helvetica,sans-serif; font-size:48px; text-anchor:start;\" transform=\"rotate(0, 92.75, 713.694)\" x=\"92.75\" y=\"713.694\">3×10</text>\n",
       "</g>\n",
       "<g clip-path=\"url(#clip6601)\">\n",
       "<text style=\"fill:#000000; fill-opacity:1; font-family:Arial,Helvetica Neue,Helvetica,sans-serif; font-size:38px; text-anchor:start;\" transform=\"rotate(0, 201.147, 686.283)\" x=\"201.147\" y=\"686.283\">18</text>\n",
       "</g>\n",
       "<g clip-path=\"url(#clip6601)\">\n",
       "<text style=\"fill:#000000; fill-opacity:1; font-family:Arial,Helvetica Neue,Helvetica,sans-serif; font-size:48px; text-anchor:start;\" transform=\"rotate(0, 92.75, 492.607)\" x=\"92.75\" y=\"492.607\">4×10</text>\n",
       "</g>\n",
       "<g clip-path=\"url(#clip6601)\">\n",
       "<text style=\"fill:#000000; fill-opacity:1; font-family:Arial,Helvetica Neue,Helvetica,sans-serif; font-size:38px; text-anchor:start;\" transform=\"rotate(0, 201.147, 465.197)\" x=\"201.147\" y=\"465.197\">18</text>\n",
       "</g>\n",
       "<g clip-path=\"url(#clip6601)\">\n",
       "<text style=\"fill:#000000; fill-opacity:1; font-family:Arial,Helvetica Neue,Helvetica,sans-serif; font-size:48px; text-anchor:start;\" transform=\"rotate(0, 92.75, 271.521)\" x=\"92.75\" y=\"271.521\">5×10</text>\n",
       "</g>\n",
       "<g clip-path=\"url(#clip6601)\">\n",
       "<text style=\"fill:#000000; fill-opacity:1; font-family:Arial,Helvetica Neue,Helvetica,sans-serif; font-size:38px; text-anchor:start;\" transform=\"rotate(0, 201.147, 244.111)\" x=\"201.147\" y=\"244.111\">18</text>\n",
       "</g>\n",
       "<polyline clip-path=\"url(#clip6603)\" style=\"stroke:#009af9; stroke-width:4; stroke-opacity:1; fill:none\" points=\"\n",
       "  326.729,1353.22 346.289,1353.22 365.849,1353.22 385.409,1353.22 404.969,1353.22 424.529,1353.22 444.089,1353.22 463.649,1353.22 483.209,1353.22 502.769,1353.22 \n",
       "  522.329,1353.22 541.889,1353.22 561.449,1353.22 581.009,1353.22 600.569,1353.22 620.129,1353.22 639.689,1353.22 659.249,1353.22 678.809,1353.22 698.369,1353.22 \n",
       "  717.929,1353.22 737.489,1353.22 757.049,1353.22 776.609,1353.22 796.168,1353.22 815.728,1353.22 835.288,1353.22 854.848,1353.22 874.408,1353.22 893.968,1353.22 \n",
       "  913.528,1353.22 933.088,1353.22 952.648,1353.22 972.208,1353.22 991.768,1353.22 1011.33,1353.22 1030.89,1353.22 1050.45,1353.22 1070.01,1353.22 1089.57,1353.22 \n",
       "  1109.13,1353.22 1128.69,1353.22 1148.25,1353.22 1167.81,1353.22 1187.37,1353.22 1206.93,1353.22 1226.49,1353.22 1246.05,1353.22 1265.61,1353.22 1285.17,1353.22 \n",
       "  1304.73,1353.22 1324.29,1353.22 1343.85,1353.22 1363.41,1353.22 1382.97,1353.22 1402.53,1353.22 1422.09,1353.22 1441.65,1353.22 1461.21,1353.22 1480.77,1353.22 \n",
       "  1500.33,1353.22 1519.89,1353.22 1539.45,1353.22 1559.01,1353.22 1578.57,1353.22 1598.13,1353.22 1617.69,1353.22 1637.25,1353.22 1656.81,1353.22 1676.37,1353.22 \n",
       "  1695.93,1353.22 1715.49,1353.22 1735.05,1353.22 1754.61,1353.22 1774.17,1353.22 1793.73,1353.22 1813.29,1353.22 1832.85,1353.22 1852.41,1353.22 1871.97,1353.22 \n",
       "  1891.53,1353.22 1911.09,1353.22 1930.65,1353.22 1950.21,1353.22 1969.77,1353.22 1989.33,1353.22 2008.89,1353.22 2028.45,1353.22 2048.01,1353.22 2067.57,1353.22 \n",
       "  2087.13,1353.22 2106.69,1353.22 2126.25,1353.22 2145.81,1353.22 2165.37,1353.22 2184.93,1353.22 2204.49,1353.22 2224.05,1353.22 2243.61,1353.22 2263.17,1353.22 \n",
       "  \n",
       "  \"/>\n",
       "<polyline clip-path=\"url(#clip6603)\" style=\"stroke:#e26f46; stroke-width:4; stroke-opacity:1; fill:none\" points=\"\n",
       "  326.729,88.4582 346.289,776.04 365.849,1462.26 385.409,1119.45 404.969,1186.65 424.529,1229.5 444.089,1258.24 463.649,1278.29 483.209,1292.75 502.769,1303.48 \n",
       "  522.329,1448.91 541.889,1446.44 561.449,1322.96 581.009,1326.98 600.569,1330.26 620.129,1332.97 639.689,1335.22 659.249,1337.13 678.809,1338.74 698.369,1340.13 \n",
       "  717.929,1341.33 737.489,1342.37 757.049,1343.28 776.609,1344.08 796.168,1344.79 815.728,1345.42 835.288,1345.98 854.848,1346.49 874.408,1346.94 893.968,1347.35 \n",
       "  913.528,1347.72 933.088,1348.05 952.648,1348.36 972.208,1348.64 991.768,1348.9 1011.33,1349.13 1030.89,1349.35 1050.45,1404.94 1070.01,1349.74 1089.57,1349.91 \n",
       "  1109.13,1350.07 1128.69,1350.21 1148.25,1350.35 1167.81,1350.48 1187.37,1350.6 1206.93,1350.71 1226.49,1350.82 1246.05,1350.92 1265.61,1351.01 1285.17,1351.1 \n",
       "  1304.73,1351.18 1324.29,1351.26 1343.85,1351.33 1363.41,1351.4 1382.97,1351.47 1402.53,1351.53 1422.09,1351.59 1441.65,1351.64 1461.21,1351.7 1480.77,1351.75 \n",
       "  1500.33,1351.79 1519.89,1351.84 1539.45,1351.88 1559.01,1351.93 1578.57,1351.97 1598.13,1352 1617.69,1352.04 1637.25,1352.07 1656.81,1352.11 1676.37,1352.14 \n",
       "  1695.93,1352.17 1715.49,1352.2 1735.05,1352.23 1754.61,1352.25 1774.17,1352.28 1793.73,1352.3 1813.29,1352.33 1832.85,1352.35 1852.41,1352.37 1871.97,1352.39 \n",
       "  1891.53,1352.41 1911.09,1352.43 1930.65,1352.45 1950.21,1352.47 1969.77,1352.49 1989.33,1352.5 2008.89,1352.52 2028.45,1352.54 2048.01,1352.55 2067.57,1352.57 \n",
       "  2087.13,1352.58 2106.69,1352.6 2126.25,1352.61 2145.81,1352.62 2165.37,1352.63 2184.93,1352.65 2204.49,1352.66 2224.05,1352.67 2243.61,1352.68 2263.17,1352.69 \n",
       "  \n",
       "  \"/>\n",
       "<polygon clip-path=\"url(#clip6601)\" points=\"\n",
       "1862.16,312.204 2249.26,312.204 2249.26,130.764 1862.16,130.764 \n",
       "  \" fill=\"#ffffff\" fill-rule=\"evenodd\" fill-opacity=\"1\"/>\n",
       "<polyline clip-path=\"url(#clip6601)\" style=\"stroke:#000000; stroke-width:4; stroke-opacity:1; fill:none\" points=\"\n",
       "  1862.16,312.204 2249.26,312.204 2249.26,130.764 1862.16,130.764 1862.16,312.204 \n",
       "  \"/>\n",
       "<polyline clip-path=\"url(#clip6601)\" style=\"stroke:#009af9; stroke-width:4; stroke-opacity:1; fill:none\" points=\"\n",
       "  1886.16,191.244 2030.16,191.244 \n",
       "  \"/>\n",
       "<g clip-path=\"url(#clip6601)\">\n",
       "<text style=\"fill:#000000; fill-opacity:1; font-family:Arial,Helvetica Neue,Helvetica,sans-serif; font-size:48px; text-anchor:start;\" transform=\"rotate(0, 2054.16, 208.744)\" x=\"2054.16\" y=\"208.744\">diff(it)</text>\n",
       "</g>\n",
       "<polyline clip-path=\"url(#clip6601)\" style=\"stroke:#e26f46; stroke-width:4; stroke-opacity:1; fill:none\" points=\"\n",
       "  1886.16,251.724 2030.16,251.724 \n",
       "  \"/>\n",
       "<g clip-path=\"url(#clip6601)\">\n",
       "<text style=\"fill:#000000; fill-opacity:1; font-family:Arial,Helvetica Neue,Helvetica,sans-serif; font-size:48px; text-anchor:start;\" transform=\"rotate(0, 2054.16, 269.224)\" x=\"2054.16\" y=\"269.224\">diff(it)2</text>\n",
       "</g>\n",
       "</svg>\n"
      ]
     },
     "execution_count": 29,
     "metadata": {},
     "output_type": "execute_result"
    }
   ],
   "source": [
    "plot!(compa[:it], compa[:diff], label=\"diff(it)2\")"
   ]
  },
  {
   "cell_type": "code",
   "execution_count": null,
   "metadata": {},
   "outputs": [],
   "source": []
  }
 ],
 "metadata": {
  "kernelspec": {
   "display_name": "Julia 1.0.1",
   "language": "julia",
   "name": "julia-1.0"
  },
  "language_info": {
   "file_extension": ".jl",
   "mimetype": "application/julia",
   "name": "julia",
   "version": "1.0.1"
  }
 },
 "nbformat": 4,
 "nbformat_minor": 2
}
