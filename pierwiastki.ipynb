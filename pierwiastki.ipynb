{
 "cells": [
  {
   "cell_type": "code",
   "execution_count": 1,
   "metadata": {},
   "outputs": [
    {
     "name": "stderr",
     "output_type": "stream",
     "text": [
      "┌ Info: Recompiling stale cache file /Users/kuba/.julia/compiled/v1.0/Plots/ld3vC.ji for Plots [91a5bcdd-55d7-5caf-9e0b-520d859cae80]\n",
      "└ @ Base loading.jl:1187\n"
     ]
    }
   ],
   "source": [
    "using Roots  \n",
    "using Plots\n",
    "using ForwardDiff\n",
    "using DataFrames"
   ]
  },
  {
   "cell_type": "markdown",
   "metadata": {},
   "source": [
    "# funkcje:"
   ]
  },
  {
   "cell_type": "code",
   "execution_count": 2,
   "metadata": {},
   "outputs": [
    {
     "data": {
      "text/plain": [
       "f6 (generic function with 1 method)"
      ]
     },
     "execution_count": 2,
     "metadata": {},
     "output_type": "execute_result"
    }
   ],
   "source": [
    "f1(x) = ( x + 3 ) * ( x - 1 )^2\n",
    "f2(x) = x * exp(- x)\n",
    "f3(x) = 2 * x - exp(- x)\n",
    "f4(x) = x^3 - 2*x - 5\n",
    "f5(x) = exp(x) - 2 - 1 / ( 10 * x )^2 + 2 / ( 100 * x )^3\n",
    "f6(x) = x^3"
   ]
  },
  {
   "cell_type": "code",
   "execution_count": 3,
   "metadata": {},
   "outputs": [
    {
     "data": {
      "image/svg+xml": [
       "<?xml version=\"1.0\" encoding=\"utf-8\"?>\n",
       "<svg xmlns=\"http://www.w3.org/2000/svg\" xmlns:xlink=\"http://www.w3.org/1999/xlink\" width=\"600\" height=\"400\" viewBox=\"0 0 2400 1600\">\n",
       "<defs>\n",
       "  <clipPath id=\"clip8200\">\n",
       "    <rect x=\"0\" y=\"0\" width=\"2000\" height=\"2000\"/>\n",
       "  </clipPath>\n",
       "</defs>\n",
       "<defs>\n",
       "  <clipPath id=\"clip8201\">\n",
       "    <rect x=\"0\" y=\"0\" width=\"2400\" height=\"1600\"/>\n",
       "  </clipPath>\n",
       "</defs>\n",
       "<polygon clip-path=\"url(#clip8201)\" points=\"\n",
       "0,1600 2400,1600 2400,0 0,0 \n",
       "  \" fill=\"#ffffff\" fill-rule=\"evenodd\" fill-opacity=\"1\"/>\n",
       "<defs>\n",
       "  <clipPath id=\"clip8202\">\n",
       "    <rect x=\"480\" y=\"0\" width=\"1681\" height=\"1600\"/>\n",
       "  </clipPath>\n",
       "</defs>\n",
       "<polygon clip-path=\"url(#clip8201)\" points=\"\n",
       "176.123,1503.47 2321.26,1503.47 2321.26,47.2441 176.123,47.2441 \n",
       "  \" fill=\"#ffffff\" fill-rule=\"evenodd\" fill-opacity=\"1\"/>\n",
       "<defs>\n",
       "  <clipPath id=\"clip8203\">\n",
       "    <rect x=\"176\" y=\"47\" width=\"2146\" height=\"1457\"/>\n",
       "  </clipPath>\n",
       "</defs>\n",
       "<polyline clip-path=\"url(#clip8203)\" style=\"stroke:#000000; stroke-width:2; stroke-opacity:0.1; fill:none\" points=\"\n",
       "  231.866,1503.47 231.866,47.2441 \n",
       "  \"/>\n",
       "<polyline clip-path=\"url(#clip8203)\" style=\"stroke:#000000; stroke-width:2; stroke-opacity:0.1; fill:none\" points=\"\n",
       "  740.653,1503.47 740.653,47.2441 \n",
       "  \"/>\n",
       "<polyline clip-path=\"url(#clip8203)\" style=\"stroke:#000000; stroke-width:2; stroke-opacity:0.1; fill:none\" points=\"\n",
       "  1249.44,1503.47 1249.44,47.2441 \n",
       "  \"/>\n",
       "<polyline clip-path=\"url(#clip8203)\" style=\"stroke:#000000; stroke-width:2; stroke-opacity:0.1; fill:none\" points=\"\n",
       "  1758.23,1503.47 1758.23,47.2441 \n",
       "  \"/>\n",
       "<polyline clip-path=\"url(#clip8203)\" style=\"stroke:#000000; stroke-width:2; stroke-opacity:0.1; fill:none\" points=\"\n",
       "  2267.01,1503.47 2267.01,47.2441 \n",
       "  \"/>\n",
       "<polyline clip-path=\"url(#clip8203)\" style=\"stroke:#000000; stroke-width:2; stroke-opacity:0.1; fill:none\" points=\"\n",
       "  176.123,1319.62 2321.26,1319.62 \n",
       "  \"/>\n",
       "<polyline clip-path=\"url(#clip8203)\" style=\"stroke:#000000; stroke-width:2; stroke-opacity:0.1; fill:none\" points=\"\n",
       "  176.123,1046.73 2321.26,1046.73 \n",
       "  \"/>\n",
       "<polyline clip-path=\"url(#clip8203)\" style=\"stroke:#000000; stroke-width:2; stroke-opacity:0.1; fill:none\" points=\"\n",
       "  176.123,773.835 2321.26,773.835 \n",
       "  \"/>\n",
       "<polyline clip-path=\"url(#clip8203)\" style=\"stroke:#000000; stroke-width:2; stroke-opacity:0.1; fill:none\" points=\"\n",
       "  176.123,500.94 2321.26,500.94 \n",
       "  \"/>\n",
       "<polyline clip-path=\"url(#clip8203)\" style=\"stroke:#000000; stroke-width:2; stroke-opacity:0.1; fill:none\" points=\"\n",
       "  176.123,228.045 2321.26,228.045 \n",
       "  \"/>\n",
       "<polyline clip-path=\"url(#clip8201)\" style=\"stroke:#000000; stroke-width:4; stroke-opacity:1; fill:none\" points=\"\n",
       "  176.123,1503.47 2321.26,1503.47 \n",
       "  \"/>\n",
       "<polyline clip-path=\"url(#clip8201)\" style=\"stroke:#000000; stroke-width:4; stroke-opacity:1; fill:none\" points=\"\n",
       "  176.123,1503.47 176.123,47.2441 \n",
       "  \"/>\n",
       "<polyline clip-path=\"url(#clip8201)\" style=\"stroke:#000000; stroke-width:4; stroke-opacity:1; fill:none\" points=\"\n",
       "  231.866,1503.47 231.866,1481.63 \n",
       "  \"/>\n",
       "<polyline clip-path=\"url(#clip8201)\" style=\"stroke:#000000; stroke-width:4; stroke-opacity:1; fill:none\" points=\"\n",
       "  740.653,1503.47 740.653,1481.63 \n",
       "  \"/>\n",
       "<polyline clip-path=\"url(#clip8201)\" style=\"stroke:#000000; stroke-width:4; stroke-opacity:1; fill:none\" points=\"\n",
       "  1249.44,1503.47 1249.44,1481.63 \n",
       "  \"/>\n",
       "<polyline clip-path=\"url(#clip8201)\" style=\"stroke:#000000; stroke-width:4; stroke-opacity:1; fill:none\" points=\"\n",
       "  1758.23,1503.47 1758.23,1481.63 \n",
       "  \"/>\n",
       "<polyline clip-path=\"url(#clip8201)\" style=\"stroke:#000000; stroke-width:4; stroke-opacity:1; fill:none\" points=\"\n",
       "  2267.01,1503.47 2267.01,1481.63 \n",
       "  \"/>\n",
       "<polyline clip-path=\"url(#clip8201)\" style=\"stroke:#000000; stroke-width:4; stroke-opacity:1; fill:none\" points=\"\n",
       "  176.123,1319.62 208.3,1319.62 \n",
       "  \"/>\n",
       "<polyline clip-path=\"url(#clip8201)\" style=\"stroke:#000000; stroke-width:4; stroke-opacity:1; fill:none\" points=\"\n",
       "  176.123,1046.73 208.3,1046.73 \n",
       "  \"/>\n",
       "<polyline clip-path=\"url(#clip8201)\" style=\"stroke:#000000; stroke-width:4; stroke-opacity:1; fill:none\" points=\"\n",
       "  176.123,773.835 208.3,773.835 \n",
       "  \"/>\n",
       "<polyline clip-path=\"url(#clip8201)\" style=\"stroke:#000000; stroke-width:4; stroke-opacity:1; fill:none\" points=\"\n",
       "  176.123,500.94 208.3,500.94 \n",
       "  \"/>\n",
       "<polyline clip-path=\"url(#clip8201)\" style=\"stroke:#000000; stroke-width:4; stroke-opacity:1; fill:none\" points=\"\n",
       "  176.123,228.045 208.3,228.045 \n",
       "  \"/>\n",
       "<g clip-path=\"url(#clip8201)\">\n",
       "<text style=\"fill:#000000; fill-opacity:1; font-family:Arial,Helvetica Neue,Helvetica,sans-serif; font-size:48px; text-anchor:middle;\" transform=\"rotate(0, 231.866, 1557.47)\" x=\"231.866\" y=\"1557.47\">-4</text>\n",
       "</g>\n",
       "<g clip-path=\"url(#clip8201)\">\n",
       "<text style=\"fill:#000000; fill-opacity:1; font-family:Arial,Helvetica Neue,Helvetica,sans-serif; font-size:48px; text-anchor:middle;\" transform=\"rotate(0, 740.653, 1557.47)\" x=\"740.653\" y=\"1557.47\">-2</text>\n",
       "</g>\n",
       "<g clip-path=\"url(#clip8201)\">\n",
       "<text style=\"fill:#000000; fill-opacity:1; font-family:Arial,Helvetica Neue,Helvetica,sans-serif; font-size:48px; text-anchor:middle;\" transform=\"rotate(0, 1249.44, 1557.47)\" x=\"1249.44\" y=\"1557.47\">0</text>\n",
       "</g>\n",
       "<g clip-path=\"url(#clip8201)\">\n",
       "<text style=\"fill:#000000; fill-opacity:1; font-family:Arial,Helvetica Neue,Helvetica,sans-serif; font-size:48px; text-anchor:middle;\" transform=\"rotate(0, 1758.23, 1557.47)\" x=\"1758.23\" y=\"1557.47\">2</text>\n",
       "</g>\n",
       "<g clip-path=\"url(#clip8201)\">\n",
       "<text style=\"fill:#000000; fill-opacity:1; font-family:Arial,Helvetica Neue,Helvetica,sans-serif; font-size:48px; text-anchor:middle;\" transform=\"rotate(0, 2267.01, 1557.47)\" x=\"2267.01\" y=\"1557.47\">4</text>\n",
       "</g>\n",
       "<g clip-path=\"url(#clip8201)\">\n",
       "<text style=\"fill:#000000; fill-opacity:1; font-family:Arial,Helvetica Neue,Helvetica,sans-serif; font-size:48px; text-anchor:end;\" transform=\"rotate(0, 152.123, 1337.12)\" x=\"152.123\" y=\"1337.12\">-50</text>\n",
       "</g>\n",
       "<g clip-path=\"url(#clip8201)\">\n",
       "<text style=\"fill:#000000; fill-opacity:1; font-family:Arial,Helvetica Neue,Helvetica,sans-serif; font-size:48px; text-anchor:end;\" transform=\"rotate(0, 152.123, 1064.23)\" x=\"152.123\" y=\"1064.23\">-25</text>\n",
       "</g>\n",
       "<g clip-path=\"url(#clip8201)\">\n",
       "<text style=\"fill:#000000; fill-opacity:1; font-family:Arial,Helvetica Neue,Helvetica,sans-serif; font-size:48px; text-anchor:end;\" transform=\"rotate(0, 152.123, 791.335)\" x=\"152.123\" y=\"791.335\">0</text>\n",
       "</g>\n",
       "<g clip-path=\"url(#clip8201)\">\n",
       "<text style=\"fill:#000000; fill-opacity:1; font-family:Arial,Helvetica Neue,Helvetica,sans-serif; font-size:48px; text-anchor:end;\" transform=\"rotate(0, 152.123, 518.44)\" x=\"152.123\" y=\"518.44\">25</text>\n",
       "</g>\n",
       "<g clip-path=\"url(#clip8201)\">\n",
       "<text style=\"fill:#000000; fill-opacity:1; font-family:Arial,Helvetica Neue,Helvetica,sans-serif; font-size:48px; text-anchor:end;\" transform=\"rotate(0, 152.123, 245.545)\" x=\"152.123\" y=\"245.545\">50</text>\n",
       "</g>\n",
       "<polyline clip-path=\"url(#clip8203)\" style=\"stroke:#009af9; stroke-width:4; stroke-opacity:1; fill:none\" points=\"\n",
       "  236.834,1039.31 241.803,1031.99 246.772,1024.75 251.741,1017.61 297.684,955.731 343.627,901.134 389.57,853.431 435.513,812.236 490.732,770.79 545.952,737.52 \n",
       "  592.64,715.272 639.327,697.984 690.043,684.353 740.759,675.579 787.514,671.344 834.27,670.389 934.523,677.503 1050.68,696.986 1153.9,719.628 1244.42,740.006 \n",
       "  1343.11,759.158 1442.38,771.441 1497.26,773.806 1552.14,772.185 1604.36,766.343 1656.58,755.731 1710.87,739.03 1765.17,715.923 1810.87,691.039 1856.58,660.785 \n",
       "  1912.38,616.014 1968.17,561.982 1994.4,533.19 2020.63,502.127 2046.85,468.722 2073.08,432.903 2115.1,370.307 2157.12,301.036 2199.13,224.794 2241.15,141.287 \n",
       "  2247.62,127.771 2254.08,114.076 2260.55,100.199 \n",
       "  \"/>\n",
       "<polyline clip-path=\"url(#clip8203)\" style=\"stroke:#e26f46; stroke-width:4; stroke-opacity:1; fill:none\" points=\"\n",
       "  490.607,1416.75 494.955,1402.24 499.302,1388.03 503.65,1374.12 523.75,1313.57 543.85,1258.75 563.95,1209.15 584.05,1164.28 604.15,1123.72 624.25,1087.07 \n",
       "  644.35,1053.97 664.45,1024.09 688.609,992.016 712.768,963.703 736.926,938.729 761.085,916.721 801.936,885.344 842.788,860.132 887.164,838.408 931.541,821.428 \n",
       "  972.452,809.143 1013.36,799.457 1101.08,785.24 1202.72,776.243 1293.04,772.258 1372.24,770.583 1458.6,769.89 1545.46,769.867 1641.5,770.232 1732.88,770.733 \n",
       "  1827.9,771.28 1907.88,771.711 2005.53,772.174 2097.32,772.536 2244.38,772.98 \n",
       "  \"/>\n",
       "<polyline clip-path=\"url(#clip8203)\" style=\"stroke:#3da44d; stroke-width:4; stroke-opacity:1; fill:none\" points=\"\n",
       "  236.834,1445.19 241.803,1433.46 246.772,1421.94 251.741,1410.65 274.712,1361.08 297.684,1315.63 320.655,1273.93 343.627,1235.66 366.598,1200.53 389.57,1168.26 \n",
       "  412.541,1138.6 435.513,1111.34 463.123,1081.44 490.732,1054.37 518.342,1029.85 545.952,1007.6 592.64,974.52 639.327,946.316 690.043,920.252 740.759,898.112 \n",
       "  787.514,880.564 834.27,865.288 934.523,838.502 1050.68,814.736 1153.9,797.925 1244.42,785.399 1343.11,773.35 1442.38,762.39 1552.14,751.178 1656.58,741.098 \n",
       "  1765.17,731.013 1856.58,722.735 1968.17,712.801 2073.08,703.58 2241.15,688.949 \n",
       "  \"/>\n",
       "<polyline clip-path=\"url(#clip8203)\" style=\"stroke:#c271d2; stroke-width:4; stroke-opacity:1; fill:none\" points=\"\n",
       "  236.834,1429.94 241.803,1420.28 246.772,1410.72 251.741,1401.26 297.684,1318.36 343.627,1243.46 389.57,1176.16 435.513,1116.08 463.123,1083.29 490.732,1052.88 \n",
       "  518.342,1024.77 545.952,998.879 592.64,959.909 639.327,926.635 690.043,896.471 740.759,872.031 787.514,854.123 834.27,840.232 884.396,829.339 934.523,822.095 \n",
       "  992.6,817.606 1050.68,816.562 1153.9,820.793 1244.42,827.983 1343.11,835.907 1442.38,840.209 1497.26,839.59 1552.14,836.001 1604.36,829.228 1656.58,818.606 \n",
       "  1710.87,802.871 1765.17,781.724 1810.87,759.26 1856.58,732.131 1912.38,692.131 1968.17,643.92 2020.63,590.495 2073.08,528.629 2115.1,472.597 2157.12,410.484 \n",
       "  2199.13,341.997 2241.15,266.84 2247.62,254.662 2254.08,242.319 2260.55,229.808 \n",
       "  \"/>\n",
       "<polyline clip-path=\"url(#clip8203)\" style=\"stroke:#ac8d18; stroke-width:4; stroke-opacity:1; fill:none\" points=\"\n",
       "  236.834,1462.26 241.803,1452.18 246.772,1442.19 251.741,1432.3 297.684,1345.46 343.627,1266.61 389.57,1195.37 435.513,1131.35 490.732,1063.41 545.952,1004.67 \n",
       "  592.64,961.696 639.327,924.414 690.043,889.898 740.759,861.106 787.514,839.186 834.27,821.282 884.396,806.088 934.523,794.542 992.6,785.068 1050.68,779.041 \n",
       "  1153.9,774.413 1244.42,773.835 1343.11,773.29 1442.38,769.072 1497.26,763.743 1552.14,755.444 1604.36,744.191 1656.58,729.088 1710.87,708.692 1765.17,682.886 \n",
       "  1810.87,656.5 1856.58,625.449 1912.38,580.66 1968.17,527.661 2020.63,469.734 2073.08,403.367 2115.1,343.729 2157.12,278.01 2199.13,205.917 2241.15,127.154 \n",
       "  2247.62,114.422 2254.08,101.524 2260.55,88.4582 \n",
       "  \"/>\n",
       "<polygon clip-path=\"url(#clip8201)\" points=\"\n",
       "1969.12,493.644 2249.26,493.644 2249.26,130.764 1969.12,130.764 \n",
       "  \" fill=\"#ffffff\" fill-rule=\"evenodd\" fill-opacity=\"1\"/>\n",
       "<polyline clip-path=\"url(#clip8201)\" style=\"stroke:#000000; stroke-width:4; stroke-opacity:1; fill:none\" points=\"\n",
       "  1969.12,493.644 2249.26,493.644 2249.26,130.764 1969.12,130.764 1969.12,493.644 \n",
       "  \"/>\n",
       "<polyline clip-path=\"url(#clip8201)\" style=\"stroke:#009af9; stroke-width:4; stroke-opacity:1; fill:none\" points=\"\n",
       "  1993.12,191.244 2137.12,191.244 \n",
       "  \"/>\n",
       "<g clip-path=\"url(#clip8201)\">\n",
       "<text style=\"fill:#000000; fill-opacity:1; font-family:Arial,Helvetica Neue,Helvetica,sans-serif; font-size:48px; text-anchor:start;\" transform=\"rotate(0, 2161.12, 208.744)\" x=\"2161.12\" y=\"208.744\">f1</text>\n",
       "</g>\n",
       "<polyline clip-path=\"url(#clip8201)\" style=\"stroke:#e26f46; stroke-width:4; stroke-opacity:1; fill:none\" points=\"\n",
       "  1993.12,251.724 2137.12,251.724 \n",
       "  \"/>\n",
       "<g clip-path=\"url(#clip8201)\">\n",
       "<text style=\"fill:#000000; fill-opacity:1; font-family:Arial,Helvetica Neue,Helvetica,sans-serif; font-size:48px; text-anchor:start;\" transform=\"rotate(0, 2161.12, 269.224)\" x=\"2161.12\" y=\"269.224\">f2</text>\n",
       "</g>\n",
       "<polyline clip-path=\"url(#clip8201)\" style=\"stroke:#3da44d; stroke-width:4; stroke-opacity:1; fill:none\" points=\"\n",
       "  1993.12,312.204 2137.12,312.204 \n",
       "  \"/>\n",
       "<g clip-path=\"url(#clip8201)\">\n",
       "<text style=\"fill:#000000; fill-opacity:1; font-family:Arial,Helvetica Neue,Helvetica,sans-serif; font-size:48px; text-anchor:start;\" transform=\"rotate(0, 2161.12, 329.704)\" x=\"2161.12\" y=\"329.704\">f3</text>\n",
       "</g>\n",
       "<polyline clip-path=\"url(#clip8201)\" style=\"stroke:#c271d2; stroke-width:4; stroke-opacity:1; fill:none\" points=\"\n",
       "  1993.12,372.684 2137.12,372.684 \n",
       "  \"/>\n",
       "<g clip-path=\"url(#clip8201)\">\n",
       "<text style=\"fill:#000000; fill-opacity:1; font-family:Arial,Helvetica Neue,Helvetica,sans-serif; font-size:48px; text-anchor:start;\" transform=\"rotate(0, 2161.12, 390.184)\" x=\"2161.12\" y=\"390.184\">f4</text>\n",
       "</g>\n",
       "<polyline clip-path=\"url(#clip8201)\" style=\"stroke:#ac8d18; stroke-width:4; stroke-opacity:1; fill:none\" points=\"\n",
       "  1993.12,433.164 2137.12,433.164 \n",
       "  \"/>\n",
       "<g clip-path=\"url(#clip8201)\">\n",
       "<text style=\"fill:#000000; fill-opacity:1; font-family:Arial,Helvetica Neue,Helvetica,sans-serif; font-size:48px; text-anchor:start;\" transform=\"rotate(0, 2161.12, 450.664)\" x=\"2161.12\" y=\"450.664\">f6</text>\n",
       "</g>\n",
       "</svg>\n"
      ]
     },
     "execution_count": 3,
     "metadata": {},
     "output_type": "execute_result"
    }
   ],
   "source": [
    "plot(x->f1(x),-4,4, label=\"f1\")\n",
    "plot!(x->f2(x),-3,4, label=\"f2\")\n",
    "plot!(x->f3(x),-4,4, label=\"f3\")\n",
    "plot!(x->f4(x),-4,4, label=\"f4\")\n",
    "plot!(x->f6(x),-4,4, label=\"f6\")"
   ]
  },
  {
   "cell_type": "code",
   "execution_count": 4,
   "metadata": {},
   "outputs": [
    {
     "data": {
      "image/svg+xml": [
       "<?xml version=\"1.0\" encoding=\"utf-8\"?>\n",
       "<svg xmlns=\"http://www.w3.org/2000/svg\" xmlns:xlink=\"http://www.w3.org/1999/xlink\" width=\"600\" height=\"400\" viewBox=\"0 0 2400 1600\">\n",
       "<defs>\n",
       "  <clipPath id=\"clip8400\">\n",
       "    <rect x=\"0\" y=\"0\" width=\"2000\" height=\"2000\"/>\n",
       "  </clipPath>\n",
       "</defs>\n",
       "<defs>\n",
       "  <clipPath id=\"clip8401\">\n",
       "    <rect x=\"0\" y=\"0\" width=\"2400\" height=\"1600\"/>\n",
       "  </clipPath>\n",
       "</defs>\n",
       "<polygon clip-path=\"url(#clip8401)\" points=\"\n",
       "0,1600 2400,1600 2400,0 0,0 \n",
       "  \" fill=\"#ffffff\" fill-rule=\"evenodd\" fill-opacity=\"1\"/>\n",
       "<defs>\n",
       "  <clipPath id=\"clip8402\">\n",
       "    <rect x=\"480\" y=\"0\" width=\"1681\" height=\"1600\"/>\n",
       "  </clipPath>\n",
       "</defs>\n",
       "<polygon clip-path=\"url(#clip8401)\" points=\"\n",
       "229.648,1503.47 2321.26,1503.47 2321.26,47.2441 229.648,47.2441 \n",
       "  \" fill=\"#ffffff\" fill-rule=\"evenodd\" fill-opacity=\"1\"/>\n",
       "<defs>\n",
       "  <clipPath id=\"clip8403\">\n",
       "    <rect x=\"229\" y=\"47\" width=\"2093\" height=\"1457\"/>\n",
       "  </clipPath>\n",
       "</defs>\n",
       "<polyline clip-path=\"url(#clip8403)\" style=\"stroke:#000000; stroke-width:2; stroke-opacity:0.1; fill:none\" points=\"\n",
       "  269.321,1503.47 269.321,47.2441 \n",
       "  \"/>\n",
       "<polyline clip-path=\"url(#clip8403)\" style=\"stroke:#000000; stroke-width:2; stroke-opacity:0.1; fill:none\" points=\"\n",
       "  602.504,1503.47 602.504,47.2441 \n",
       "  \"/>\n",
       "<polyline clip-path=\"url(#clip8403)\" style=\"stroke:#000000; stroke-width:2; stroke-opacity:0.1; fill:none\" points=\"\n",
       "  935.686,1503.47 935.686,47.2441 \n",
       "  \"/>\n",
       "<polyline clip-path=\"url(#clip8403)\" style=\"stroke:#000000; stroke-width:2; stroke-opacity:0.1; fill:none\" points=\"\n",
       "  1268.87,1503.47 1268.87,47.2441 \n",
       "  \"/>\n",
       "<polyline clip-path=\"url(#clip8403)\" style=\"stroke:#000000; stroke-width:2; stroke-opacity:0.1; fill:none\" points=\"\n",
       "  1602.05,1503.47 1602.05,47.2441 \n",
       "  \"/>\n",
       "<polyline clip-path=\"url(#clip8403)\" style=\"stroke:#000000; stroke-width:2; stroke-opacity:0.1; fill:none\" points=\"\n",
       "  1935.23,1503.47 1935.23,47.2441 \n",
       "  \"/>\n",
       "<polyline clip-path=\"url(#clip8403)\" style=\"stroke:#000000; stroke-width:2; stroke-opacity:0.1; fill:none\" points=\"\n",
       "  2268.41,1503.47 2268.41,47.2441 \n",
       "  \"/>\n",
       "<polyline clip-path=\"url(#clip8403)\" style=\"stroke:#000000; stroke-width:2; stroke-opacity:0.1; fill:none\" points=\"\n",
       "  229.648,1367.64 2321.26,1367.64 \n",
       "  \"/>\n",
       "<polyline clip-path=\"url(#clip8403)\" style=\"stroke:#000000; stroke-width:2; stroke-opacity:0.1; fill:none\" points=\"\n",
       "  229.648,1048.55 2321.26,1048.55 \n",
       "  \"/>\n",
       "<polyline clip-path=\"url(#clip8403)\" style=\"stroke:#000000; stroke-width:2; stroke-opacity:0.1; fill:none\" points=\"\n",
       "  229.648,729.459 2321.26,729.459 \n",
       "  \"/>\n",
       "<polyline clip-path=\"url(#clip8403)\" style=\"stroke:#000000; stroke-width:2; stroke-opacity:0.1; fill:none\" points=\"\n",
       "  229.648,410.371 2321.26,410.371 \n",
       "  \"/>\n",
       "<polyline clip-path=\"url(#clip8403)\" style=\"stroke:#000000; stroke-width:2; stroke-opacity:0.1; fill:none\" points=\"\n",
       "  229.648,91.2829 2321.26,91.2829 \n",
       "  \"/>\n",
       "<polyline clip-path=\"url(#clip8401)\" style=\"stroke:#000000; stroke-width:4; stroke-opacity:1; fill:none\" points=\"\n",
       "  229.648,1503.47 2321.26,1503.47 \n",
       "  \"/>\n",
       "<polyline clip-path=\"url(#clip8401)\" style=\"stroke:#000000; stroke-width:4; stroke-opacity:1; fill:none\" points=\"\n",
       "  229.648,1503.47 229.648,47.2441 \n",
       "  \"/>\n",
       "<polyline clip-path=\"url(#clip8401)\" style=\"stroke:#000000; stroke-width:4; stroke-opacity:1; fill:none\" points=\"\n",
       "  269.321,1503.47 269.321,1481.63 \n",
       "  \"/>\n",
       "<polyline clip-path=\"url(#clip8401)\" style=\"stroke:#000000; stroke-width:4; stroke-opacity:1; fill:none\" points=\"\n",
       "  602.504,1503.47 602.504,1481.63 \n",
       "  \"/>\n",
       "<polyline clip-path=\"url(#clip8401)\" style=\"stroke:#000000; stroke-width:4; stroke-opacity:1; fill:none\" points=\"\n",
       "  935.686,1503.47 935.686,1481.63 \n",
       "  \"/>\n",
       "<polyline clip-path=\"url(#clip8401)\" style=\"stroke:#000000; stroke-width:4; stroke-opacity:1; fill:none\" points=\"\n",
       "  1268.87,1503.47 1268.87,1481.63 \n",
       "  \"/>\n",
       "<polyline clip-path=\"url(#clip8401)\" style=\"stroke:#000000; stroke-width:4; stroke-opacity:1; fill:none\" points=\"\n",
       "  1602.05,1503.47 1602.05,1481.63 \n",
       "  \"/>\n",
       "<polyline clip-path=\"url(#clip8401)\" style=\"stroke:#000000; stroke-width:4; stroke-opacity:1; fill:none\" points=\"\n",
       "  1935.23,1503.47 1935.23,1481.63 \n",
       "  \"/>\n",
       "<polyline clip-path=\"url(#clip8401)\" style=\"stroke:#000000; stroke-width:4; stroke-opacity:1; fill:none\" points=\"\n",
       "  2268.41,1503.47 2268.41,1481.63 \n",
       "  \"/>\n",
       "<polyline clip-path=\"url(#clip8401)\" style=\"stroke:#000000; stroke-width:4; stroke-opacity:1; fill:none\" points=\"\n",
       "  229.648,1367.64 261.022,1367.64 \n",
       "  \"/>\n",
       "<polyline clip-path=\"url(#clip8401)\" style=\"stroke:#000000; stroke-width:4; stroke-opacity:1; fill:none\" points=\"\n",
       "  229.648,1048.55 261.022,1048.55 \n",
       "  \"/>\n",
       "<polyline clip-path=\"url(#clip8401)\" style=\"stroke:#000000; stroke-width:4; stroke-opacity:1; fill:none\" points=\"\n",
       "  229.648,729.459 261.022,729.459 \n",
       "  \"/>\n",
       "<polyline clip-path=\"url(#clip8401)\" style=\"stroke:#000000; stroke-width:4; stroke-opacity:1; fill:none\" points=\"\n",
       "  229.648,410.371 261.022,410.371 \n",
       "  \"/>\n",
       "<polyline clip-path=\"url(#clip8401)\" style=\"stroke:#000000; stroke-width:4; stroke-opacity:1; fill:none\" points=\"\n",
       "  229.648,91.2829 261.022,91.2829 \n",
       "  \"/>\n",
       "<g clip-path=\"url(#clip8401)\">\n",
       "<text style=\"fill:#000000; fill-opacity:1; font-family:Arial,Helvetica Neue,Helvetica,sans-serif; font-size:48px; text-anchor:middle;\" transform=\"rotate(0, 269.321, 1557.47)\" x=\"269.321\" y=\"1557.47\">-3</text>\n",
       "</g>\n",
       "<g clip-path=\"url(#clip8401)\">\n",
       "<text style=\"fill:#000000; fill-opacity:1; font-family:Arial,Helvetica Neue,Helvetica,sans-serif; font-size:48px; text-anchor:middle;\" transform=\"rotate(0, 602.504, 1557.47)\" x=\"602.504\" y=\"1557.47\">-2</text>\n",
       "</g>\n",
       "<g clip-path=\"url(#clip8401)\">\n",
       "<text style=\"fill:#000000; fill-opacity:1; font-family:Arial,Helvetica Neue,Helvetica,sans-serif; font-size:48px; text-anchor:middle;\" transform=\"rotate(0, 935.686, 1557.47)\" x=\"935.686\" y=\"1557.47\">-1</text>\n",
       "</g>\n",
       "<g clip-path=\"url(#clip8401)\">\n",
       "<text style=\"fill:#000000; fill-opacity:1; font-family:Arial,Helvetica Neue,Helvetica,sans-serif; font-size:48px; text-anchor:middle;\" transform=\"rotate(0, 1268.87, 1557.47)\" x=\"1268.87\" y=\"1557.47\">0</text>\n",
       "</g>\n",
       "<g clip-path=\"url(#clip8401)\">\n",
       "<text style=\"fill:#000000; fill-opacity:1; font-family:Arial,Helvetica Neue,Helvetica,sans-serif; font-size:48px; text-anchor:middle;\" transform=\"rotate(0, 1602.05, 1557.47)\" x=\"1602.05\" y=\"1557.47\">1</text>\n",
       "</g>\n",
       "<g clip-path=\"url(#clip8401)\">\n",
       "<text style=\"fill:#000000; fill-opacity:1; font-family:Arial,Helvetica Neue,Helvetica,sans-serif; font-size:48px; text-anchor:middle;\" transform=\"rotate(0, 1935.23, 1557.47)\" x=\"1935.23\" y=\"1557.47\">2</text>\n",
       "</g>\n",
       "<g clip-path=\"url(#clip8401)\">\n",
       "<text style=\"fill:#000000; fill-opacity:1; font-family:Arial,Helvetica Neue,Helvetica,sans-serif; font-size:48px; text-anchor:middle;\" transform=\"rotate(0, 2268.41, 1557.47)\" x=\"2268.41\" y=\"1557.47\">3</text>\n",
       "</g>\n",
       "<g clip-path=\"url(#clip8401)\">\n",
       "<text style=\"fill:#000000; fill-opacity:1; font-family:Arial,Helvetica Neue,Helvetica,sans-serif; font-size:48px; text-anchor:end;\" transform=\"rotate(0, 205.648, 1385.14)\" x=\"205.648\" y=\"1385.14\">-8000</text>\n",
       "</g>\n",
       "<g clip-path=\"url(#clip8401)\">\n",
       "<text style=\"fill:#000000; fill-opacity:1; font-family:Arial,Helvetica Neue,Helvetica,sans-serif; font-size:48px; text-anchor:end;\" transform=\"rotate(0, 205.648, 1066.05)\" x=\"205.648\" y=\"1066.05\">-6000</text>\n",
       "</g>\n",
       "<g clip-path=\"url(#clip8401)\">\n",
       "<text style=\"fill:#000000; fill-opacity:1; font-family:Arial,Helvetica Neue,Helvetica,sans-serif; font-size:48px; text-anchor:end;\" transform=\"rotate(0, 205.648, 746.959)\" x=\"205.648\" y=\"746.959\">-4000</text>\n",
       "</g>\n",
       "<g clip-path=\"url(#clip8401)\">\n",
       "<text style=\"fill:#000000; fill-opacity:1; font-family:Arial,Helvetica Neue,Helvetica,sans-serif; font-size:48px; text-anchor:end;\" transform=\"rotate(0, 205.648, 427.871)\" x=\"205.648\" y=\"427.871\">-2000</text>\n",
       "</g>\n",
       "<g clip-path=\"url(#clip8401)\">\n",
       "<text style=\"fill:#000000; fill-opacity:1; font-family:Arial,Helvetica Neue,Helvetica,sans-serif; font-size:48px; text-anchor:end;\" transform=\"rotate(0, 205.648, 108.783)\" x=\"205.648\" y=\"108.783\">0</text>\n",
       "</g>\n",
       "<polyline clip-path=\"url(#clip8403)\" style=\"stroke:#009af9; stroke-width:4; stroke-opacity:1; fill:none\" points=\"\n",
       "  288.844,91.5938 469.361,91.5878 577.843,91.5823 669.564,91.5761 769.199,91.5671 861.053,91.5562 959.53,91.5408 1073.63,91.5179 1124.32,91.5071 1175.02,91.5017 \n",
       "  1197.25,91.5079 1219.48,91.5371 1225.04,91.5545 1230.59,91.5809 1236.15,91.6232 1241.71,91.6956 1247.26,91.8331 1252.82,92.1406 1255.6,92.4597 1258.38,93.0671 \n",
       "  1259.77,93.6007 1261.16,94.45 1262.55,95.923 1263.94,98.821 1264.69,101.764 1265.45,106.896 1266.21,117.081 1266.96,142.024 1267.72,234.05 1268.48,1462.26 \n",
       "  1269.24,1160.73 1269.99,222.939 1270.75,139.624 1271.51,116.205 1272.27,106.482 1273.02,101.535 1274.54,96.8845 1276.05,94.8385 1277.57,93.7607 1279.08,93.1241 \n",
       "  1280.6,92.717 1282.11,92.4408 1285.14,92.1006 1288.17,91.9067 1294.23,91.7045 1300.29,91.6057 1306.35,91.5493 1312.41,91.5135 1324.52,91.4706 1336.64,91.445 \n",
       "  1348.76,91.427 1360.88,91.4126 1409.63,91.3675 1458.39,91.3251 1566.21,91.2146 1668.79,91.0732 1775.46,90.8729 1865.25,90.647 1920.06,90.476 1974.87,90.2746 \n",
       "  2026.39,90.0524 2077.92,89.7932 2119.19,89.5546 2160.46,89.2846 2201.74,88.9789 2243.01,88.6329 2249.36,88.5758 2255.71,88.5175 2262.06,88.4582 \n",
       "  \"/>\n",
       "<polygon clip-path=\"url(#clip8401)\" points=\"\n",
       "1969.12,251.724 2249.26,251.724 2249.26,130.764 1969.12,130.764 \n",
       "  \" fill=\"#ffffff\" fill-rule=\"evenodd\" fill-opacity=\"1\"/>\n",
       "<polyline clip-path=\"url(#clip8401)\" style=\"stroke:#000000; stroke-width:4; stroke-opacity:1; fill:none\" points=\"\n",
       "  1969.12,251.724 2249.26,251.724 2249.26,130.764 1969.12,130.764 1969.12,251.724 \n",
       "  \"/>\n",
       "<polyline clip-path=\"url(#clip8401)\" style=\"stroke:#009af9; stroke-width:4; stroke-opacity:1; fill:none\" points=\"\n",
       "  1993.12,191.244 2137.12,191.244 \n",
       "  \"/>\n",
       "<g clip-path=\"url(#clip8401)\">\n",
       "<text style=\"fill:#000000; fill-opacity:1; font-family:Arial,Helvetica Neue,Helvetica,sans-serif; font-size:48px; text-anchor:start;\" transform=\"rotate(0, 2161.12, 208.744)\" x=\"2161.12\" y=\"208.744\">f5</text>\n",
       "</g>\n",
       "</svg>\n"
      ]
     },
     "execution_count": 4,
     "metadata": {},
     "output_type": "execute_result"
    }
   ],
   "source": [
    "plot(x->f5(x),-3,3, label=\"f5\")"
   ]
  },
  {
   "cell_type": "markdown",
   "metadata": {},
   "source": [
    "# 1. Metoda bisekcji"
   ]
  },
  {
   "cell_type": "code",
   "execution_count": 5,
   "metadata": {},
   "outputs": [
    {
     "data": {
      "text/plain": [
       "0.0"
      ]
     },
     "execution_count": 5,
     "metadata": {},
     "output_type": "execute_result"
    }
   ],
   "source": [
    "# miejsca zerowe:\n",
    "x1 = find_zero(f1, (-4, 2), Bisection())\n",
    "x2 = find_zero(f2, (-5, 5), Bisection())\n",
    "x3 = find_zero(f3, (-4, 2), Bisection())\n",
    "x4 = find_zero(f4, (-5, 5), Bisection())\n",
    "x5 = find_zero(f5, (-4, 2), Bisection())\n",
    "x6 = find_zero(f6, (-4, 2), Bisection())"
   ]
  },
  {
   "cell_type": "code",
   "execution_count": 6,
   "metadata": {},
   "outputs": [
    {
     "data": {
      "text/html": [
       "<table class=\"data-frame\"><thead><tr><th></th><th>fun</th><th>xZero</th><th>bisection</th></tr><tr><th></th><th>Function</th><th>Float64</th><th>Bool</th></tr></thead><tbody><tr><th>1</th><td>f1</td><td>-3.0</td><td>true</td></tr><tr><th>2</th><td>f2</td><td>0.0</td><td>true</td></tr><tr><th>3</th><td>f3</td><td>0.351734</td><td>true</td></tr><tr><th>4</th><td>f4</td><td>2.09455</td><td>false</td></tr><tr><th>5</th><td>f5</td><td>0.0</td><td>false</td></tr><tr><th>6</th><td>f6</td><td>0.0</td><td>true</td></tr></tbody></table>"
      ],
      "text/plain": [
       "6×3 DataFrame\n",
       "│ Row │ fun      │ xZero    │ bisection │\n",
       "│     │ \u001b[90mFunction\u001b[39m │ \u001b[90mFloat64\u001b[39m  │ \u001b[90mBool\u001b[39m      │\n",
       "├─────┼──────────┼──────────┼───────────┤\n",
       "│ 1   │ f1       │ -3.0     │ true      │\n",
       "│ 2   │ f2       │ 0.0      │ true      │\n",
       "│ 3   │ f3       │ 0.351734 │ true      │\n",
       "│ 4   │ f4       │ 2.09455  │ false     │\n",
       "│ 5   │ f5       │ 0.0      │ false     │\n",
       "│ 6   │ f6       │ 0.0      │ true      │"
      ]
     },
     "execution_count": 6,
     "metadata": {},
     "output_type": "execute_result"
    }
   ],
   "source": [
    "#Sprawdzamy czy znaleźliśmy 0\n",
    "data = DataFrame(fun = [f1,f2,f3,f4,f5,f6], xZero=[x1,x2,x3,x4,x5,x6], bisection=[iszero(f1(x1)),iszero(f2(x2)),iszero(f3(x3)),iszero(f4(x4)),iszero(f5(x5)), iszero(f6(x6))])\n",
    "data"
   ]
  },
  {
   "cell_type": "code",
   "execution_count": 7,
   "metadata": {},
   "outputs": [
    {
     "data": {
      "text/plain": [
       "-1.0"
      ]
     },
     "execution_count": 7,
     "metadata": {},
     "output_type": "execute_result"
    }
   ],
   "source": [
    "#sprawdzam czy funkcja zmienia znak dla lewego i prawego sąsiada miejsca zerowego.\n",
    "sign(f4(prevfloat(x4))) *sign(f4(nextfloat(x4)))"
   ]
  },
  {
   "cell_type": "code",
   "execution_count": 8,
   "metadata": {},
   "outputs": [
    {
     "data": {
      "text/plain": [
       "(2.094551481542327, 3.552713678800501e-15)"
      ]
     },
     "execution_count": 8,
     "metadata": {},
     "output_type": "execute_result"
    }
   ],
   "source": [
    "x4, f4(x4)"
   ]
  },
  {
   "cell_type": "code",
   "execution_count": 9,
   "metadata": {},
   "outputs": [
    {
     "data": {
      "image/svg+xml": [
       "<?xml version=\"1.0\" encoding=\"utf-8\"?>\n",
       "<svg xmlns=\"http://www.w3.org/2000/svg\" xmlns:xlink=\"http://www.w3.org/1999/xlink\" width=\"600\" height=\"400\" viewBox=\"0 0 2400 1600\">\n",
       "<defs>\n",
       "  <clipPath id=\"clip8600\">\n",
       "    <rect x=\"0\" y=\"0\" width=\"2000\" height=\"2000\"/>\n",
       "  </clipPath>\n",
       "</defs>\n",
       "<defs>\n",
       "  <clipPath id=\"clip8601\">\n",
       "    <rect x=\"0\" y=\"0\" width=\"2400\" height=\"1600\"/>\n",
       "  </clipPath>\n",
       "</defs>\n",
       "<polygon clip-path=\"url(#clip8601)\" points=\"\n",
       "0,1600 2400,1600 2400,0 0,0 \n",
       "  \" fill=\"#ffffff\" fill-rule=\"evenodd\" fill-opacity=\"1\"/>\n",
       "<defs>\n",
       "  <clipPath id=\"clip8602\">\n",
       "    <rect x=\"480\" y=\"0\" width=\"1681\" height=\"1600\"/>\n",
       "  </clipPath>\n",
       "</defs>\n",
       "<polygon clip-path=\"url(#clip8601)\" points=\"\n",
       "149.361,1503.47 2321.26,1503.47 2321.26,47.2441 149.361,47.2441 \n",
       "  \" fill=\"#ffffff\" fill-rule=\"evenodd\" fill-opacity=\"1\"/>\n",
       "<defs>\n",
       "  <clipPath id=\"clip8603\">\n",
       "    <rect x=\"149\" y=\"47\" width=\"2173\" height=\"1457\"/>\n",
       "  </clipPath>\n",
       "</defs>\n",
       "<polyline clip-path=\"url(#clip8603)\" style=\"stroke:#000000; stroke-width:2; stroke-opacity:0.1; fill:none\" points=\"\n",
       "  190.492,1503.47 190.492,47.2441 \n",
       "  \"/>\n",
       "<polyline clip-path=\"url(#clip8603)\" style=\"stroke:#000000; stroke-width:2; stroke-opacity:0.1; fill:none\" points=\"\n",
       "  711.125,1503.47 711.125,47.2441 \n",
       "  \"/>\n",
       "<polyline clip-path=\"url(#clip8603)\" style=\"stroke:#000000; stroke-width:2; stroke-opacity:0.1; fill:none\" points=\"\n",
       "  1231.76,1503.47 1231.76,47.2441 \n",
       "  \"/>\n",
       "<polyline clip-path=\"url(#clip8603)\" style=\"stroke:#000000; stroke-width:2; stroke-opacity:0.1; fill:none\" points=\"\n",
       "  1752.39,1503.47 1752.39,47.2441 \n",
       "  \"/>\n",
       "<polyline clip-path=\"url(#clip8603)\" style=\"stroke:#000000; stroke-width:2; stroke-opacity:0.1; fill:none\" points=\"\n",
       "  2273.02,1503.47 2273.02,47.2441 \n",
       "  \"/>\n",
       "<polyline clip-path=\"url(#clip8603)\" style=\"stroke:#000000; stroke-width:2; stroke-opacity:0.1; fill:none\" points=\"\n",
       "  149.361,1400.16 2321.26,1400.16 \n",
       "  \"/>\n",
       "<polyline clip-path=\"url(#clip8603)\" style=\"stroke:#000000; stroke-width:2; stroke-opacity:0.1; fill:none\" points=\"\n",
       "  149.361,1083.07 2321.26,1083.07 \n",
       "  \"/>\n",
       "<polyline clip-path=\"url(#clip8603)\" style=\"stroke:#000000; stroke-width:2; stroke-opacity:0.1; fill:none\" points=\"\n",
       "  149.361,765.987 2321.26,765.987 \n",
       "  \"/>\n",
       "<polyline clip-path=\"url(#clip8603)\" style=\"stroke:#000000; stroke-width:2; stroke-opacity:0.1; fill:none\" points=\"\n",
       "  149.361,448.902 2321.26,448.902 \n",
       "  \"/>\n",
       "<polyline clip-path=\"url(#clip8603)\" style=\"stroke:#000000; stroke-width:2; stroke-opacity:0.1; fill:none\" points=\"\n",
       "  149.361,131.818 2321.26,131.818 \n",
       "  \"/>\n",
       "<polyline clip-path=\"url(#clip8601)\" style=\"stroke:#000000; stroke-width:4; stroke-opacity:1; fill:none\" points=\"\n",
       "  149.361,1503.47 2321.26,1503.47 \n",
       "  \"/>\n",
       "<polyline clip-path=\"url(#clip8601)\" style=\"stroke:#000000; stroke-width:4; stroke-opacity:1; fill:none\" points=\"\n",
       "  149.361,1503.47 149.361,47.2441 \n",
       "  \"/>\n",
       "<polyline clip-path=\"url(#clip8601)\" style=\"stroke:#000000; stroke-width:4; stroke-opacity:1; fill:none\" points=\"\n",
       "  190.492,1503.47 190.492,1481.63 \n",
       "  \"/>\n",
       "<polyline clip-path=\"url(#clip8601)\" style=\"stroke:#000000; stroke-width:4; stroke-opacity:1; fill:none\" points=\"\n",
       "  711.125,1503.47 711.125,1481.63 \n",
       "  \"/>\n",
       "<polyline clip-path=\"url(#clip8601)\" style=\"stroke:#000000; stroke-width:4; stroke-opacity:1; fill:none\" points=\"\n",
       "  1231.76,1503.47 1231.76,1481.63 \n",
       "  \"/>\n",
       "<polyline clip-path=\"url(#clip8601)\" style=\"stroke:#000000; stroke-width:4; stroke-opacity:1; fill:none\" points=\"\n",
       "  1752.39,1503.47 1752.39,1481.63 \n",
       "  \"/>\n",
       "<polyline clip-path=\"url(#clip8601)\" style=\"stroke:#000000; stroke-width:4; stroke-opacity:1; fill:none\" points=\"\n",
       "  2273.02,1503.47 2273.02,1481.63 \n",
       "  \"/>\n",
       "<polyline clip-path=\"url(#clip8601)\" style=\"stroke:#000000; stroke-width:4; stroke-opacity:1; fill:none\" points=\"\n",
       "  149.361,1400.16 181.939,1400.16 \n",
       "  \"/>\n",
       "<polyline clip-path=\"url(#clip8601)\" style=\"stroke:#000000; stroke-width:4; stroke-opacity:1; fill:none\" points=\"\n",
       "  149.361,1083.07 181.939,1083.07 \n",
       "  \"/>\n",
       "<polyline clip-path=\"url(#clip8601)\" style=\"stroke:#000000; stroke-width:4; stroke-opacity:1; fill:none\" points=\"\n",
       "  149.361,765.987 181.939,765.987 \n",
       "  \"/>\n",
       "<polyline clip-path=\"url(#clip8601)\" style=\"stroke:#000000; stroke-width:4; stroke-opacity:1; fill:none\" points=\"\n",
       "  149.361,448.902 181.939,448.902 \n",
       "  \"/>\n",
       "<polyline clip-path=\"url(#clip8601)\" style=\"stroke:#000000; stroke-width:4; stroke-opacity:1; fill:none\" points=\"\n",
       "  149.361,131.818 181.939,131.818 \n",
       "  \"/>\n",
       "<g clip-path=\"url(#clip8601)\">\n",
       "<text style=\"fill:#000000; fill-opacity:1; font-family:Arial,Helvetica Neue,Helvetica,sans-serif; font-size:48px; text-anchor:middle;\" transform=\"rotate(0, 190.492, 1557.47)\" x=\"190.492\" y=\"1557.47\">1.0</text>\n",
       "</g>\n",
       "<g clip-path=\"url(#clip8601)\">\n",
       "<text style=\"fill:#000000; fill-opacity:1; font-family:Arial,Helvetica Neue,Helvetica,sans-serif; font-size:48px; text-anchor:middle;\" transform=\"rotate(0, 711.125, 1557.47)\" x=\"711.125\" y=\"1557.47\">1.5</text>\n",
       "</g>\n",
       "<g clip-path=\"url(#clip8601)\">\n",
       "<text style=\"fill:#000000; fill-opacity:1; font-family:Arial,Helvetica Neue,Helvetica,sans-serif; font-size:48px; text-anchor:middle;\" transform=\"rotate(0, 1231.76, 1557.47)\" x=\"1231.76\" y=\"1557.47\">2.0</text>\n",
       "</g>\n",
       "<g clip-path=\"url(#clip8601)\">\n",
       "<text style=\"fill:#000000; fill-opacity:1; font-family:Arial,Helvetica Neue,Helvetica,sans-serif; font-size:48px; text-anchor:middle;\" transform=\"rotate(0, 1752.39, 1557.47)\" x=\"1752.39\" y=\"1557.47\">2.5</text>\n",
       "</g>\n",
       "<g clip-path=\"url(#clip8601)\">\n",
       "<text style=\"fill:#000000; fill-opacity:1; font-family:Arial,Helvetica Neue,Helvetica,sans-serif; font-size:48px; text-anchor:middle;\" transform=\"rotate(0, 2273.02, 1557.47)\" x=\"2273.02\" y=\"1557.47\">3.0</text>\n",
       "</g>\n",
       "<g clip-path=\"url(#clip8601)\">\n",
       "<text style=\"fill:#000000; fill-opacity:1; font-family:Arial,Helvetica Neue,Helvetica,sans-serif; font-size:48px; text-anchor:end;\" transform=\"rotate(0, 125.361, 1417.66)\" x=\"125.361\" y=\"1417.66\">-5</text>\n",
       "</g>\n",
       "<g clip-path=\"url(#clip8601)\">\n",
       "<text style=\"fill:#000000; fill-opacity:1; font-family:Arial,Helvetica Neue,Helvetica,sans-serif; font-size:48px; text-anchor:end;\" transform=\"rotate(0, 125.361, 1100.57)\" x=\"125.361\" y=\"1100.57\">0</text>\n",
       "</g>\n",
       "<g clip-path=\"url(#clip8601)\">\n",
       "<text style=\"fill:#000000; fill-opacity:1; font-family:Arial,Helvetica Neue,Helvetica,sans-serif; font-size:48px; text-anchor:end;\" transform=\"rotate(0, 125.361, 783.487)\" x=\"125.361\" y=\"783.487\">5</text>\n",
       "</g>\n",
       "<g clip-path=\"url(#clip8601)\">\n",
       "<text style=\"fill:#000000; fill-opacity:1; font-family:Arial,Helvetica Neue,Helvetica,sans-serif; font-size:48px; text-anchor:end;\" transform=\"rotate(0, 125.361, 466.402)\" x=\"125.361\" y=\"466.402\">10</text>\n",
       "</g>\n",
       "<g clip-path=\"url(#clip8601)\">\n",
       "<text style=\"fill:#000000; fill-opacity:1; font-family:Arial,Helvetica Neue,Helvetica,sans-serif; font-size:48px; text-anchor:end;\" transform=\"rotate(0, 125.361, 149.318)\" x=\"125.361\" y=\"149.318\">15</text>\n",
       "</g>\n",
       "<polyline clip-path=\"url(#clip8603)\" style=\"stroke:#009af9; stroke-width:4; stroke-opacity:1; fill:none\" points=\"\n",
       "  210.829,1462.26 398.88,1442.75 511.891,1424.01 607.44,1403.6 711.233,1376.34 806.921,1346.2 909.509,1308.19 1028.37,1256.32 1133.99,1202.73 1226.62,1149.61 \n",
       "  1327.61,1084.84 1429.19,1012.13 1541.51,922.498 1648.38,827.778 1759.49,719.085 1853.03,619.187 1910.13,554.303 1967.23,486.386 2020.9,419.72 2074.58,350.265 \n",
       "  2160.57,233.051 2246.56,108.332 2259.79,88.4582 \n",
       "  \"/>\n",
       "<polygon clip-path=\"url(#clip8601)\" points=\"\n",
       "1912.99,251.724 2249.26,251.724 2249.26,130.764 1912.99,130.764 \n",
       "  \" fill=\"#ffffff\" fill-rule=\"evenodd\" fill-opacity=\"1\"/>\n",
       "<polyline clip-path=\"url(#clip8601)\" style=\"stroke:#000000; stroke-width:4; stroke-opacity:1; fill:none\" points=\"\n",
       "  1912.99,251.724 2249.26,251.724 2249.26,130.764 1912.99,130.764 1912.99,251.724 \n",
       "  \"/>\n",
       "<polyline clip-path=\"url(#clip8601)\" style=\"stroke:#009af9; stroke-width:4; stroke-opacity:1; fill:none\" points=\"\n",
       "  1936.99,191.244 2080.99,191.244 \n",
       "  \"/>\n",
       "<g clip-path=\"url(#clip8601)\">\n",
       "<text style=\"fill:#000000; fill-opacity:1; font-family:Arial,Helvetica Neue,Helvetica,sans-serif; font-size:48px; text-anchor:start;\" transform=\"rotate(0, 2104.99, 208.744)\" x=\"2104.99\" y=\"208.744\">f4(x)</text>\n",
       "</g>\n",
       "</svg>\n"
      ]
     },
     "execution_count": 9,
     "metadata": {},
     "output_type": "execute_result"
    }
   ],
   "source": [
    "plot(x->f4(x),1,3,label=\"f4(x)\")"
   ]
  },
  {
   "cell_type": "code",
   "execution_count": 10,
   "metadata": {},
   "outputs": [
    {
     "data": {
      "text/plain": [
       "NaN"
      ]
     },
     "execution_count": 10,
     "metadata": {},
     "output_type": "execute_result"
    }
   ],
   "source": [
    "sign(f5(prevfloat(x5))) *sign(f5(nextfloat(x5)))"
   ]
  },
  {
   "cell_type": "code",
   "execution_count": 11,
   "metadata": {},
   "outputs": [
    {
     "data": {
      "text/plain": [
       "(0.0, NaN)"
      ]
     },
     "execution_count": 11,
     "metadata": {},
     "output_type": "execute_result"
    }
   ],
   "source": [
    "x5,f5(x5)"
   ]
  },
  {
   "cell_type": "code",
   "execution_count": 12,
   "metadata": {},
   "outputs": [
    {
     "data": {
      "image/svg+xml": [
       "<?xml version=\"1.0\" encoding=\"utf-8\"?>\n",
       "<svg xmlns=\"http://www.w3.org/2000/svg\" xmlns:xlink=\"http://www.w3.org/1999/xlink\" width=\"600\" height=\"400\" viewBox=\"0 0 2400 1600\">\n",
       "<defs>\n",
       "  <clipPath id=\"clip8800\">\n",
       "    <rect x=\"0\" y=\"0\" width=\"2000\" height=\"2000\"/>\n",
       "  </clipPath>\n",
       "</defs>\n",
       "<defs>\n",
       "  <clipPath id=\"clip8801\">\n",
       "    <rect x=\"0\" y=\"0\" width=\"2400\" height=\"1600\"/>\n",
       "  </clipPath>\n",
       "</defs>\n",
       "<polygon clip-path=\"url(#clip8801)\" points=\"\n",
       "0,1600 2400,1600 2400,0 0,0 \n",
       "  \" fill=\"#ffffff\" fill-rule=\"evenodd\" fill-opacity=\"1\"/>\n",
       "<defs>\n",
       "  <clipPath id=\"clip8802\">\n",
       "    <rect x=\"480\" y=\"0\" width=\"1681\" height=\"1600\"/>\n",
       "  </clipPath>\n",
       "</defs>\n",
       "<polygon clip-path=\"url(#clip8801)\" points=\"\n",
       "323.556,1503.47 2321.26,1503.47 2321.26,47.2441 323.556,47.2441 \n",
       "  \" fill=\"#ffffff\" fill-rule=\"evenodd\" fill-opacity=\"1\"/>\n",
       "<defs>\n",
       "  <clipPath id=\"clip8803\">\n",
       "    <rect x=\"323\" y=\"47\" width=\"1999\" height=\"1457\"/>\n",
       "  </clipPath>\n",
       "</defs>\n",
       "<polyline clip-path=\"url(#clip8803)\" style=\"stroke:#000000; stroke-width:2; stroke-opacity:0.1; fill:none\" points=\"\n",
       "  361.267,1503.47 361.267,47.2441 \n",
       "  \"/>\n",
       "<polyline clip-path=\"url(#clip8803)\" style=\"stroke:#000000; stroke-width:2; stroke-opacity:0.1; fill:none\" points=\"\n",
       "  746.858,1503.47 746.858,47.2441 \n",
       "  \"/>\n",
       "<polyline clip-path=\"url(#clip8803)\" style=\"stroke:#000000; stroke-width:2; stroke-opacity:0.1; fill:none\" points=\"\n",
       "  1132.45,1503.47 1132.45,47.2441 \n",
       "  \"/>\n",
       "<polyline clip-path=\"url(#clip8803)\" style=\"stroke:#000000; stroke-width:2; stroke-opacity:0.1; fill:none\" points=\"\n",
       "  1518.04,1503.47 1518.04,47.2441 \n",
       "  \"/>\n",
       "<polyline clip-path=\"url(#clip8803)\" style=\"stroke:#000000; stroke-width:2; stroke-opacity:0.1; fill:none\" points=\"\n",
       "  1903.63,1503.47 1903.63,47.2441 \n",
       "  \"/>\n",
       "<polyline clip-path=\"url(#clip8803)\" style=\"stroke:#000000; stroke-width:2; stroke-opacity:0.1; fill:none\" points=\"\n",
       "  2289.22,1503.47 2289.22,47.2441 \n",
       "  \"/>\n",
       "<polyline clip-path=\"url(#clip8803)\" style=\"stroke:#000000; stroke-width:2; stroke-opacity:0.1; fill:none\" points=\"\n",
       "  323.556,1315.91 2321.26,1315.91 \n",
       "  \"/>\n",
       "<polyline clip-path=\"url(#clip8803)\" style=\"stroke:#000000; stroke-width:2; stroke-opacity:0.1; fill:none\" points=\"\n",
       "  323.556,1009.31 2321.26,1009.31 \n",
       "  \"/>\n",
       "<polyline clip-path=\"url(#clip8803)\" style=\"stroke:#000000; stroke-width:2; stroke-opacity:0.1; fill:none\" points=\"\n",
       "  323.556,702.702 2321.26,702.702 \n",
       "  \"/>\n",
       "<polyline clip-path=\"url(#clip8803)\" style=\"stroke:#000000; stroke-width:2; stroke-opacity:0.1; fill:none\" points=\"\n",
       "  323.556,396.097 2321.26,396.097 \n",
       "  \"/>\n",
       "<polyline clip-path=\"url(#clip8803)\" style=\"stroke:#000000; stroke-width:2; stroke-opacity:0.1; fill:none\" points=\"\n",
       "  323.556,89.4913 2321.26,89.4913 \n",
       "  \"/>\n",
       "<polyline clip-path=\"url(#clip8801)\" style=\"stroke:#000000; stroke-width:4; stroke-opacity:1; fill:none\" points=\"\n",
       "  323.556,1503.47 2321.26,1503.47 \n",
       "  \"/>\n",
       "<polyline clip-path=\"url(#clip8801)\" style=\"stroke:#000000; stroke-width:4; stroke-opacity:1; fill:none\" points=\"\n",
       "  323.556,1503.47 323.556,47.2441 \n",
       "  \"/>\n",
       "<polyline clip-path=\"url(#clip8801)\" style=\"stroke:#000000; stroke-width:4; stroke-opacity:1; fill:none\" points=\"\n",
       "  361.267,1503.47 361.267,1481.63 \n",
       "  \"/>\n",
       "<polyline clip-path=\"url(#clip8801)\" style=\"stroke:#000000; stroke-width:4; stroke-opacity:1; fill:none\" points=\"\n",
       "  746.858,1503.47 746.858,1481.63 \n",
       "  \"/>\n",
       "<polyline clip-path=\"url(#clip8801)\" style=\"stroke:#000000; stroke-width:4; stroke-opacity:1; fill:none\" points=\"\n",
       "  1132.45,1503.47 1132.45,1481.63 \n",
       "  \"/>\n",
       "<polyline clip-path=\"url(#clip8801)\" style=\"stroke:#000000; stroke-width:4; stroke-opacity:1; fill:none\" points=\"\n",
       "  1518.04,1503.47 1518.04,1481.63 \n",
       "  \"/>\n",
       "<polyline clip-path=\"url(#clip8801)\" style=\"stroke:#000000; stroke-width:4; stroke-opacity:1; fill:none\" points=\"\n",
       "  1903.63,1503.47 1903.63,1481.63 \n",
       "  \"/>\n",
       "<polyline clip-path=\"url(#clip8801)\" style=\"stroke:#000000; stroke-width:4; stroke-opacity:1; fill:none\" points=\"\n",
       "  2289.22,1503.47 2289.22,1481.63 \n",
       "  \"/>\n",
       "<polyline clip-path=\"url(#clip8801)\" style=\"stroke:#000000; stroke-width:4; stroke-opacity:1; fill:none\" points=\"\n",
       "  323.556,1315.91 353.522,1315.91 \n",
       "  \"/>\n",
       "<polyline clip-path=\"url(#clip8801)\" style=\"stroke:#000000; stroke-width:4; stroke-opacity:1; fill:none\" points=\"\n",
       "  323.556,1009.31 353.522,1009.31 \n",
       "  \"/>\n",
       "<polyline clip-path=\"url(#clip8801)\" style=\"stroke:#000000; stroke-width:4; stroke-opacity:1; fill:none\" points=\"\n",
       "  323.556,702.702 353.522,702.702 \n",
       "  \"/>\n",
       "<polyline clip-path=\"url(#clip8801)\" style=\"stroke:#000000; stroke-width:4; stroke-opacity:1; fill:none\" points=\"\n",
       "  323.556,396.097 353.522,396.097 \n",
       "  \"/>\n",
       "<polyline clip-path=\"url(#clip8801)\" style=\"stroke:#000000; stroke-width:4; stroke-opacity:1; fill:none\" points=\"\n",
       "  323.556,89.4913 353.522,89.4913 \n",
       "  \"/>\n",
       "<g clip-path=\"url(#clip8801)\">\n",
       "<text style=\"fill:#000000; fill-opacity:1; font-family:Arial,Helvetica Neue,Helvetica,sans-serif; font-size:48px; text-anchor:middle;\" transform=\"rotate(0, 361.267, 1557.47)\" x=\"361.267\" y=\"1557.47\">-2</text>\n",
       "</g>\n",
       "<g clip-path=\"url(#clip8801)\">\n",
       "<text style=\"fill:#000000; fill-opacity:1; font-family:Arial,Helvetica Neue,Helvetica,sans-serif; font-size:48px; text-anchor:middle;\" transform=\"rotate(0, 746.858, 1557.47)\" x=\"746.858\" y=\"1557.47\">-1</text>\n",
       "</g>\n",
       "<g clip-path=\"url(#clip8801)\">\n",
       "<text style=\"fill:#000000; fill-opacity:1; font-family:Arial,Helvetica Neue,Helvetica,sans-serif; font-size:48px; text-anchor:middle;\" transform=\"rotate(0, 1132.45, 1557.47)\" x=\"1132.45\" y=\"1557.47\">0</text>\n",
       "</g>\n",
       "<g clip-path=\"url(#clip8801)\">\n",
       "<text style=\"fill:#000000; fill-opacity:1; font-family:Arial,Helvetica Neue,Helvetica,sans-serif; font-size:48px; text-anchor:middle;\" transform=\"rotate(0, 1518.04, 1557.47)\" x=\"1518.04\" y=\"1557.47\">1</text>\n",
       "</g>\n",
       "<g clip-path=\"url(#clip8801)\">\n",
       "<text style=\"fill:#000000; fill-opacity:1; font-family:Arial,Helvetica Neue,Helvetica,sans-serif; font-size:48px; text-anchor:middle;\" transform=\"rotate(0, 1903.63, 1557.47)\" x=\"1903.63\" y=\"1557.47\">2</text>\n",
       "</g>\n",
       "<g clip-path=\"url(#clip8801)\">\n",
       "<text style=\"fill:#000000; fill-opacity:1; font-family:Arial,Helvetica Neue,Helvetica,sans-serif; font-size:48px; text-anchor:middle;\" transform=\"rotate(0, 2289.22, 1557.47)\" x=\"2289.22\" y=\"1557.47\">3</text>\n",
       "</g>\n",
       "<g clip-path=\"url(#clip8801)\">\n",
       "<text style=\"fill:#000000; fill-opacity:1; font-family:Arial,Helvetica Neue,Helvetica,sans-serif; font-size:48px; text-anchor:start;\" transform=\"rotate(0, 101.161, 1339.64)\" x=\"101.161\" y=\"1339.64\">-</text>\n",
       "</g>\n",
       "<g clip-path=\"url(#clip8801)\">\n",
       "<text style=\"fill:#000000; fill-opacity:1; font-family:Arial,Helvetica Neue,Helvetica,sans-serif; font-size:48px; text-anchor:start;\" transform=\"rotate(0, 129.271, 1339.64)\" x=\"129.271\" y=\"1339.64\">2.0×10</text>\n",
       "</g>\n",
       "<g clip-path=\"url(#clip8801)\">\n",
       "<text style=\"fill:#000000; fill-opacity:1; font-family:Arial,Helvetica Neue,Helvetica,sans-serif; font-size:38px; text-anchor:start;\" transform=\"rotate(0, 277.812, 1312.23)\" x=\"277.812\" y=\"1312.23\">4</text>\n",
       "</g>\n",
       "<g clip-path=\"url(#clip8801)\">\n",
       "<text style=\"fill:#000000; fill-opacity:1; font-family:Arial,Helvetica Neue,Helvetica,sans-serif; font-size:48px; text-anchor:start;\" transform=\"rotate(0, 101.161, 1033.04)\" x=\"101.161\" y=\"1033.04\">-</text>\n",
       "</g>\n",
       "<g clip-path=\"url(#clip8801)\">\n",
       "<text style=\"fill:#000000; fill-opacity:1; font-family:Arial,Helvetica Neue,Helvetica,sans-serif; font-size:48px; text-anchor:start;\" transform=\"rotate(0, 129.271, 1033.04)\" x=\"129.271\" y=\"1033.04\">1.5×10</text>\n",
       "</g>\n",
       "<g clip-path=\"url(#clip8801)\">\n",
       "<text style=\"fill:#000000; fill-opacity:1; font-family:Arial,Helvetica Neue,Helvetica,sans-serif; font-size:38px; text-anchor:start;\" transform=\"rotate(0, 277.812, 1005.63)\" x=\"277.812\" y=\"1005.63\">4</text>\n",
       "</g>\n",
       "<g clip-path=\"url(#clip8801)\">\n",
       "<text style=\"fill:#000000; fill-opacity:1; font-family:Arial,Helvetica Neue,Helvetica,sans-serif; font-size:48px; text-anchor:start;\" transform=\"rotate(0, 101.161, 726.43)\" x=\"101.161\" y=\"726.43\">-</text>\n",
       "</g>\n",
       "<g clip-path=\"url(#clip8801)\">\n",
       "<text style=\"fill:#000000; fill-opacity:1; font-family:Arial,Helvetica Neue,Helvetica,sans-serif; font-size:48px; text-anchor:start;\" transform=\"rotate(0, 129.271, 726.43)\" x=\"129.271\" y=\"726.43\">1.0×10</text>\n",
       "</g>\n",
       "<g clip-path=\"url(#clip8801)\">\n",
       "<text style=\"fill:#000000; fill-opacity:1; font-family:Arial,Helvetica Neue,Helvetica,sans-serif; font-size:38px; text-anchor:start;\" transform=\"rotate(0, 277.812, 699.02)\" x=\"277.812\" y=\"699.02\">4</text>\n",
       "</g>\n",
       "<g clip-path=\"url(#clip8801)\">\n",
       "<text style=\"fill:#000000; fill-opacity:1; font-family:Arial,Helvetica Neue,Helvetica,sans-serif; font-size:48px; text-anchor:start;\" transform=\"rotate(0, 101.161, 419.824)\" x=\"101.161\" y=\"419.824\">-</text>\n",
       "</g>\n",
       "<g clip-path=\"url(#clip8801)\">\n",
       "<text style=\"fill:#000000; fill-opacity:1; font-family:Arial,Helvetica Neue,Helvetica,sans-serif; font-size:48px; text-anchor:start;\" transform=\"rotate(0, 129.271, 419.824)\" x=\"129.271\" y=\"419.824\">5.0×10</text>\n",
       "</g>\n",
       "<g clip-path=\"url(#clip8801)\">\n",
       "<text style=\"fill:#000000; fill-opacity:1; font-family:Arial,Helvetica Neue,Helvetica,sans-serif; font-size:38px; text-anchor:start;\" transform=\"rotate(0, 277.812, 392.414)\" x=\"277.812\" y=\"392.414\">3</text>\n",
       "</g>\n",
       "<g clip-path=\"url(#clip8801)\">\n",
       "<text style=\"fill:#000000; fill-opacity:1; font-family:Arial,Helvetica Neue,Helvetica,sans-serif; font-size:48px; text-anchor:end;\" transform=\"rotate(0, 299.556, 106.991)\" x=\"299.556\" y=\"106.991\">0</text>\n",
       "</g>\n",
       "<polyline clip-path=\"url(#clip8803)\" style=\"stroke:#009af9; stroke-width:4; stroke-opacity:1; fill:none\" points=\"\n",
       "  380.095,89.6054 554.188,89.6005 658.81,89.5964 747.267,89.592 843.357,89.5861 931.942,89.5797 979.429,89.5766 1026.92,89.5755 1054.42,89.5788 1081.93,89.5959 \n",
       "  1088.81,89.6071 1095.69,89.6258 1102.56,89.6595 1109.44,89.729 1112.88,89.7947 1116.32,89.9072 1119.76,90.124 1123.2,90.6278 1124.92,91.1765 1126.64,92.2859 \n",
       "  1127.49,93.3246 1128.35,95.0917 1129.21,98.4689 1130.07,106.227 1130.93,131.219 1131.79,325.766 1132.65,1462.26 1133.51,164.443 1134.37,113.237 1135.23,101.007 \n",
       "  1136.09,96.2818 1136.95,93.9748 1138.48,92.0277 1140.01,91.1316 1141.53,90.6464 1143.06,90.3545 1146.12,90.0356 1149.17,89.8743 1155.29,89.7231 1161.4,89.6563 \n",
       "  1167.51,89.6208 1173.62,89.5994 1179.73,89.5853 1185.84,89.5754 1210.29,89.5539 1234.74,89.5427 1277.61,89.5289 1320.49,89.5166 1413.98,89.4878 1508.02,89.4522 \n",
       "  1612.01,89.4016 1710.94,89.3393 1813.81,89.2552 1900.4,89.1648 2006.12,89.023 2105.5,88.8492 2264.72,88.4582 \n",
       "  \"/>\n",
       "<polygon clip-path=\"url(#clip8801)\" points=\"\n",
       "1912.99,251.724 2249.26,251.724 2249.26,130.764 1912.99,130.764 \n",
       "  \" fill=\"#ffffff\" fill-rule=\"evenodd\" fill-opacity=\"1\"/>\n",
       "<polyline clip-path=\"url(#clip8801)\" style=\"stroke:#000000; stroke-width:4; stroke-opacity:1; fill:none\" points=\"\n",
       "  1912.99,251.724 2249.26,251.724 2249.26,130.764 1912.99,130.764 1912.99,251.724 \n",
       "  \"/>\n",
       "<polyline clip-path=\"url(#clip8801)\" style=\"stroke:#009af9; stroke-width:4; stroke-opacity:1; fill:none\" points=\"\n",
       "  1936.99,191.244 2080.99,191.244 \n",
       "  \"/>\n",
       "<g clip-path=\"url(#clip8801)\">\n",
       "<text style=\"fill:#000000; fill-opacity:1; font-family:Arial,Helvetica Neue,Helvetica,sans-serif; font-size:48px; text-anchor:start;\" transform=\"rotate(0, 2104.99, 208.744)\" x=\"2104.99\" y=\"208.744\">f5(x)</text>\n",
       "</g>\n",
       "</svg>\n"
      ]
     },
     "execution_count": 12,
     "metadata": {},
     "output_type": "execute_result"
    }
   ],
   "source": [
    "plot(x->f5(x),-2,3,label=\"f5(x)\")"
   ]
  },
  {
   "cell_type": "markdown",
   "metadata": {},
   "source": [
    "# 2. Metoda Newtona"
   ]
  },
  {
   "cell_type": "code",
   "execution_count": 13,
   "metadata": {},
   "outputs": [
    {
     "data": {
      "text/plain": [
       "D (generic function with 1 method)"
      ]
     },
     "execution_count": 13,
     "metadata": {},
     "output_type": "execute_result"
    }
   ],
   "source": [
    "# definujemy D(f) obliczającą  funkcje pochodną \n",
    "D(f) = x->ForwardDiff.derivative(f, float(x))"
   ]
  },
  {
   "cell_type": "code",
   "execution_count": 14,
   "metadata": {},
   "outputs": [
    {
     "name": "stdout",
     "output_type": "stream",
     "text": [
      "Results of univariate zero finding:\n",
      "\n",
      "* Converged to: 0.9999999893171166\n",
      "* Algorithm: Roots.Newton()\n",
      "* iterations: 26\n",
      "* function evaluations: 53\n",
      "* stopped as |f(x_n)| ≤ max(δ, max(1,|x|)⋅ϵ) using δ = atol, ϵ = rtol\n",
      "\n",
      "Trace:\n",
      "x_0 =  0.0000000000000000,\t fx_0 =  3.0000000000000000\n",
      "x_1 =  0.6000000000000000,\t fx_1 =  0.5760000000000002\n",
      "x_2 =  0.8117647058823529,\t fx_2 =  0.1350604518624058\n",
      "x_3 =  0.9082650781831720,\t fx_3 =  0.0328892070132730\n",
      "x_4 =  0.9546772328747365,\t fx_4 =  0.0081235129715387\n",
      "x_5 =  0.9774692207697649,\t fx_5 =  0.0020191066159544\n",
      "x_6 =  0.9887666079847495,\t fx_6 =  0.0005033388530879\n",
      "x_7 =  0.9943912241748282,\t fx_7 =  0.0001256570221040\n",
      "x_8 =  0.9971975823794025,\t fx_8 =  0.0000313921691694\n",
      "x_9 =  0.9985992825526103,\t fx_9 =  0.0000078452892489\n",
      "x_10 =  0.9992997639663359,\t fx_10 =  0.0000019609786643\n",
      "x_11 =  0.9996499126368736,\t fx_11 =  0.0000004902017402\n",
      "x_12 =  0.9998249639795151,\t fx_12 =  0.0000001225450712\n",
      "x_13 =  0.9999124839047338,\t fx_13 =  0.0000000306355974\n",
      "x_14 =  0.9999562424310743,\t fx_14 =  0.0000000076588156\n",
      "x_15 =  0.9999781213352094,\t fx_15 =  0.0000000019146934\n",
      "x_16 =  0.9999890606975221,\t fx_16 =  0.0000000004786720\n",
      "x_17 =  0.9999945303562404,\t fx_17 =  0.0000000001196678\n",
      "x_18 =  0.9999972651799900,\t fx_18 =  0.0000000000299169\n",
      "x_19 =  0.9999986325904624,\t fx_19 =  0.0000000000074792\n",
      "x_20 =  0.9999993162953481,\t fx_20 =  0.0000000000018698\n",
      "x_21 =  0.9999996581477033,\t fx_21 =  0.0000000000004675\n",
      "x_22 =  0.9999998290738590,\t fx_22 =  0.0000000000001169\n",
      "x_23 =  0.9999999145369313,\t fx_23 =  0.0000000000000292\n",
      "x_24 =  0.9999999572684661,\t fx_24 =  0.0000000000000073\n",
      "x_25 =  0.9999999786342332,\t fx_25 =  0.0000000000000018\n",
      "x_26 =  0.9999999893171166,\t fx_26 =  0.0000000000000005\n",
      "\n"
     ]
    },
    {
     "data": {
      "text/plain": [
       "0.9999999893171166"
      ]
     },
     "execution_count": 14,
     "metadata": {},
     "output_type": "execute_result"
    }
   ],
   "source": [
    "N1 = find_zero((f1, D(f1)),0, Roots.Newton(),verbose=true)"
   ]
  },
  {
   "cell_type": "code",
   "execution_count": 15,
   "metadata": {},
   "outputs": [
    {
     "name": "stdout",
     "output_type": "stream",
     "text": [
      "Results of univariate zero finding:\n",
      "\n",
      "* Converged to: 0.0\n",
      "* Algorithm: Roots.Newton()\n",
      "* iterations: 0\n",
      "* function evaluations: 1\n",
      "* stopped as |f(x_n)| ≤ max(δ, max(1,|x|)⋅ϵ) using δ = atol, ϵ = rtol\n",
      "\n",
      "Trace:\n",
      "x_0 =  0.0000000000000000,\t fx_0 =  0.0000000000000000\n",
      "\n"
     ]
    },
    {
     "data": {
      "text/plain": [
       "0.0"
      ]
     },
     "execution_count": 15,
     "metadata": {},
     "output_type": "execute_result"
    }
   ],
   "source": [
    "N2 = find_zero((f2, D(f2)),0, Roots.Newton(),verbose=true)"
   ]
  },
  {
   "cell_type": "code",
   "execution_count": 16,
   "metadata": {},
   "outputs": [
    {
     "name": "stdout",
     "output_type": "stream",
     "text": [
      "Results of univariate zero finding:\n",
      "\n",
      "* Converged to: 0.35173371124919584\n",
      "* Algorithm: Roots.Newton()\n",
      "* iterations: 4\n",
      "* function evaluations: 9\n",
      "* stopped as |f(x_n)| ≤ max(δ, max(1,|x|)⋅ϵ) using δ = atol, ϵ = rtol\n",
      "\n",
      "Trace:\n",
      "x_0 =  0.0000000000000000,\t fx_0 = -1.0000000000000000\n",
      "x_1 =  0.3333333333333333,\t fx_1 = -0.0498646439071226\n",
      "x_2 =  0.3516893315554154,\t fx_2 = -0.0001199797491258\n",
      "x_3 =  0.3517337109929426,\t fx_3 = -0.0000000006927722\n",
      "x_4 =  0.3517337112491958,\t fx_4 =  0.0000000000000000\n",
      "\n"
     ]
    },
    {
     "data": {
      "text/plain": [
       "0.35173371124919584"
      ]
     },
     "execution_count": 16,
     "metadata": {},
     "output_type": "execute_result"
    }
   ],
   "source": [
    "N3 = find_zero((f3, D(f3)),0, Roots.Newton(),verbose=true)"
   ]
  },
  {
   "cell_type": "code",
   "execution_count": 17,
   "metadata": {},
   "outputs": [
    {
     "name": "stdout",
     "output_type": "stream",
     "text": [
      "Results of univariate zero finding:\n",
      "\n",
      "* Converged to: 2.0945514815423265\n",
      "* Algorithm: Roots.Newton()\n",
      "* iterations: 19\n",
      "* function evaluations: 39\n",
      "* stopped as |f(x_n)| ≤ max(δ, max(1,|x|)⋅ϵ) using δ = atol, ϵ = rtol\n",
      "\n",
      "Trace:\n",
      "x_0 =  0.0000000000000000,\t fx_0 = -5.0000000000000000\n",
      "x_1 = -2.5000000000000000,\t fx_1 = -15.6250000000000000\n",
      "x_2 = -1.5671641791044775,\t fx_2 = -5.7146324514651070\n",
      "x_3 = -0.5025924450866797,\t fx_3 = -4.1217695422221725\n",
      "x_4 = -3.8207064676993294,\t fx_4 = -53.1324879623681738\n",
      "x_5 = -2.5493933913606064,\t fx_5 = -16.4707576140240164\n",
      "x_6 = -1.6081114997282251,\t fx_6 = -5.9423896750176617\n",
      "x_7 = -0.5761004336602393,\t fx_7 = -4.0390020905449111\n",
      "x_8 = -4.5977095833821693,\t fx_8 = -92.9952575692345391\n",
      "x_9 = -3.0835431467266550,\t fx_9 = -28.1519768702820130\n",
      "x_10 = -2.0221942554643366,\t fx_10 = -9.2249089970538503\n",
      "x_11 = -1.1237641075795191,\t fx_11 = -4.1716125339957122\n",
      "x_12 =  1.2086516123957836,\t fx_12 = -5.6516581502357903\n",
      "x_13 =  3.5807900448965704,\t fx_13 =  33.7515152085330783\n",
      "x_14 =  2.6552331980087693,\t fx_14 =  8.4096268679235848\n",
      "x_15 =  2.2161063074385283,\t fx_15 =  1.4513672740375592\n",
      "x_16 =  2.1021250154847473,\t fx_16 =  0.0848923823417307\n",
      "x_17 =  2.0945835767773091,\t fx_17 =  0.0003582354394256\n",
      "x_18 =  2.0945514821222386,\t fx_18 =  0.0000000064726526\n",
      "x_19 =  2.0945514815423265,\t fx_19 = -0.0000000000000009\n",
      "\n"
     ]
    },
    {
     "data": {
      "text/plain": [
       "2.0945514815423265"
      ]
     },
     "execution_count": 17,
     "metadata": {},
     "output_type": "execute_result"
    }
   ],
   "source": [
    "N4 = find_zero((f4, D(f4)),0, Roots.Newton(),verbose=true)"
   ]
  },
  {
   "cell_type": "code",
   "execution_count": 18,
   "metadata": {},
   "outputs": [
    {
     "name": "stdout",
     "output_type": "stream",
     "text": [
      "Results of univariate zero finding:\n",
      "\n",
      "* Convergence failed: NaN produced by algorithm. \n",
      "* Algorithm Roots.Newton()\n",
      "\n",
      "Trace:\n",
      "x_0 =  0.0000000000000000,\t fx_0 =                NaN\n",
      "\n"
     ]
    },
    {
     "ename": "Roots.ConvergenceFailed",
     "evalue": "Roots.ConvergenceFailed(\"Stopped at: xn = 0.0\")",
     "output_type": "error",
     "traceback": [
      "Roots.ConvergenceFailed(\"Stopped at: xn = 0.0\")",
      "",
      "Stacktrace:",
      " [1] #find_zero#4(::Roots.NullTracks, ::Bool, ::Base.Iterators.Pairs{Union{},Union{},Tuple{},NamedTuple{(),Tuple{}}}, ::Function, ::Tuple{typeof(f5),getfield(Main, Symbol(\"##19#20\")){typeof(f5)}}, ::Int64, ::Roots.Newton, ::Nothing) at /Users/kuba/.julia/packages/Roots/xWzoi/src/find_zero.jl:542",
      " [2] #find_zero at ./none:0 [inlined] (repeats 2 times)",
      " [3] top-level scope at In[18]:1"
     ]
    }
   ],
   "source": [
    "N5 = find_zero((f5, D(f5)),0, Roots.Newton(),verbose=true)"
   ]
  },
  {
   "cell_type": "code",
   "execution_count": 19,
   "metadata": {},
   "outputs": [
    {
     "data": {
      "text/plain": [
       "NaN"
      ]
     },
     "execution_count": 19,
     "metadata": {},
     "output_type": "execute_result"
    }
   ],
   "source": [
    "N5 = NaN"
   ]
  },
  {
   "cell_type": "code",
   "execution_count": 20,
   "metadata": {},
   "outputs": [
    {
     "name": "stdout",
     "output_type": "stream",
     "text": [
      "Results of univariate zero finding:\n",
      "\n",
      "* Converged to: 0.0\n",
      "* Algorithm: Roots.Newton()\n",
      "* iterations: 0\n",
      "* function evaluations: 1\n",
      "* stopped as |f(x_n)| ≤ max(δ, max(1,|x|)⋅ϵ) using δ = atol, ϵ = rtol\n",
      "\n",
      "Trace:\n",
      "x_0 =  0.0000000000000000,\t fx_0 =  0.0000000000000000\n",
      "\n"
     ]
    },
    {
     "data": {
      "text/plain": [
       "0.0"
      ]
     },
     "execution_count": 20,
     "metadata": {},
     "output_type": "execute_result"
    }
   ],
   "source": [
    "N6 = find_zero((f6, D(f6)),0, Roots.Newton(),verbose=true)"
   ]
  },
  {
   "cell_type": "code",
   "execution_count": 21,
   "metadata": {},
   "outputs": [
    {
     "data": {
      "text/html": [
       "<table class=\"data-frame\"><thead><tr><th></th><th>fun</th><th>xZero</th><th>Newton</th><th>it</th><th>ev</th></tr><tr><th></th><th>Function</th><th>Float64</th><th>Bool</th><th>Float64</th><th>Float64</th></tr></thead><tbody><tr><th>1</th><td>f1</td><td>1.0</td><td>false</td><td>26.0</td><td>53.0</td></tr><tr><th>2</th><td>f2</td><td>0.0</td><td>true</td><td>0.0</td><td>1.0</td></tr><tr><th>3</th><td>f3</td><td>0.351734</td><td>true</td><td>4.0</td><td>9.0</td></tr><tr><th>4</th><td>f4</td><td>2.09455</td><td>false</td><td>19.0</td><td>39.0</td></tr><tr><th>5</th><td>f5</td><td>NaN</td><td>false</td><td>NaN</td><td>NaN</td></tr><tr><th>6</th><td>f6</td><td>0.0</td><td>true</td><td>0.0</td><td>1.0</td></tr></tbody></table>"
      ],
      "text/plain": [
       "6×5 DataFrame\n",
       "│ Row │ fun      │ xZero    │ Newton │ it      │ ev      │\n",
       "│     │ \u001b[90mFunction\u001b[39m │ \u001b[90mFloat64\u001b[39m  │ \u001b[90mBool\u001b[39m   │ \u001b[90mFloat64\u001b[39m │ \u001b[90mFloat64\u001b[39m │\n",
       "├─────┼──────────┼──────────┼────────┼─────────┼─────────┤\n",
       "│ 1   │ f1       │ 1.0      │ false  │ 26.0    │ 53.0    │\n",
       "│ 2   │ f2       │ 0.0      │ true   │ 0.0     │ 1.0     │\n",
       "│ 3   │ f3       │ 0.351734 │ true   │ 4.0     │ 9.0     │\n",
       "│ 4   │ f4       │ 2.09455  │ false  │ 19.0    │ 39.0    │\n",
       "│ 5   │ f5       │ NaN      │ false  │ NaN     │ NaN     │\n",
       "│ 6   │ f6       │ 0.0      │ true   │ 0.0     │ 1.0     │"
      ]
     },
     "execution_count": 21,
     "metadata": {},
     "output_type": "execute_result"
    }
   ],
   "source": [
    "newtonData = DataFrame(fun = [f1,f2,f3,f4,f5,f6], xZero=[N1,N2,N3,N4,N5,N6], Newton=[iszero(f1(N1)),iszero(f2(N2)),iszero(f3(N3)),iszero(f4(N4)),iszero(f5(N5)),\n",
    "        iszero(f6(N6))], it=[26,0,4,19,NaN,0], ev=[53,1,9,39,NaN,1])\n",
    "\n"
   ]
  },
  {
   "cell_type": "code",
   "execution_count": 22,
   "metadata": {},
   "outputs": [
    {
     "name": "stderr",
     "output_type": "stream",
     "text": [
      "┌ Warning: Duplicate variable names are deprecated: pass makeunique=true to add a suffix automatically.\n",
      "│   caller = ip:0x0\n",
      "└ @ Core :-1\n"
     ]
    },
    {
     "data": {
      "text/html": [
       "<table class=\"data-frame\"><thead><tr><th></th><th>fun</th><th>xZero</th><th>bisection</th><th>xZero_1</th><th>Newton</th><th>it</th><th>ev</th></tr><tr><th></th><th>Function</th><th>Float64</th><th>Bool</th><th>Float64</th><th>Bool</th><th>Float64</th><th>Float64</th></tr></thead><tbody><tr><th>1</th><td>f1</td><td>-3.0</td><td>true</td><td>1.0</td><td>false</td><td>26.0</td><td>53.0</td></tr><tr><th>2</th><td>f2</td><td>0.0</td><td>true</td><td>0.0</td><td>true</td><td>0.0</td><td>1.0</td></tr><tr><th>3</th><td>f3</td><td>0.351734</td><td>true</td><td>0.351734</td><td>true</td><td>4.0</td><td>9.0</td></tr><tr><th>4</th><td>f4</td><td>2.09455</td><td>false</td><td>2.09455</td><td>false</td><td>19.0</td><td>39.0</td></tr><tr><th>5</th><td>f5</td><td>0.0</td><td>false</td><td>NaN</td><td>false</td><td>NaN</td><td>NaN</td></tr><tr><th>6</th><td>f6</td><td>0.0</td><td>true</td><td>0.0</td><td>true</td><td>0.0</td><td>1.0</td></tr></tbody></table>"
      ],
      "text/plain": [
       "6×7 DataFrame. Omitted printing of 1 columns\n",
       "│ Row │ fun      │ xZero    │ bisection │ xZero_1  │ Newton │ it      │\n",
       "│     │ \u001b[90mFunction\u001b[39m │ \u001b[90mFloat64\u001b[39m  │ \u001b[90mBool\u001b[39m      │ \u001b[90mFloat64\u001b[39m  │ \u001b[90mBool\u001b[39m   │ \u001b[90mFloat64\u001b[39m │\n",
       "├─────┼──────────┼──────────┼───────────┼──────────┼────────┼─────────┤\n",
       "│ 1   │ f1       │ -3.0     │ true      │ 1.0      │ false  │ 26.0    │\n",
       "│ 2   │ f2       │ 0.0      │ true      │ 0.0      │ true   │ 0.0     │\n",
       "│ 3   │ f3       │ 0.351734 │ true      │ 0.351734 │ true   │ 4.0     │\n",
       "│ 4   │ f4       │ 2.09455  │ false     │ 2.09455  │ false  │ 19.0    │\n",
       "│ 5   │ f5       │ 0.0      │ false     │ NaN      │ false  │ NaN     │\n",
       "│ 6   │ f6       │ 0.0      │ true      │ 0.0      │ true   │ 0.0     │"
      ]
     },
     "execution_count": 22,
     "metadata": {},
     "output_type": "execute_result"
    }
   ],
   "source": [
    "join(data, newtonData, on= :fun)"
   ]
  },
  {
   "cell_type": "code",
   "execution_count": 23,
   "metadata": {},
   "outputs": [
    {
     "data": {
      "image/svg+xml": [
       "<?xml version=\"1.0\" encoding=\"utf-8\"?>\n",
       "<svg xmlns=\"http://www.w3.org/2000/svg\" xmlns:xlink=\"http://www.w3.org/1999/xlink\" width=\"600\" height=\"400\" viewBox=\"0 0 2400 1600\">\n",
       "<defs>\n",
       "  <clipPath id=\"clip9000\">\n",
       "    <rect x=\"0\" y=\"0\" width=\"2000\" height=\"2000\"/>\n",
       "  </clipPath>\n",
       "</defs>\n",
       "<defs>\n",
       "  <clipPath id=\"clip9001\">\n",
       "    <rect x=\"0\" y=\"0\" width=\"2400\" height=\"1600\"/>\n",
       "  </clipPath>\n",
       "</defs>\n",
       "<polygon clip-path=\"url(#clip9001)\" points=\"\n",
       "0,1600 2400,1600 2400,0 0,0 \n",
       "  \" fill=\"#ffffff\" fill-rule=\"evenodd\" fill-opacity=\"1\"/>\n",
       "<defs>\n",
       "  <clipPath id=\"clip9002\">\n",
       "    <rect x=\"480\" y=\"0\" width=\"1681\" height=\"1600\"/>\n",
       "  </clipPath>\n",
       "</defs>\n",
       "<polygon clip-path=\"url(#clip9001)\" points=\"\n",
       "176.123,1503.47 2321.26,1503.47 2321.26,47.2441 176.123,47.2441 \n",
       "  \" fill=\"#ffffff\" fill-rule=\"evenodd\" fill-opacity=\"1\"/>\n",
       "<defs>\n",
       "  <clipPath id=\"clip9003\">\n",
       "    <rect x=\"176\" y=\"47\" width=\"2146\" height=\"1457\"/>\n",
       "  </clipPath>\n",
       "</defs>\n",
       "<polyline clip-path=\"url(#clip9003)\" style=\"stroke:#000000; stroke-width:2; stroke-opacity:0.1; fill:none\" points=\"\n",
       "  416.879,1503.47 416.879,47.2441 \n",
       "  \"/>\n",
       "<polyline clip-path=\"url(#clip9003)\" style=\"stroke:#000000; stroke-width:2; stroke-opacity:0.1; fill:none\" points=\"\n",
       "  786.906,1503.47 786.906,47.2441 \n",
       "  \"/>\n",
       "<polyline clip-path=\"url(#clip9003)\" style=\"stroke:#000000; stroke-width:2; stroke-opacity:0.1; fill:none\" points=\"\n",
       "  1156.93,1503.47 1156.93,47.2441 \n",
       "  \"/>\n",
       "<polyline clip-path=\"url(#clip9003)\" style=\"stroke:#000000; stroke-width:2; stroke-opacity:0.1; fill:none\" points=\"\n",
       "  1526.96,1503.47 1526.96,47.2441 \n",
       "  \"/>\n",
       "<polyline clip-path=\"url(#clip9003)\" style=\"stroke:#000000; stroke-width:2; stroke-opacity:0.1; fill:none\" points=\"\n",
       "  1896.99,1503.47 1896.99,47.2441 \n",
       "  \"/>\n",
       "<polyline clip-path=\"url(#clip9003)\" style=\"stroke:#000000; stroke-width:2; stroke-opacity:0.1; fill:none\" points=\"\n",
       "  2267.01,1503.47 2267.01,47.2441 \n",
       "  \"/>\n",
       "<polyline clip-path=\"url(#clip9003)\" style=\"stroke:#000000; stroke-width:2; stroke-opacity:0.1; fill:none\" points=\"\n",
       "  176.123,1476.93 2321.26,1476.93 \n",
       "  \"/>\n",
       "<polyline clip-path=\"url(#clip9003)\" style=\"stroke:#000000; stroke-width:2; stroke-opacity:0.1; fill:none\" points=\"\n",
       "  176.123,1120.26 2321.26,1120.26 \n",
       "  \"/>\n",
       "<polyline clip-path=\"url(#clip9003)\" style=\"stroke:#000000; stroke-width:2; stroke-opacity:0.1; fill:none\" points=\"\n",
       "  176.123,763.596 2321.26,763.596 \n",
       "  \"/>\n",
       "<polyline clip-path=\"url(#clip9003)\" style=\"stroke:#000000; stroke-width:2; stroke-opacity:0.1; fill:none\" points=\"\n",
       "  176.123,406.929 2321.26,406.929 \n",
       "  \"/>\n",
       "<polyline clip-path=\"url(#clip9003)\" style=\"stroke:#000000; stroke-width:2; stroke-opacity:0.1; fill:none\" points=\"\n",
       "  176.123,50.2627 2321.26,50.2627 \n",
       "  \"/>\n",
       "<polyline clip-path=\"url(#clip9001)\" style=\"stroke:#000000; stroke-width:4; stroke-opacity:1; fill:none\" points=\"\n",
       "  176.123,1503.47 2321.26,1503.47 \n",
       "  \"/>\n",
       "<polyline clip-path=\"url(#clip9001)\" style=\"stroke:#000000; stroke-width:4; stroke-opacity:1; fill:none\" points=\"\n",
       "  176.123,1503.47 176.123,47.2441 \n",
       "  \"/>\n",
       "<polyline clip-path=\"url(#clip9001)\" style=\"stroke:#000000; stroke-width:4; stroke-opacity:1; fill:none\" points=\"\n",
       "  416.879,1503.47 416.879,1481.63 \n",
       "  \"/>\n",
       "<polyline clip-path=\"url(#clip9001)\" style=\"stroke:#000000; stroke-width:4; stroke-opacity:1; fill:none\" points=\"\n",
       "  786.906,1503.47 786.906,1481.63 \n",
       "  \"/>\n",
       "<polyline clip-path=\"url(#clip9001)\" style=\"stroke:#000000; stroke-width:4; stroke-opacity:1; fill:none\" points=\"\n",
       "  1156.93,1503.47 1156.93,1481.63 \n",
       "  \"/>\n",
       "<polyline clip-path=\"url(#clip9001)\" style=\"stroke:#000000; stroke-width:4; stroke-opacity:1; fill:none\" points=\"\n",
       "  1526.96,1503.47 1526.96,1481.63 \n",
       "  \"/>\n",
       "<polyline clip-path=\"url(#clip9001)\" style=\"stroke:#000000; stroke-width:4; stroke-opacity:1; fill:none\" points=\"\n",
       "  1896.99,1503.47 1896.99,1481.63 \n",
       "  \"/>\n",
       "<polyline clip-path=\"url(#clip9001)\" style=\"stroke:#000000; stroke-width:4; stroke-opacity:1; fill:none\" points=\"\n",
       "  2267.01,1503.47 2267.01,1481.63 \n",
       "  \"/>\n",
       "<polyline clip-path=\"url(#clip9001)\" style=\"stroke:#000000; stroke-width:4; stroke-opacity:1; fill:none\" points=\"\n",
       "  176.123,1476.93 208.3,1476.93 \n",
       "  \"/>\n",
       "<polyline clip-path=\"url(#clip9001)\" style=\"stroke:#000000; stroke-width:4; stroke-opacity:1; fill:none\" points=\"\n",
       "  176.123,1120.26 208.3,1120.26 \n",
       "  \"/>\n",
       "<polyline clip-path=\"url(#clip9001)\" style=\"stroke:#000000; stroke-width:4; stroke-opacity:1; fill:none\" points=\"\n",
       "  176.123,763.596 208.3,763.596 \n",
       "  \"/>\n",
       "<polyline clip-path=\"url(#clip9001)\" style=\"stroke:#000000; stroke-width:4; stroke-opacity:1; fill:none\" points=\"\n",
       "  176.123,406.929 208.3,406.929 \n",
       "  \"/>\n",
       "<polyline clip-path=\"url(#clip9001)\" style=\"stroke:#000000; stroke-width:4; stroke-opacity:1; fill:none\" points=\"\n",
       "  176.123,50.2627 208.3,50.2627 \n",
       "  \"/>\n",
       "<g clip-path=\"url(#clip9001)\">\n",
       "<text style=\"fill:#000000; fill-opacity:1; font-family:Arial,Helvetica Neue,Helvetica,sans-serif; font-size:48px; text-anchor:middle;\" transform=\"rotate(0, 416.879, 1557.47)\" x=\"416.879\" y=\"1557.47\">-3</text>\n",
       "</g>\n",
       "<g clip-path=\"url(#clip9001)\">\n",
       "<text style=\"fill:#000000; fill-opacity:1; font-family:Arial,Helvetica Neue,Helvetica,sans-serif; font-size:48px; text-anchor:middle;\" transform=\"rotate(0, 786.906, 1557.47)\" x=\"786.906\" y=\"1557.47\">-2</text>\n",
       "</g>\n",
       "<g clip-path=\"url(#clip9001)\">\n",
       "<text style=\"fill:#000000; fill-opacity:1; font-family:Arial,Helvetica Neue,Helvetica,sans-serif; font-size:48px; text-anchor:middle;\" transform=\"rotate(0, 1156.93, 1557.47)\" x=\"1156.93\" y=\"1557.47\">-1</text>\n",
       "</g>\n",
       "<g clip-path=\"url(#clip9001)\">\n",
       "<text style=\"fill:#000000; fill-opacity:1; font-family:Arial,Helvetica Neue,Helvetica,sans-serif; font-size:48px; text-anchor:middle;\" transform=\"rotate(0, 1526.96, 1557.47)\" x=\"1526.96\" y=\"1557.47\">0</text>\n",
       "</g>\n",
       "<g clip-path=\"url(#clip9001)\">\n",
       "<text style=\"fill:#000000; fill-opacity:1; font-family:Arial,Helvetica Neue,Helvetica,sans-serif; font-size:48px; text-anchor:middle;\" transform=\"rotate(0, 1896.99, 1557.47)\" x=\"1896.99\" y=\"1557.47\">1</text>\n",
       "</g>\n",
       "<g clip-path=\"url(#clip9001)\">\n",
       "<text style=\"fill:#000000; fill-opacity:1; font-family:Arial,Helvetica Neue,Helvetica,sans-serif; font-size:48px; text-anchor:middle;\" transform=\"rotate(0, 2267.01, 1557.47)\" x=\"2267.01\" y=\"1557.47\">2</text>\n",
       "</g>\n",
       "<g clip-path=\"url(#clip9001)\">\n",
       "<text style=\"fill:#000000; fill-opacity:1; font-family:Arial,Helvetica Neue,Helvetica,sans-serif; font-size:48px; text-anchor:end;\" transform=\"rotate(0, 152.123, 1494.43)\" x=\"152.123\" y=\"1494.43\">-10</text>\n",
       "</g>\n",
       "<g clip-path=\"url(#clip9001)\">\n",
       "<text style=\"fill:#000000; fill-opacity:1; font-family:Arial,Helvetica Neue,Helvetica,sans-serif; font-size:48px; text-anchor:end;\" transform=\"rotate(0, 152.123, 1137.76)\" x=\"152.123\" y=\"1137.76\">-5</text>\n",
       "</g>\n",
       "<g clip-path=\"url(#clip9001)\">\n",
       "<text style=\"fill:#000000; fill-opacity:1; font-family:Arial,Helvetica Neue,Helvetica,sans-serif; font-size:48px; text-anchor:end;\" transform=\"rotate(0, 152.123, 781.096)\" x=\"152.123\" y=\"781.096\">0</text>\n",
       "</g>\n",
       "<g clip-path=\"url(#clip9001)\">\n",
       "<text style=\"fill:#000000; fill-opacity:1; font-family:Arial,Helvetica Neue,Helvetica,sans-serif; font-size:48px; text-anchor:end;\" transform=\"rotate(0, 152.123, 424.429)\" x=\"152.123\" y=\"424.429\">5</text>\n",
       "</g>\n",
       "<g clip-path=\"url(#clip9001)\">\n",
       "<text style=\"fill:#000000; fill-opacity:1; font-family:Arial,Helvetica Neue,Helvetica,sans-serif; font-size:48px; text-anchor:end;\" transform=\"rotate(0, 152.123, 67.7627)\" x=\"152.123\" y=\"67.7627\">10</text>\n",
       "</g>\n",
       "<polyline clip-path=\"url(#clip9003)\" style=\"stroke:#009af9; stroke-width:4; stroke-opacity:1; fill:none\" points=\"\n",
       "  236.834,1462.26 241.803,1438.92 246.772,1415.82 251.741,1392.96 274.712,1290.39 297.684,1192.85 320.655,1100.24 343.627,1012.46 366.598,929.402 389.57,850.968 \n",
       "  412.541,777.055 435.513,707.56 463.123,629.734 490.732,557.965 518.342,492.074 545.952,431.885 569.296,385.311 592.64,342.579 615.983,303.579 639.327,268.206 \n",
       "  664.685,233.764 690.043,203.336 715.401,176.784 740.759,153.971 764.136,136.132 787.514,121.245 810.892,109.204 834.27,99.8981 884.396,88.6675 934.523,88.4582 \n",
       "  963.562,92.9601 992.6,100.597 1021.64,111.161 1050.68,124.447 1102.29,154.133 1153.9,190.6 1199.16,227.242 1244.42,267.422 1343.11,363.52 1442.38,465.196 \n",
       "  1497.26,520.548 1552.14,573.517 1604.36,620.428 1656.58,662.715 1710.87,700.488 1765.17,730.609 1810.87,749.041 1856.58,760.285 1884.48,763.272 1912.38,763.097 \n",
       "  1940.27,759.577 1968.17,752.527 1994.4,742.519 2020.63,729.078 2046.85,712.051 2073.08,691.287 2094.09,671.855 2115.1,649.849 2136.11,625.19 2157.12,597.8 \n",
       "  2199.13,534.513 2241.15,459.362 2247.62,446.703 2254.08,433.747 2260.55,420.489 \n",
       "  \"/>\n",
       "<polygon clip-path=\"url(#clip9001)\" points=\"\n",
       "1969.12,251.724 2249.26,251.724 2249.26,130.764 1969.12,130.764 \n",
       "  \" fill=\"#ffffff\" fill-rule=\"evenodd\" fill-opacity=\"1\"/>\n",
       "<polyline clip-path=\"url(#clip9001)\" style=\"stroke:#000000; stroke-width:4; stroke-opacity:1; fill:none\" points=\"\n",
       "  1969.12,251.724 2249.26,251.724 2249.26,130.764 1969.12,130.764 1969.12,251.724 \n",
       "  \"/>\n",
       "<polyline clip-path=\"url(#clip9001)\" style=\"stroke:#009af9; stroke-width:4; stroke-opacity:1; fill:none\" points=\"\n",
       "  1993.12,191.244 2137.12,191.244 \n",
       "  \"/>\n",
       "<g clip-path=\"url(#clip9001)\">\n",
       "<text style=\"fill:#000000; fill-opacity:1; font-family:Arial,Helvetica Neue,Helvetica,sans-serif; font-size:48px; text-anchor:start;\" transform=\"rotate(0, 2161.12, 208.744)\" x=\"2161.12\" y=\"208.744\">f1</text>\n",
       "</g>\n",
       "</svg>\n"
      ]
     },
     "execution_count": 23,
     "metadata": {},
     "output_type": "execute_result"
    }
   ],
   "source": [
    "plot(x -> f1(x),-3.5,2,label=\"f1\")"
   ]
  },
  {
   "cell_type": "code",
   "execution_count": 24,
   "metadata": {},
   "outputs": [
    {
     "data": {
      "text/plain": [
       "1.0"
      ]
     },
     "execution_count": 24,
     "metadata": {},
     "output_type": "execute_result"
    }
   ],
   "source": [
    "sign(f1(prevfloat(N1))) *sign(f1(nextfloat(N1)))"
   ]
  },
  {
   "cell_type": "code",
   "execution_count": 25,
   "metadata": {},
   "outputs": [
    {
     "data": {
      "text/plain": [
       "(0.9999999893171166, 4.564959859473074e-16)"
      ]
     },
     "execution_count": 25,
     "metadata": {},
     "output_type": "execute_result"
    }
   ],
   "source": [
    "N1, f1(N1)"
   ]
  },
  {
   "cell_type": "code",
   "execution_count": 26,
   "metadata": {},
   "outputs": [
    {
     "data": {
      "image/svg+xml": [
       "<?xml version=\"1.0\" encoding=\"utf-8\"?>\n",
       "<svg xmlns=\"http://www.w3.org/2000/svg\" xmlns:xlink=\"http://www.w3.org/1999/xlink\" width=\"600\" height=\"400\" viewBox=\"0 0 2400 1600\">\n",
       "<defs>\n",
       "  <clipPath id=\"clip9200\">\n",
       "    <rect x=\"0\" y=\"0\" width=\"2000\" height=\"2000\"/>\n",
       "  </clipPath>\n",
       "</defs>\n",
       "<defs>\n",
       "  <clipPath id=\"clip9201\">\n",
       "    <rect x=\"0\" y=\"0\" width=\"2400\" height=\"1600\"/>\n",
       "  </clipPath>\n",
       "</defs>\n",
       "<polygon clip-path=\"url(#clip9201)\" points=\"\n",
       "0,1600 2400,1600 2400,0 0,0 \n",
       "  \" fill=\"#ffffff\" fill-rule=\"evenodd\" fill-opacity=\"1\"/>\n",
       "<defs>\n",
       "  <clipPath id=\"clip9202\">\n",
       "    <rect x=\"480\" y=\"0\" width=\"1681\" height=\"1600\"/>\n",
       "  </clipPath>\n",
       "</defs>\n",
       "<polygon clip-path=\"url(#clip9201)\" points=\"\n",
       "149.361,1503.47 2321.26,1503.47 2321.26,47.2441 149.361,47.2441 \n",
       "  \" fill=\"#ffffff\" fill-rule=\"evenodd\" fill-opacity=\"1\"/>\n",
       "<defs>\n",
       "  <clipPath id=\"clip9203\">\n",
       "    <rect x=\"149\" y=\"47\" width=\"2173\" height=\"1457\"/>\n",
       "  </clipPath>\n",
       "</defs>\n",
       "<polyline clip-path=\"url(#clip9203)\" style=\"stroke:#000000; stroke-width:2; stroke-opacity:0.1; fill:none\" points=\"\n",
       "  190.492,1503.47 190.492,47.2441 \n",
       "  \"/>\n",
       "<polyline clip-path=\"url(#clip9203)\" style=\"stroke:#000000; stroke-width:2; stroke-opacity:0.1; fill:none\" points=\"\n",
       "  711.125,1503.47 711.125,47.2441 \n",
       "  \"/>\n",
       "<polyline clip-path=\"url(#clip9203)\" style=\"stroke:#000000; stroke-width:2; stroke-opacity:0.1; fill:none\" points=\"\n",
       "  1231.76,1503.47 1231.76,47.2441 \n",
       "  \"/>\n",
       "<polyline clip-path=\"url(#clip9203)\" style=\"stroke:#000000; stroke-width:2; stroke-opacity:0.1; fill:none\" points=\"\n",
       "  1752.39,1503.47 1752.39,47.2441 \n",
       "  \"/>\n",
       "<polyline clip-path=\"url(#clip9203)\" style=\"stroke:#000000; stroke-width:2; stroke-opacity:0.1; fill:none\" points=\"\n",
       "  2273.02,1503.47 2273.02,47.2441 \n",
       "  \"/>\n",
       "<polyline clip-path=\"url(#clip9203)\" style=\"stroke:#000000; stroke-width:2; stroke-opacity:0.1; fill:none\" points=\"\n",
       "  149.361,1400.16 2321.26,1400.16 \n",
       "  \"/>\n",
       "<polyline clip-path=\"url(#clip9203)\" style=\"stroke:#000000; stroke-width:2; stroke-opacity:0.1; fill:none\" points=\"\n",
       "  149.361,1083.07 2321.26,1083.07 \n",
       "  \"/>\n",
       "<polyline clip-path=\"url(#clip9203)\" style=\"stroke:#000000; stroke-width:2; stroke-opacity:0.1; fill:none\" points=\"\n",
       "  149.361,765.987 2321.26,765.987 \n",
       "  \"/>\n",
       "<polyline clip-path=\"url(#clip9203)\" style=\"stroke:#000000; stroke-width:2; stroke-opacity:0.1; fill:none\" points=\"\n",
       "  149.361,448.902 2321.26,448.902 \n",
       "  \"/>\n",
       "<polyline clip-path=\"url(#clip9203)\" style=\"stroke:#000000; stroke-width:2; stroke-opacity:0.1; fill:none\" points=\"\n",
       "  149.361,131.818 2321.26,131.818 \n",
       "  \"/>\n",
       "<polyline clip-path=\"url(#clip9201)\" style=\"stroke:#000000; stroke-width:4; stroke-opacity:1; fill:none\" points=\"\n",
       "  149.361,1503.47 2321.26,1503.47 \n",
       "  \"/>\n",
       "<polyline clip-path=\"url(#clip9201)\" style=\"stroke:#000000; stroke-width:4; stroke-opacity:1; fill:none\" points=\"\n",
       "  149.361,1503.47 149.361,47.2441 \n",
       "  \"/>\n",
       "<polyline clip-path=\"url(#clip9201)\" style=\"stroke:#000000; stroke-width:4; stroke-opacity:1; fill:none\" points=\"\n",
       "  190.492,1503.47 190.492,1481.63 \n",
       "  \"/>\n",
       "<polyline clip-path=\"url(#clip9201)\" style=\"stroke:#000000; stroke-width:4; stroke-opacity:1; fill:none\" points=\"\n",
       "  711.125,1503.47 711.125,1481.63 \n",
       "  \"/>\n",
       "<polyline clip-path=\"url(#clip9201)\" style=\"stroke:#000000; stroke-width:4; stroke-opacity:1; fill:none\" points=\"\n",
       "  1231.76,1503.47 1231.76,1481.63 \n",
       "  \"/>\n",
       "<polyline clip-path=\"url(#clip9201)\" style=\"stroke:#000000; stroke-width:4; stroke-opacity:1; fill:none\" points=\"\n",
       "  1752.39,1503.47 1752.39,1481.63 \n",
       "  \"/>\n",
       "<polyline clip-path=\"url(#clip9201)\" style=\"stroke:#000000; stroke-width:4; stroke-opacity:1; fill:none\" points=\"\n",
       "  2273.02,1503.47 2273.02,1481.63 \n",
       "  \"/>\n",
       "<polyline clip-path=\"url(#clip9201)\" style=\"stroke:#000000; stroke-width:4; stroke-opacity:1; fill:none\" points=\"\n",
       "  149.361,1400.16 181.939,1400.16 \n",
       "  \"/>\n",
       "<polyline clip-path=\"url(#clip9201)\" style=\"stroke:#000000; stroke-width:4; stroke-opacity:1; fill:none\" points=\"\n",
       "  149.361,1083.07 181.939,1083.07 \n",
       "  \"/>\n",
       "<polyline clip-path=\"url(#clip9201)\" style=\"stroke:#000000; stroke-width:4; stroke-opacity:1; fill:none\" points=\"\n",
       "  149.361,765.987 181.939,765.987 \n",
       "  \"/>\n",
       "<polyline clip-path=\"url(#clip9201)\" style=\"stroke:#000000; stroke-width:4; stroke-opacity:1; fill:none\" points=\"\n",
       "  149.361,448.902 181.939,448.902 \n",
       "  \"/>\n",
       "<polyline clip-path=\"url(#clip9201)\" style=\"stroke:#000000; stroke-width:4; stroke-opacity:1; fill:none\" points=\"\n",
       "  149.361,131.818 181.939,131.818 \n",
       "  \"/>\n",
       "<g clip-path=\"url(#clip9201)\">\n",
       "<text style=\"fill:#000000; fill-opacity:1; font-family:Arial,Helvetica Neue,Helvetica,sans-serif; font-size:48px; text-anchor:middle;\" transform=\"rotate(0, 190.492, 1557.47)\" x=\"190.492\" y=\"1557.47\">1.0</text>\n",
       "</g>\n",
       "<g clip-path=\"url(#clip9201)\">\n",
       "<text style=\"fill:#000000; fill-opacity:1; font-family:Arial,Helvetica Neue,Helvetica,sans-serif; font-size:48px; text-anchor:middle;\" transform=\"rotate(0, 711.125, 1557.47)\" x=\"711.125\" y=\"1557.47\">1.5</text>\n",
       "</g>\n",
       "<g clip-path=\"url(#clip9201)\">\n",
       "<text style=\"fill:#000000; fill-opacity:1; font-family:Arial,Helvetica Neue,Helvetica,sans-serif; font-size:48px; text-anchor:middle;\" transform=\"rotate(0, 1231.76, 1557.47)\" x=\"1231.76\" y=\"1557.47\">2.0</text>\n",
       "</g>\n",
       "<g clip-path=\"url(#clip9201)\">\n",
       "<text style=\"fill:#000000; fill-opacity:1; font-family:Arial,Helvetica Neue,Helvetica,sans-serif; font-size:48px; text-anchor:middle;\" transform=\"rotate(0, 1752.39, 1557.47)\" x=\"1752.39\" y=\"1557.47\">2.5</text>\n",
       "</g>\n",
       "<g clip-path=\"url(#clip9201)\">\n",
       "<text style=\"fill:#000000; fill-opacity:1; font-family:Arial,Helvetica Neue,Helvetica,sans-serif; font-size:48px; text-anchor:middle;\" transform=\"rotate(0, 2273.02, 1557.47)\" x=\"2273.02\" y=\"1557.47\">3.0</text>\n",
       "</g>\n",
       "<g clip-path=\"url(#clip9201)\">\n",
       "<text style=\"fill:#000000; fill-opacity:1; font-family:Arial,Helvetica Neue,Helvetica,sans-serif; font-size:48px; text-anchor:end;\" transform=\"rotate(0, 125.361, 1417.66)\" x=\"125.361\" y=\"1417.66\">-5</text>\n",
       "</g>\n",
       "<g clip-path=\"url(#clip9201)\">\n",
       "<text style=\"fill:#000000; fill-opacity:1; font-family:Arial,Helvetica Neue,Helvetica,sans-serif; font-size:48px; text-anchor:end;\" transform=\"rotate(0, 125.361, 1100.57)\" x=\"125.361\" y=\"1100.57\">0</text>\n",
       "</g>\n",
       "<g clip-path=\"url(#clip9201)\">\n",
       "<text style=\"fill:#000000; fill-opacity:1; font-family:Arial,Helvetica Neue,Helvetica,sans-serif; font-size:48px; text-anchor:end;\" transform=\"rotate(0, 125.361, 783.487)\" x=\"125.361\" y=\"783.487\">5</text>\n",
       "</g>\n",
       "<g clip-path=\"url(#clip9201)\">\n",
       "<text style=\"fill:#000000; fill-opacity:1; font-family:Arial,Helvetica Neue,Helvetica,sans-serif; font-size:48px; text-anchor:end;\" transform=\"rotate(0, 125.361, 466.402)\" x=\"125.361\" y=\"466.402\">10</text>\n",
       "</g>\n",
       "<g clip-path=\"url(#clip9201)\">\n",
       "<text style=\"fill:#000000; fill-opacity:1; font-family:Arial,Helvetica Neue,Helvetica,sans-serif; font-size:48px; text-anchor:end;\" transform=\"rotate(0, 125.361, 149.318)\" x=\"125.361\" y=\"149.318\">15</text>\n",
       "</g>\n",
       "<polyline clip-path=\"url(#clip9203)\" style=\"stroke:#009af9; stroke-width:4; stroke-opacity:1; fill:none\" points=\"\n",
       "  210.829,1462.26 398.88,1442.75 511.891,1424.01 607.44,1403.6 711.233,1376.34 806.921,1346.2 909.509,1308.19 1028.37,1256.32 1133.99,1202.73 1226.62,1149.61 \n",
       "  1327.61,1084.84 1429.19,1012.13 1541.51,922.498 1648.38,827.778 1759.49,719.085 1853.03,619.187 1910.13,554.303 1967.23,486.386 2020.9,419.72 2074.58,350.265 \n",
       "  2160.57,233.051 2246.56,108.332 2259.79,88.4582 \n",
       "  \"/>\n",
       "<polygon clip-path=\"url(#clip9201)\" points=\"\n",
       "1969.12,251.724 2249.26,251.724 2249.26,130.764 1969.12,130.764 \n",
       "  \" fill=\"#ffffff\" fill-rule=\"evenodd\" fill-opacity=\"1\"/>\n",
       "<polyline clip-path=\"url(#clip9201)\" style=\"stroke:#000000; stroke-width:4; stroke-opacity:1; fill:none\" points=\"\n",
       "  1969.12,251.724 2249.26,251.724 2249.26,130.764 1969.12,130.764 1969.12,251.724 \n",
       "  \"/>\n",
       "<polyline clip-path=\"url(#clip9201)\" style=\"stroke:#009af9; stroke-width:4; stroke-opacity:1; fill:none\" points=\"\n",
       "  1993.12,191.244 2137.12,191.244 \n",
       "  \"/>\n",
       "<g clip-path=\"url(#clip9201)\">\n",
       "<text style=\"fill:#000000; fill-opacity:1; font-family:Arial,Helvetica Neue,Helvetica,sans-serif; font-size:48px; text-anchor:start;\" transform=\"rotate(0, 2161.12, 208.744)\" x=\"2161.12\" y=\"208.744\">f4</text>\n",
       "</g>\n",
       "</svg>\n"
      ]
     },
     "execution_count": 26,
     "metadata": {},
     "output_type": "execute_result"
    }
   ],
   "source": [
    "plot(x -> f4(x),1,3,label=\"f4\")"
   ]
  },
  {
   "cell_type": "code",
   "execution_count": 27,
   "metadata": {},
   "outputs": [
    {
     "data": {
      "text/plain": [
       "-1.0"
      ]
     },
     "execution_count": 27,
     "metadata": {},
     "output_type": "execute_result"
    }
   ],
   "source": [
    "sign(f4(prevfloat(N4))) *sign(f1(nextfloat(N4)))"
   ]
  },
  {
   "cell_type": "code",
   "execution_count": 28,
   "metadata": {},
   "outputs": [
    {
     "data": {
      "text/plain": [
       "(2.0945514815423265, -8.881784197001252e-16)"
      ]
     },
     "execution_count": 28,
     "metadata": {},
     "output_type": "execute_result"
    }
   ],
   "source": [
    "N4,f4(N4)"
   ]
  },
  {
   "cell_type": "code",
   "execution_count": 29,
   "metadata": {},
   "outputs": [
    {
     "data": {
      "image/svg+xml": [
       "<?xml version=\"1.0\" encoding=\"utf-8\"?>\n",
       "<svg xmlns=\"http://www.w3.org/2000/svg\" xmlns:xlink=\"http://www.w3.org/1999/xlink\" width=\"600\" height=\"400\" viewBox=\"0 0 2400 1600\">\n",
       "<defs>\n",
       "  <clipPath id=\"clip9400\">\n",
       "    <rect x=\"0\" y=\"0\" width=\"2000\" height=\"2000\"/>\n",
       "  </clipPath>\n",
       "</defs>\n",
       "<defs>\n",
       "  <clipPath id=\"clip9401\">\n",
       "    <rect x=\"0\" y=\"0\" width=\"2400\" height=\"1600\"/>\n",
       "  </clipPath>\n",
       "</defs>\n",
       "<polygon clip-path=\"url(#clip9401)\" points=\"\n",
       "0,1600 2400,1600 2400,0 0,0 \n",
       "  \" fill=\"#ffffff\" fill-rule=\"evenodd\" fill-opacity=\"1\"/>\n",
       "<defs>\n",
       "  <clipPath id=\"clip9402\">\n",
       "    <rect x=\"480\" y=\"0\" width=\"1681\" height=\"1600\"/>\n",
       "  </clipPath>\n",
       "</defs>\n",
       "<polygon clip-path=\"url(#clip9401)\" points=\"\n",
       "336.938,1503.47 2321.26,1503.47 2321.26,47.2441 336.938,47.2441 \n",
       "  \" fill=\"#ffffff\" fill-rule=\"evenodd\" fill-opacity=\"1\"/>\n",
       "<defs>\n",
       "  <clipPath id=\"clip9403\">\n",
       "    <rect x=\"336\" y=\"47\" width=\"1985\" height=\"1457\"/>\n",
       "  </clipPath>\n",
       "</defs>\n",
       "<polyline clip-path=\"url(#clip9403)\" style=\"stroke:#000000; stroke-width:2; stroke-opacity:0.1; fill:none\" points=\"\n",
       "  374.396,1503.47 374.396,47.2441 \n",
       "  \"/>\n",
       "<polyline clip-path=\"url(#clip9403)\" style=\"stroke:#000000; stroke-width:2; stroke-opacity:0.1; fill:none\" points=\"\n",
       "  853.156,1503.47 853.156,47.2441 \n",
       "  \"/>\n",
       "<polyline clip-path=\"url(#clip9403)\" style=\"stroke:#000000; stroke-width:2; stroke-opacity:0.1; fill:none\" points=\"\n",
       "  1331.92,1503.47 1331.92,47.2441 \n",
       "  \"/>\n",
       "<polyline clip-path=\"url(#clip9403)\" style=\"stroke:#000000; stroke-width:2; stroke-opacity:0.1; fill:none\" points=\"\n",
       "  1810.68,1503.47 1810.68,47.2441 \n",
       "  \"/>\n",
       "<polyline clip-path=\"url(#clip9403)\" style=\"stroke:#000000; stroke-width:2; stroke-opacity:0.1; fill:none\" points=\"\n",
       "  2289.44,1503.47 2289.44,47.2441 \n",
       "  \"/>\n",
       "<polyline clip-path=\"url(#clip9403)\" style=\"stroke:#000000; stroke-width:2; stroke-opacity:0.1; fill:none\" points=\"\n",
       "  336.938,1462.98 2321.26,1462.98 \n",
       "  \"/>\n",
       "<polyline clip-path=\"url(#clip9403)\" style=\"stroke:#000000; stroke-width:2; stroke-opacity:0.1; fill:none\" points=\"\n",
       "  336.938,1119.35 2321.26,1119.35 \n",
       "  \"/>\n",
       "<polyline clip-path=\"url(#clip9403)\" style=\"stroke:#000000; stroke-width:2; stroke-opacity:0.1; fill:none\" points=\"\n",
       "  336.938,775.723 2321.26,775.723 \n",
       "  \"/>\n",
       "<polyline clip-path=\"url(#clip9403)\" style=\"stroke:#000000; stroke-width:2; stroke-opacity:0.1; fill:none\" points=\"\n",
       "  336.938,432.095 2321.26,432.095 \n",
       "  \"/>\n",
       "<polyline clip-path=\"url(#clip9403)\" style=\"stroke:#000000; stroke-width:2; stroke-opacity:0.1; fill:none\" points=\"\n",
       "  336.938,88.467 2321.26,88.467 \n",
       "  \"/>\n",
       "<polyline clip-path=\"url(#clip9401)\" style=\"stroke:#000000; stroke-width:4; stroke-opacity:1; fill:none\" points=\"\n",
       "  336.938,1503.47 2321.26,1503.47 \n",
       "  \"/>\n",
       "<polyline clip-path=\"url(#clip9401)\" style=\"stroke:#000000; stroke-width:4; stroke-opacity:1; fill:none\" points=\"\n",
       "  336.938,1503.47 336.938,47.2441 \n",
       "  \"/>\n",
       "<polyline clip-path=\"url(#clip9401)\" style=\"stroke:#000000; stroke-width:4; stroke-opacity:1; fill:none\" points=\"\n",
       "  374.396,1503.47 374.396,1481.63 \n",
       "  \"/>\n",
       "<polyline clip-path=\"url(#clip9401)\" style=\"stroke:#000000; stroke-width:4; stroke-opacity:1; fill:none\" points=\"\n",
       "  853.156,1503.47 853.156,1481.63 \n",
       "  \"/>\n",
       "<polyline clip-path=\"url(#clip9401)\" style=\"stroke:#000000; stroke-width:4; stroke-opacity:1; fill:none\" points=\"\n",
       "  1331.92,1503.47 1331.92,1481.63 \n",
       "  \"/>\n",
       "<polyline clip-path=\"url(#clip9401)\" style=\"stroke:#000000; stroke-width:4; stroke-opacity:1; fill:none\" points=\"\n",
       "  1810.68,1503.47 1810.68,1481.63 \n",
       "  \"/>\n",
       "<polyline clip-path=\"url(#clip9401)\" style=\"stroke:#000000; stroke-width:4; stroke-opacity:1; fill:none\" points=\"\n",
       "  2289.44,1503.47 2289.44,1481.63 \n",
       "  \"/>\n",
       "<polyline clip-path=\"url(#clip9401)\" style=\"stroke:#000000; stroke-width:4; stroke-opacity:1; fill:none\" points=\"\n",
       "  336.938,1462.98 366.702,1462.98 \n",
       "  \"/>\n",
       "<polyline clip-path=\"url(#clip9401)\" style=\"stroke:#000000; stroke-width:4; stroke-opacity:1; fill:none\" points=\"\n",
       "  336.938,1119.35 366.702,1119.35 \n",
       "  \"/>\n",
       "<polyline clip-path=\"url(#clip9401)\" style=\"stroke:#000000; stroke-width:4; stroke-opacity:1; fill:none\" points=\"\n",
       "  336.938,775.723 366.702,775.723 \n",
       "  \"/>\n",
       "<polyline clip-path=\"url(#clip9401)\" style=\"stroke:#000000; stroke-width:4; stroke-opacity:1; fill:none\" points=\"\n",
       "  336.938,432.095 366.702,432.095 \n",
       "  \"/>\n",
       "<polyline clip-path=\"url(#clip9401)\" style=\"stroke:#000000; stroke-width:4; stroke-opacity:1; fill:none\" points=\"\n",
       "  336.938,88.467 366.702,88.467 \n",
       "  \"/>\n",
       "<g clip-path=\"url(#clip9401)\">\n",
       "<text style=\"fill:#000000; fill-opacity:1; font-family:Arial,Helvetica Neue,Helvetica,sans-serif; font-size:48px; text-anchor:middle;\" transform=\"rotate(0, 374.396, 1557.47)\" x=\"374.396\" y=\"1557.47\">-1.0</text>\n",
       "</g>\n",
       "<g clip-path=\"url(#clip9401)\">\n",
       "<text style=\"fill:#000000; fill-opacity:1; font-family:Arial,Helvetica Neue,Helvetica,sans-serif; font-size:48px; text-anchor:middle;\" transform=\"rotate(0, 853.156, 1557.47)\" x=\"853.156\" y=\"1557.47\">-0.5</text>\n",
       "</g>\n",
       "<g clip-path=\"url(#clip9401)\">\n",
       "<text style=\"fill:#000000; fill-opacity:1; font-family:Arial,Helvetica Neue,Helvetica,sans-serif; font-size:48px; text-anchor:middle;\" transform=\"rotate(0, 1331.92, 1557.47)\" x=\"1331.92\" y=\"1557.47\">0.0</text>\n",
       "</g>\n",
       "<g clip-path=\"url(#clip9401)\">\n",
       "<text style=\"fill:#000000; fill-opacity:1; font-family:Arial,Helvetica Neue,Helvetica,sans-serif; font-size:48px; text-anchor:middle;\" transform=\"rotate(0, 1810.68, 1557.47)\" x=\"1810.68\" y=\"1557.47\">0.5</text>\n",
       "</g>\n",
       "<g clip-path=\"url(#clip9401)\">\n",
       "<text style=\"fill:#000000; fill-opacity:1; font-family:Arial,Helvetica Neue,Helvetica,sans-serif; font-size:48px; text-anchor:middle;\" transform=\"rotate(0, 2289.44, 1557.47)\" x=\"2289.44\" y=\"1557.47\">1.0</text>\n",
       "</g>\n",
       "<g clip-path=\"url(#clip9401)\">\n",
       "<text style=\"fill:#000000; fill-opacity:1; font-family:Arial,Helvetica Neue,Helvetica,sans-serif; font-size:48px; text-anchor:start;\" transform=\"rotate(0, 114.543, 1486.71)\" x=\"114.543\" y=\"1486.71\">-</text>\n",
       "</g>\n",
       "<g clip-path=\"url(#clip9401)\">\n",
       "<text style=\"fill:#000000; fill-opacity:1; font-family:Arial,Helvetica Neue,Helvetica,sans-serif; font-size:48px; text-anchor:start;\" transform=\"rotate(0, 142.653, 1486.71)\" x=\"142.653\" y=\"1486.71\">1.0×10</text>\n",
       "</g>\n",
       "<g clip-path=\"url(#clip9401)\">\n",
       "<text style=\"fill:#000000; fill-opacity:1; font-family:Arial,Helvetica Neue,Helvetica,sans-serif; font-size:38px; text-anchor:start;\" transform=\"rotate(0, 291.193, 1459.3)\" x=\"291.193\" y=\"1459.3\">5</text>\n",
       "</g>\n",
       "<g clip-path=\"url(#clip9401)\">\n",
       "<text style=\"fill:#000000; fill-opacity:1; font-family:Arial,Helvetica Neue,Helvetica,sans-serif; font-size:48px; text-anchor:start;\" transform=\"rotate(0, 114.543, 1143.08)\" x=\"114.543\" y=\"1143.08\">-</text>\n",
       "</g>\n",
       "<g clip-path=\"url(#clip9401)\">\n",
       "<text style=\"fill:#000000; fill-opacity:1; font-family:Arial,Helvetica Neue,Helvetica,sans-serif; font-size:48px; text-anchor:start;\" transform=\"rotate(0, 142.653, 1143.08)\" x=\"142.653\" y=\"1143.08\">7.5×10</text>\n",
       "</g>\n",
       "<g clip-path=\"url(#clip9401)\">\n",
       "<text style=\"fill:#000000; fill-opacity:1; font-family:Arial,Helvetica Neue,Helvetica,sans-serif; font-size:38px; text-anchor:start;\" transform=\"rotate(0, 291.193, 1115.67)\" x=\"291.193\" y=\"1115.67\">4</text>\n",
       "</g>\n",
       "<g clip-path=\"url(#clip9401)\">\n",
       "<text style=\"fill:#000000; fill-opacity:1; font-family:Arial,Helvetica Neue,Helvetica,sans-serif; font-size:48px; text-anchor:start;\" transform=\"rotate(0, 114.543, 799.451)\" x=\"114.543\" y=\"799.451\">-</text>\n",
       "</g>\n",
       "<g clip-path=\"url(#clip9401)\">\n",
       "<text style=\"fill:#000000; fill-opacity:1; font-family:Arial,Helvetica Neue,Helvetica,sans-serif; font-size:48px; text-anchor:start;\" transform=\"rotate(0, 142.653, 799.451)\" x=\"142.653\" y=\"799.451\">5.0×10</text>\n",
       "</g>\n",
       "<g clip-path=\"url(#clip9401)\">\n",
       "<text style=\"fill:#000000; fill-opacity:1; font-family:Arial,Helvetica Neue,Helvetica,sans-serif; font-size:38px; text-anchor:start;\" transform=\"rotate(0, 291.193, 772.04)\" x=\"291.193\" y=\"772.04\">4</text>\n",
       "</g>\n",
       "<g clip-path=\"url(#clip9401)\">\n",
       "<text style=\"fill:#000000; fill-opacity:1; font-family:Arial,Helvetica Neue,Helvetica,sans-serif; font-size:48px; text-anchor:start;\" transform=\"rotate(0, 114.543, 455.823)\" x=\"114.543\" y=\"455.823\">-</text>\n",
       "</g>\n",
       "<g clip-path=\"url(#clip9401)\">\n",
       "<text style=\"fill:#000000; fill-opacity:1; font-family:Arial,Helvetica Neue,Helvetica,sans-serif; font-size:48px; text-anchor:start;\" transform=\"rotate(0, 142.653, 455.823)\" x=\"142.653\" y=\"455.823\">2.5×10</text>\n",
       "</g>\n",
       "<g clip-path=\"url(#clip9401)\">\n",
       "<text style=\"fill:#000000; fill-opacity:1; font-family:Arial,Helvetica Neue,Helvetica,sans-serif; font-size:38px; text-anchor:start;\" transform=\"rotate(0, 291.193, 428.412)\" x=\"291.193\" y=\"428.412\">4</text>\n",
       "</g>\n",
       "<g clip-path=\"url(#clip9401)\">\n",
       "<text style=\"fill:#000000; fill-opacity:1; font-family:Arial,Helvetica Neue,Helvetica,sans-serif; font-size:48px; text-anchor:end;\" transform=\"rotate(0, 312.938, 105.967)\" x=\"312.938\" y=\"105.967\">0</text>\n",
       "</g>\n",
       "<polyline clip-path=\"url(#clip9403)\" style=\"stroke:#009af9; stroke-width:4; stroke-opacity:1; fill:none\" points=\"\n",
       "  393.098,88.4894 566.024,88.4885 669.946,88.4879 757.81,88.4873 853.256,88.4867 941.248,88.4861 1035.59,88.4858 1144.88,88.4867 1193.45,88.4891 1242.02,88.4976 \n",
       "  1263.31,88.5085 1284.6,88.5379 1289.93,88.5531 1295.25,88.5754 1300.57,88.6102 1305.9,88.6686 1311.22,88.7779 1316.54,89.0208 1319.21,89.2726 1321.87,89.7525 \n",
       "  1323.2,90.1752 1324.53,90.8499 1325.86,92.025 1327.19,94.3525 1327.92,96.7335 1328.64,100.92 1329.37,109.331 1330.09,130.353 1330.82,211.203 1331.54,1462.26 \n",
       "  1332.27,551.327 1333,177.609 1333.72,123.099 1334.45,106.687 1335.17,99.6762 1335.9,96.0522 1337.35,92.602 1338.8,91.0671 1340.25,90.2536 1341.7,89.7712 \n",
       "  1343.15,89.4618 1344.6,89.2517 1347.51,88.9927 1350.41,88.8452 1356.21,88.6922 1362.02,88.6185 1367.82,88.5774 1373.62,88.5522 1385.23,88.5241 1396.84,88.5096 \n",
       "  1408.45,88.501 1420.06,88.4956 1466.76,88.4855 1513.47,88.4817 1616.76,88.4775 1715.03,88.4748 1817.21,88.4722 1903.22,88.4699 2008.23,88.4669 2106.95,88.4638 \n",
       "  2265.1,88.4582 \n",
       "  \"/>\n",
       "<polygon clip-path=\"url(#clip9401)\" points=\"\n",
       "1969.12,251.724 2249.26,251.724 2249.26,130.764 1969.12,130.764 \n",
       "  \" fill=\"#ffffff\" fill-rule=\"evenodd\" fill-opacity=\"1\"/>\n",
       "<polyline clip-path=\"url(#clip9401)\" style=\"stroke:#000000; stroke-width:4; stroke-opacity:1; fill:none\" points=\"\n",
       "  1969.12,251.724 2249.26,251.724 2249.26,130.764 1969.12,130.764 1969.12,251.724 \n",
       "  \"/>\n",
       "<polyline clip-path=\"url(#clip9401)\" style=\"stroke:#009af9; stroke-width:4; stroke-opacity:1; fill:none\" points=\"\n",
       "  1993.12,191.244 2137.12,191.244 \n",
       "  \"/>\n",
       "<g clip-path=\"url(#clip9401)\">\n",
       "<text style=\"fill:#000000; fill-opacity:1; font-family:Arial,Helvetica Neue,Helvetica,sans-serif; font-size:48px; text-anchor:start;\" transform=\"rotate(0, 2161.12, 208.744)\" x=\"2161.12\" y=\"208.744\">f5</text>\n",
       "</g>\n",
       "</svg>\n"
      ]
     },
     "execution_count": 29,
     "metadata": {},
     "output_type": "execute_result"
    }
   ],
   "source": [
    "plot(x-> f5(x),-1,1,label=\"f5\")"
   ]
  },
  {
   "cell_type": "code",
   "execution_count": 30,
   "metadata": {},
   "outputs": [
    {
     "data": {
      "text/plain": [
       "NaN"
      ]
     },
     "execution_count": 30,
     "metadata": {},
     "output_type": "execute_result"
    }
   ],
   "source": [
    "sign(f5(prevfloat(N5))) *sign(f1(nextfloat(N5)))"
   ]
  },
  {
   "cell_type": "code",
   "execution_count": 31,
   "metadata": {},
   "outputs": [
    {
     "data": {
      "text/plain": [
       "(NaN, NaN)"
      ]
     },
     "execution_count": 31,
     "metadata": {},
     "output_type": "execute_result"
    }
   ],
   "source": [
    "N5, f5(N5)"
   ]
  },
  {
   "cell_type": "markdown",
   "metadata": {},
   "source": [
    "# 3. Metoda siecznych"
   ]
  },
  {
   "cell_type": "code",
   "execution_count": 32,
   "metadata": {},
   "outputs": [
    {
     "name": "stdout",
     "output_type": "stream",
     "text": [
      "Results of univariate zero finding:\n",
      "\n",
      "* Converged to: -3.0\n",
      "* Algorithm: Roots.Secant()\n",
      "* iterations: 8\n",
      "* function evaluations: 10\n",
      "* stopped as |f(x_n)| ≤ max(δ, max(1,|x|)⋅ϵ) using δ = atol, ϵ = rtol\n",
      "\n",
      "Trace:\n",
      "x_0 = -4.0000000000000000,\t fx_0 = -25.0000000000000000\n",
      "x_1 = -3.2857129262851190,\t fx_1 = -5.2477851127736566\n",
      "x_2 = -3.0959405340197992,\t fx_2 = -1.6095683257636169\n",
      "x_3 = -3.0119841208711278,\t fx_3 = -0.1928966083117643\n",
      "x_4 = -3.0005524623274464,\t fx_4 = -0.0088418391247485\n",
      "x_5 = -3.0000032948909343,\t fx_5 = -0.0000527183417995\n",
      "x_6 = -3.0000000009099619,\t fx_6 = -0.0000000145593901\n",
      "x_7 = -3.0000000000000013,\t fx_7 = -0.0000000000000213\n",
      "x_8 = -3.0000000000000000,\t fx_8 =  0.0000000000000000\n",
      "\n"
     ]
    },
    {
     "data": {
      "text/plain": [
       "-3.0"
      ]
     },
     "execution_count": 32,
     "metadata": {},
     "output_type": "execute_result"
    }
   ],
   "source": [
    "S1 = find_zero(f1, -4, Order1(),  verbose=true)"
   ]
  },
  {
   "cell_type": "code",
   "execution_count": 33,
   "metadata": {},
   "outputs": [
    {
     "name": "stdout",
     "output_type": "stream",
     "text": [
      "Results of univariate zero finding:\n",
      "\n",
      "* Converged to: -8.041069570498994e-19\n",
      "* Algorithm: Roots.Secant()\n",
      "* iterations: 9\n",
      "* function evaluations: 11\n",
      "* stopped as |f(x_n)| ≤ max(δ, max(1,|x|)⋅ϵ) using δ = atol, ϵ = rtol\n",
      "\n",
      "Trace:\n",
      "x_0 = -1.0000000000000000,\t fx_0 = -2.7182818284590451\n",
      "x_1 = -0.4999977291793846,\t fx_1 = -0.8243550194353155\n",
      "x_2 = -0.2823655695224345,\t fx_2 = -0.3744911408566633\n",
      "x_3 = -0.1011967323743296,\t fx_3 = -0.1119736079155024\n",
      "x_4 = -0.0239214048560102,\t fx_4 = -0.0245005376853914\n",
      "x_5 = -0.0022771768778110,\t fx_5 = -0.0022823683210177\n",
      "x_6 = -0.0000537668632335,\t fx_6 = -0.0000537697541868\n",
      "x_7 = -0.0000001222940771,\t fx_7 = -0.0000001222940920\n",
      "x_8 = -0.0000000000065752,\t fx_8 = -0.0000000000065752\n",
      "x_9 = -0.0000000000000000,\t fx_9 = -0.0000000000000000\n",
      "\n"
     ]
    },
    {
     "data": {
      "text/plain": [
       "-8.041069570498994e-19"
      ]
     },
     "execution_count": 33,
     "metadata": {},
     "output_type": "execute_result"
    }
   ],
   "source": [
    "S2 = find_zero(f2, -1, Order1(),  verbose=true)"
   ]
  },
  {
   "cell_type": "code",
   "execution_count": 34,
   "metadata": {},
   "outputs": [
    {
     "name": "stdout",
     "output_type": "stream",
     "text": [
      "Results of univariate zero finding:\n",
      "\n",
      "* Converged to: 0.35173371124919584\n",
      "* Algorithm: Roots.Secant()\n",
      "* iterations: 7\n",
      "* function evaluations: 9\n",
      "* stopped as |f(x_n)| ≤ max(δ, max(1,|x|)⋅ϵ) using δ = atol, ϵ = rtol\n",
      "\n",
      "Trace:\n",
      "x_0 = -1.0000000000000000,\t fx_0 = -4.7182818284590446\n",
      "x_1 =  0.0000017443542752,\t fx_1 = -0.9999947669386956\n",
      "x_2 =  0.2689418489611959,\t fx_2 = -0.2263039947419349\n",
      "x_3 =  0.3476066362457234,\t fx_3 = -0.0111634120640596\n",
      "x_4 =  0.3516884669466453,\t fx_4 = -0.0001223172180252\n",
      "x_5 =  0.3517336869345857,\t fx_5 = -0.0000000657337564\n",
      "x_6 =  0.3517337112490527,\t fx_6 = -0.0000000000003870\n",
      "x_7 =  0.3517337112491958,\t fx_7 =  0.0000000000000000\n",
      "\n"
     ]
    },
    {
     "data": {
      "text/plain": [
       "0.35173371124919584"
      ]
     },
     "execution_count": 34,
     "metadata": {},
     "output_type": "execute_result"
    }
   ],
   "source": [
    "S3 = find_zero(f3, -1, Order1(),  verbose=true)"
   ]
  },
  {
   "cell_type": "code",
   "execution_count": 35,
   "metadata": {},
   "outputs": [
    {
     "name": "stdout",
     "output_type": "stream",
     "text": [
      "Results of univariate zero finding:\n",
      "\n",
      "* Converged to: 2.0945514815423265\n",
      "* Algorithm: Roots.Secant()\n",
      "* iterations: 5\n",
      "* function evaluations: 7\n",
      "* stopped as |f(x_n)| ≤ max(δ, max(1,|x|)⋅ϵ) using δ = atol, ϵ = rtol\n",
      "\n",
      "Trace:\n",
      "x_0 =  2.0000000000000000,\t fx_0 = -1.0000000000000000\n",
      "x_1 =  2.0999996366704710,\t fx_1 =  0.0609959198102201\n",
      "x_2 =  2.0942507268909742,\t fx_2 = -0.0033562859615666\n",
      "x_3 =  2.0945505609829969,\t fx_3 = -0.0000102747603083\n",
      "x_4 =  2.0945514816982134,\t fx_4 =  0.0000000017399193\n",
      "x_5 =  2.0945514815423265,\t fx_5 = -0.0000000000000009\n",
      "\n"
     ]
    },
    {
     "data": {
      "text/plain": [
       "2.0945514815423265"
      ]
     },
     "execution_count": 35,
     "metadata": {},
     "output_type": "execute_result"
    }
   ],
   "source": [
    "S4 = find_zero(f4, 2, Order1(),  verbose=true)"
   ]
  },
  {
   "cell_type": "code",
   "execution_count": 36,
   "metadata": {},
   "outputs": [
    {
     "name": "stdout",
     "output_type": "stream",
     "text": [
      "Results of univariate zero finding:\n",
      "\n",
      "* Converged to: -0.30546863861474094\n",
      "* Algorithm: Roots.Secant()\n",
      "* iterations: 16\n",
      "* function evaluations: 18\n",
      "* stopped as x_n ≈ x_{n-1} using atol=xatol, rtol=xrtol\n",
      "* Note: x_n ≈ x_{n-1}. \n",
      "\n",
      "Trace:\n",
      "x_0 = -1.0000000000000000,\t fx_0 = -1.6421225588285577\n",
      "x_1 =  3.7204470487986665,\t fx_1 =  39.2821230160329193\n",
      "x_2 = -0.8105877707040845,\t fx_2 = -1.5706265698550448\n",
      "x_3 = -0.6363874109097538,\t fx_3 = -1.4954990327483795\n",
      "x_4 =  2.8312687856052814,\t fx_4 =  14.9657272226645919\n",
      "x_5 = -0.3213515559055207,\t fx_5 = -1.3717285219963937\n",
      "x_6 = -0.0566506557736491,\t fx_6 = -4.1820238482893206\n",
      "x_7 = -0.4505542667778941,\t fx_7 = -1.4120083241900103\n",
      "x_8 = -0.6513456243813314,\t fx_8 = -1.5022344112571646\n",
      "x_9 =  2.6917638540383884,\t fx_9 =  12.7563033296358128\n",
      "x_10 = -0.2991261899382893,\t fx_10 = -1.3703701039138889\n",
      "x_11 = -0.0089923293631994,\t fx_11 = -127.4269651538968873\n",
      "x_12 = -0.3022802555269051,\t fx_12 = -1.3703826172719538\n",
      "x_13 = -0.3054686386147435,\t fx_13 = -1.3704605543147561\n",
      "x_14 =  55.7596975110477189,\t fx_14 =  1644860008188145511170048.0000000000000000\n",
      "x_15 = -0.3054686386147409,\t fx_15 = -1.3704605543147561\n",
      "x_16 = -0.3054686386147409,\t fx_16 = -1.3704605543147561\n",
      "\n"
     ]
    },
    {
     "ename": "Roots.ConvergenceFailed",
     "evalue": "Roots.ConvergenceFailed(\"Stopped at: xn = -0.30546863861474094\")",
     "output_type": "error",
     "traceback": [
      "Roots.ConvergenceFailed(\"Stopped at: xn = -0.30546863861474094\")",
      "",
      "Stacktrace:",
      " [1] #find_zero#4(::Roots.NullTracks, ::Bool, ::Base.Iterators.Pairs{Union{},Union{},Tuple{},NamedTuple{(),Tuple{}}}, ::Function, ::Function, ::Int64, ::Roots.Secant, ::Nothing) at /Users/kuba/.julia/packages/Roots/xWzoi/src/find_zero.jl:542",
      " [2] #find_zero at ./none:0 [inlined] (repeats 2 times)",
      " [3] top-level scope at In[36]:1"
     ]
    }
   ],
   "source": [
    "S5 = find_zero(f5, -1, Order1(),  verbose=true)"
   ]
  },
  {
   "cell_type": "code",
   "execution_count": 37,
   "metadata": {},
   "outputs": [
    {
     "data": {
      "text/plain": [
       "NaN"
      ]
     },
     "execution_count": 37,
     "metadata": {},
     "output_type": "execute_result"
    }
   ],
   "source": [
    "S5 = NaN #error!!!!!"
   ]
  },
  {
   "cell_type": "code",
   "execution_count": 38,
   "metadata": {},
   "outputs": [
    {
     "name": "stdout",
     "output_type": "stream",
     "text": [
      "Results of univariate zero finding:\n",
      "\n",
      "* Converged to: -8.971730607213444e-6\n",
      "* Algorithm: Roots.Secant()\n",
      "* iterations: 41\n",
      "* function evaluations: 43\n",
      "* stopped as |f(x_n)| ≤ max(δ, max(1,|x|)⋅ϵ) using δ = atol, ϵ = rtol\n",
      "\n",
      "Trace:\n",
      "x_0 = -1.0000000000000000,\t fx_0 = -1.0000000000000000\n",
      "x_1 = -0.6666646481619485,\t fx_1 = -0.2962936049648208\n",
      "x_2 = -0.5263147326927622,\t fx_2 = -0.1457929692901063\n",
      "x_3 = -0.3903549686417063,\t fx_3 = -0.0594811196591394\n",
      "x_4 = -0.2966593865295631,\t fx_4 = -0.0261080408112663\n",
      "x_5 = -0.2233605430884194,\t fx_5 = -0.0111434423527916\n",
      "x_6 = -0.1687782942777193,\t fx_6 = -0.0048078374984879\n",
      "x_7 = -0.1273580055099287,\t fx_7 = -0.0020657546904808\n",
      "x_8 = -0.0961539311642222,\t fx_8 = -0.0008889987165791\n",
      "x_9 = -0.0725803248595983,\t fx_9 = -0.0003823461514761\n",
      "x_10 = -0.0547904659547026,\t fx_10 = -0.0001644807135846\n",
      "x_11 = -0.0413597505756828,\t fx_11 = -0.0000707511874309\n",
      "x_12 = -0.0312216532214537,\t fx_12 = -0.0000304346062313\n",
      "x_13 = -0.0235684993147962,\t fx_13 = -0.0000130916923582\n",
      "x_14 = -0.0177913423013300,\t fx_14 = -0.0000056315266862\n",
      "x_15 = -0.0134302844746550,\t fx_15 = -0.0000024224545380\n",
      "x_16 = -0.0101382225219845,\t fx_16 = -0.0000010420425614\n",
      "x_17 = -0.0076531175479289,\t fx_17 = -0.0000004482446882\n",
      "x_18 = -0.0057771675749058,\t fx_18 = -0.0000001928168107\n",
      "x_19 = -0.0043610547587959,\t fx_19 = -0.0000000829420222\n",
      "x_20 = -0.0032920628438252,\t fx_20 = -0.0000000356783163\n",
      "x_21 = -0.0024851047151937,\t fx_21 = -0.0000000153473741\n",
      "x_22 = -0.0018759500482170,\t fx_22 = -0.0000000066018220\n",
      "x_23 = -0.0014161127942677,\t fx_23 = -0.0000000028398378\n",
      "x_24 = -0.0010689919213154,\t fx_24 = -0.0000000012215838\n",
      "x_25 = -0.0008069581267885,\t fx_25 = -0.0000000005254761\n",
      "x_26 = -0.0006091546675120,\t fx_26 = -0.0000000002260387\n",
      "x_27 = -0.0004598372537938,\t fx_27 = -0.0000000000972327\n",
      "x_28 = -0.0003471208729974,\t fx_28 = -0.0000000000418256\n",
      "x_29 = -0.0002620337945138,\t fx_29 = -0.0000000000179917\n",
      "x_30 = -0.0001978034592803,\t fx_30 = -0.0000000000077393\n",
      "x_31 = -0.0001493174137171,\t fx_31 = -0.0000000000033291\n",
      "x_32 = -0.0001127163807967,\t fx_32 = -0.0000000000014321\n",
      "x_33 = -0.0000850870784836,\t fx_33 = -0.0000000000006160\n",
      "x_34 = -0.0000642303352335,\t fx_34 = -0.0000000000002650\n",
      "x_35 = -0.0000484860455633,\t fx_35 = -0.0000000000001140\n",
      "x_36 = -0.0000366010329203,\t fx_36 = -0.0000000000000490\n",
      "x_37 = -0.0000276293023131,\t fx_37 = -0.0000000000000211\n",
      "x_38 = -0.0000208567432502,\t fx_38 = -0.0000000000000091\n",
      "x_39 = -0.0000157442896702,\t fx_39 = -0.0000000000000039\n",
      "x_40 = -0.0000118850126429,\t fx_40 = -0.0000000000000017\n",
      "x_41 = -0.0000089717306072,\t fx_41 = -0.0000000000000007\n",
      "\n"
     ]
    },
    {
     "data": {
      "text/plain": [
       "-8.971730607213444e-6"
      ]
     },
     "execution_count": 38,
     "metadata": {},
     "output_type": "execute_result"
    }
   ],
   "source": [
    "S6 = find_zero(f6, -1, Order1(),  verbose=true)"
   ]
  },
  {
   "cell_type": "code",
   "execution_count": 39,
   "metadata": {},
   "outputs": [
    {
     "data": {
      "text/html": [
       "<table class=\"data-frame\"><thead><tr><th></th><th>fun</th><th>xZero</th><th>Sieczne</th><th>it</th><th>ev</th></tr><tr><th></th><th>Function</th><th>Float64</th><th>Bool</th><th>Int64</th><th>Int64</th></tr></thead><tbody><tr><th>1</th><td>f1</td><td>-3.0</td><td>true</td><td>8</td><td>10</td></tr><tr><th>2</th><td>f2</td><td>-8.04107e-19</td><td>false</td><td>9</td><td>11</td></tr><tr><th>3</th><td>f3</td><td>0.351734</td><td>true</td><td>7</td><td>9</td></tr><tr><th>4</th><td>f4</td><td>2.09455</td><td>false</td><td>5</td><td>7</td></tr><tr><th>5</th><td>f5</td><td>NaN</td><td>false</td><td>16</td><td>18</td></tr><tr><th>6</th><td>f6</td><td>-8.97173e-6</td><td>false</td><td>41</td><td>43</td></tr></tbody></table>"
      ],
      "text/plain": [
       "6×5 DataFrame\n",
       "│ Row │ fun      │ xZero        │ Sieczne │ it    │ ev    │\n",
       "│     │ \u001b[90mFunction\u001b[39m │ \u001b[90mFloat64\u001b[39m      │ \u001b[90mBool\u001b[39m    │ \u001b[90mInt64\u001b[39m │ \u001b[90mInt64\u001b[39m │\n",
       "├─────┼──────────┼──────────────┼─────────┼───────┼───────┤\n",
       "│ 1   │ f1       │ -3.0         │ true    │ 8     │ 10    │\n",
       "│ 2   │ f2       │ -8.04107e-19 │ false   │ 9     │ 11    │\n",
       "│ 3   │ f3       │ 0.351734     │ true    │ 7     │ 9     │\n",
       "│ 4   │ f4       │ 2.09455      │ false   │ 5     │ 7     │\n",
       "│ 5   │ f5       │ NaN          │ false   │ 16    │ 18    │\n",
       "│ 6   │ f6       │ -8.97173e-6  │ false   │ 41    │ 43    │"
      ]
     },
     "execution_count": 39,
     "metadata": {},
     "output_type": "execute_result"
    }
   ],
   "source": [
    "sData = DataFrame(fun = [f1,f2,f3,f4,f5,f6], xZero=[S1,S2,S3,S4,S5,S6], \n",
    "    Sieczne=[iszero(f1(S1)),iszero(f2(S2)),iszero(f3(S3)),iszero(f4(S4)),iszero(f5(S5)), iszero(f6(S6))]\n",
    ",it=[8,9,7,5,16,41], ev=[10,11,9,7,18,43])"
   ]
  },
  {
   "cell_type": "code",
   "execution_count": 40,
   "metadata": {},
   "outputs": [
    {
     "data": {
      "text/html": [
       "<table class=\"data-frame\"><thead><tr><th></th><th>fun</th><th>xZero</th><th>Sieczne</th><th>it</th><th>ev</th><th>xZero_2</th><th>bisection</th><th>xZero_1</th><th>Newton</th><th>it_1</th><th>ev_1</th></tr><tr><th></th><th>Function</th><th>Float64</th><th>Bool</th><th>Int64</th><th>Int64</th><th>Float64</th><th>Bool</th><th>Float64</th><th>Bool</th><th>Float64</th><th>Float64</th></tr></thead><tbody><tr><th>1</th><td>f1</td><td>-3.0</td><td>true</td><td>8</td><td>10</td><td>-3.0</td><td>true</td><td>1.0</td><td>false</td><td>26.0</td><td>53.0</td></tr><tr><th>2</th><td>f2</td><td>-8.04107e-19</td><td>false</td><td>9</td><td>11</td><td>0.0</td><td>true</td><td>0.0</td><td>true</td><td>0.0</td><td>1.0</td></tr><tr><th>3</th><td>f3</td><td>0.351734</td><td>true</td><td>7</td><td>9</td><td>0.351734</td><td>true</td><td>0.351734</td><td>true</td><td>4.0</td><td>9.0</td></tr><tr><th>4</th><td>f4</td><td>2.09455</td><td>false</td><td>5</td><td>7</td><td>2.09455</td><td>false</td><td>2.09455</td><td>false</td><td>19.0</td><td>39.0</td></tr><tr><th>5</th><td>f5</td><td>NaN</td><td>false</td><td>16</td><td>18</td><td>0.0</td><td>false</td><td>NaN</td><td>false</td><td>NaN</td><td>NaN</td></tr><tr><th>6</th><td>f6</td><td>-8.97173e-6</td><td>false</td><td>41</td><td>43</td><td>0.0</td><td>true</td><td>0.0</td><td>true</td><td>0.0</td><td>1.0</td></tr></tbody></table>"
      ],
      "text/plain": [
       "6×11 DataFrame. Omitted printing of 5 columns\n",
       "│ Row │ fun      │ xZero        │ Sieczne │ it    │ ev    │ xZero_2  │\n",
       "│     │ \u001b[90mFunction\u001b[39m │ \u001b[90mFloat64\u001b[39m      │ \u001b[90mBool\u001b[39m    │ \u001b[90mInt64\u001b[39m │ \u001b[90mInt64\u001b[39m │ \u001b[90mFloat64\u001b[39m  │\n",
       "├─────┼──────────┼──────────────┼─────────┼───────┼───────┼──────────┤\n",
       "│ 1   │ f1       │ -3.0         │ true    │ 8     │ 10    │ -3.0     │\n",
       "│ 2   │ f2       │ -8.04107e-19 │ false   │ 9     │ 11    │ 0.0      │\n",
       "│ 3   │ f3       │ 0.351734     │ true    │ 7     │ 9     │ 0.351734 │\n",
       "│ 4   │ f4       │ 2.09455      │ false   │ 5     │ 7     │ 2.09455  │\n",
       "│ 5   │ f5       │ NaN          │ false   │ 16    │ 18    │ 0.0      │\n",
       "│ 6   │ f6       │ -8.97173e-6  │ false   │ 41    │ 43    │ 0.0      │"
      ]
     },
     "execution_count": 40,
     "metadata": {},
     "output_type": "execute_result"
    }
   ],
   "source": [
    "join(sData,join(data, newtonData,  on= :fun), on=:fun)"
   ]
  },
  {
   "cell_type": "code",
   "execution_count": 41,
   "metadata": {},
   "outputs": [
    {
     "data": {
      "image/svg+xml": [
       "<?xml version=\"1.0\" encoding=\"utf-8\"?>\n",
       "<svg xmlns=\"http://www.w3.org/2000/svg\" xmlns:xlink=\"http://www.w3.org/1999/xlink\" width=\"600\" height=\"400\" viewBox=\"0 0 2400 1600\">\n",
       "<defs>\n",
       "  <clipPath id=\"clip9600\">\n",
       "    <rect x=\"0\" y=\"0\" width=\"2000\" height=\"2000\"/>\n",
       "  </clipPath>\n",
       "</defs>\n",
       "<defs>\n",
       "  <clipPath id=\"clip9601\">\n",
       "    <rect x=\"0\" y=\"0\" width=\"2400\" height=\"1600\"/>\n",
       "  </clipPath>\n",
       "</defs>\n",
       "<polygon clip-path=\"url(#clip9601)\" points=\"\n",
       "0,1600 2400,1600 2400,0 0,0 \n",
       "  \" fill=\"#ffffff\" fill-rule=\"evenodd\" fill-opacity=\"1\"/>\n",
       "<defs>\n",
       "  <clipPath id=\"clip9602\">\n",
       "    <rect x=\"480\" y=\"0\" width=\"1681\" height=\"1600\"/>\n",
       "  </clipPath>\n",
       "</defs>\n",
       "<polygon clip-path=\"url(#clip9601)\" points=\"\n",
       "202.885,1503.47 2321.26,1503.47 2321.26,47.2441 202.885,47.2441 \n",
       "  \" fill=\"#ffffff\" fill-rule=\"evenodd\" fill-opacity=\"1\"/>\n",
       "<defs>\n",
       "  <clipPath id=\"clip9603\">\n",
       "    <rect x=\"202\" y=\"47\" width=\"2119\" height=\"1457\"/>\n",
       "  </clipPath>\n",
       "</defs>\n",
       "<polyline clip-path=\"url(#clip9603)\" style=\"stroke:#000000; stroke-width:2; stroke-opacity:0.1; fill:none\" points=\"\n",
       "  257.885,1503.47 257.885,47.2441 \n",
       "  \"/>\n",
       "<polyline clip-path=\"url(#clip9603)\" style=\"stroke:#000000; stroke-width:2; stroke-opacity:0.1; fill:none\" points=\"\n",
       "  837.659,1503.47 837.659,47.2441 \n",
       "  \"/>\n",
       "<polyline clip-path=\"url(#clip9603)\" style=\"stroke:#000000; stroke-width:2; stroke-opacity:0.1; fill:none\" points=\"\n",
       "  1417.43,1503.47 1417.43,47.2441 \n",
       "  \"/>\n",
       "<polyline clip-path=\"url(#clip9603)\" style=\"stroke:#000000; stroke-width:2; stroke-opacity:0.1; fill:none\" points=\"\n",
       "  1997.21,1503.47 1997.21,47.2441 \n",
       "  \"/>\n",
       "<polyline clip-path=\"url(#clip9603)\" style=\"stroke:#000000; stroke-width:2; stroke-opacity:0.1; fill:none\" points=\"\n",
       "  202.885,1373.89 2321.26,1373.89 \n",
       "  \"/>\n",
       "<polyline clip-path=\"url(#clip9603)\" style=\"stroke:#000000; stroke-width:2; stroke-opacity:0.1; fill:none\" points=\"\n",
       "  202.885,1053.12 2321.26,1053.12 \n",
       "  \"/>\n",
       "<polyline clip-path=\"url(#clip9603)\" style=\"stroke:#000000; stroke-width:2; stroke-opacity:0.1; fill:none\" points=\"\n",
       "  202.885,732.348 2321.26,732.348 \n",
       "  \"/>\n",
       "<polyline clip-path=\"url(#clip9603)\" style=\"stroke:#000000; stroke-width:2; stroke-opacity:0.1; fill:none\" points=\"\n",
       "  202.885,411.577 2321.26,411.577 \n",
       "  \"/>\n",
       "<polyline clip-path=\"url(#clip9603)\" style=\"stroke:#000000; stroke-width:2; stroke-opacity:0.1; fill:none\" points=\"\n",
       "  202.885,90.8058 2321.26,90.8058 \n",
       "  \"/>\n",
       "<polyline clip-path=\"url(#clip9601)\" style=\"stroke:#000000; stroke-width:4; stroke-opacity:1; fill:none\" points=\"\n",
       "  202.885,1503.47 2321.26,1503.47 \n",
       "  \"/>\n",
       "<polyline clip-path=\"url(#clip9601)\" style=\"stroke:#000000; stroke-width:4; stroke-opacity:1; fill:none\" points=\"\n",
       "  202.885,1503.47 202.885,47.2441 \n",
       "  \"/>\n",
       "<polyline clip-path=\"url(#clip9601)\" style=\"stroke:#000000; stroke-width:4; stroke-opacity:1; fill:none\" points=\"\n",
       "  257.885,1503.47 257.885,1481.63 \n",
       "  \"/>\n",
       "<polyline clip-path=\"url(#clip9601)\" style=\"stroke:#000000; stroke-width:4; stroke-opacity:1; fill:none\" points=\"\n",
       "  837.659,1503.47 837.659,1481.63 \n",
       "  \"/>\n",
       "<polyline clip-path=\"url(#clip9601)\" style=\"stroke:#000000; stroke-width:4; stroke-opacity:1; fill:none\" points=\"\n",
       "  1417.43,1503.47 1417.43,1481.63 \n",
       "  \"/>\n",
       "<polyline clip-path=\"url(#clip9601)\" style=\"stroke:#000000; stroke-width:4; stroke-opacity:1; fill:none\" points=\"\n",
       "  1997.21,1503.47 1997.21,1481.63 \n",
       "  \"/>\n",
       "<polyline clip-path=\"url(#clip9601)\" style=\"stroke:#000000; stroke-width:4; stroke-opacity:1; fill:none\" points=\"\n",
       "  202.885,1373.89 234.661,1373.89 \n",
       "  \"/>\n",
       "<polyline clip-path=\"url(#clip9601)\" style=\"stroke:#000000; stroke-width:4; stroke-opacity:1; fill:none\" points=\"\n",
       "  202.885,1053.12 234.661,1053.12 \n",
       "  \"/>\n",
       "<polyline clip-path=\"url(#clip9601)\" style=\"stroke:#000000; stroke-width:4; stroke-opacity:1; fill:none\" points=\"\n",
       "  202.885,732.348 234.661,732.348 \n",
       "  \"/>\n",
       "<polyline clip-path=\"url(#clip9601)\" style=\"stroke:#000000; stroke-width:4; stroke-opacity:1; fill:none\" points=\"\n",
       "  202.885,411.577 234.661,411.577 \n",
       "  \"/>\n",
       "<polyline clip-path=\"url(#clip9601)\" style=\"stroke:#000000; stroke-width:4; stroke-opacity:1; fill:none\" points=\"\n",
       "  202.885,90.8058 234.661,90.8058 \n",
       "  \"/>\n",
       "<g clip-path=\"url(#clip9601)\">\n",
       "<text style=\"fill:#000000; fill-opacity:1; font-family:Arial,Helvetica Neue,Helvetica,sans-serif; font-size:48px; text-anchor:middle;\" transform=\"rotate(0, 257.885, 1557.47)\" x=\"257.885\" y=\"1557.47\">-4</text>\n",
       "</g>\n",
       "<g clip-path=\"url(#clip9601)\">\n",
       "<text style=\"fill:#000000; fill-opacity:1; font-family:Arial,Helvetica Neue,Helvetica,sans-serif; font-size:48px; text-anchor:middle;\" transform=\"rotate(0, 837.659, 1557.47)\" x=\"837.659\" y=\"1557.47\">-2</text>\n",
       "</g>\n",
       "<g clip-path=\"url(#clip9601)\">\n",
       "<text style=\"fill:#000000; fill-opacity:1; font-family:Arial,Helvetica Neue,Helvetica,sans-serif; font-size:48px; text-anchor:middle;\" transform=\"rotate(0, 1417.43, 1557.47)\" x=\"1417.43\" y=\"1557.47\">0</text>\n",
       "</g>\n",
       "<g clip-path=\"url(#clip9601)\">\n",
       "<text style=\"fill:#000000; fill-opacity:1; font-family:Arial,Helvetica Neue,Helvetica,sans-serif; font-size:48px; text-anchor:middle;\" transform=\"rotate(0, 1997.21, 1557.47)\" x=\"1997.21\" y=\"1557.47\">2</text>\n",
       "</g>\n",
       "<g clip-path=\"url(#clip9601)\">\n",
       "<text style=\"fill:#000000; fill-opacity:1; font-family:Arial,Helvetica Neue,Helvetica,sans-serif; font-size:48px; text-anchor:end;\" transform=\"rotate(0, 178.885, 1391.39)\" x=\"178.885\" y=\"1391.39\">-200</text>\n",
       "</g>\n",
       "<g clip-path=\"url(#clip9601)\">\n",
       "<text style=\"fill:#000000; fill-opacity:1; font-family:Arial,Helvetica Neue,Helvetica,sans-serif; font-size:48px; text-anchor:end;\" transform=\"rotate(0, 178.885, 1070.62)\" x=\"178.885\" y=\"1070.62\">-150</text>\n",
       "</g>\n",
       "<g clip-path=\"url(#clip9601)\">\n",
       "<text style=\"fill:#000000; fill-opacity:1; font-family:Arial,Helvetica Neue,Helvetica,sans-serif; font-size:48px; text-anchor:end;\" transform=\"rotate(0, 178.885, 749.848)\" x=\"178.885\" y=\"749.848\">-100</text>\n",
       "</g>\n",
       "<g clip-path=\"url(#clip9601)\">\n",
       "<text style=\"fill:#000000; fill-opacity:1; font-family:Arial,Helvetica Neue,Helvetica,sans-serif; font-size:48px; text-anchor:end;\" transform=\"rotate(0, 178.885, 429.077)\" x=\"178.885\" y=\"429.077\">-50</text>\n",
       "</g>\n",
       "<g clip-path=\"url(#clip9601)\">\n",
       "<text style=\"fill:#000000; fill-opacity:1; font-family:Arial,Helvetica Neue,Helvetica,sans-serif; font-size:48px; text-anchor:end;\" transform=\"rotate(0, 178.885, 108.306)\" x=\"178.885\" y=\"108.306\">0</text>\n",
       "</g>\n",
       "<polyline clip-path=\"url(#clip9603)\" style=\"stroke:#009af9; stroke-width:4; stroke-opacity:1; fill:none\" points=\"\n",
       "  262.839,1462.26 267.794,1433.24 272.748,1404.8 277.702,1376.95 300.606,1255.35 323.511,1144.81 346.415,1044.35 369.32,953.063 392.224,870.145 415.129,794.849 \n",
       "  438.033,726.496 460.938,664.465 488.467,597.479 515.996,537.922 543.526,484.998 571.055,437.993 617.606,370.224 664.158,314.921 714.725,266.41 765.293,227.686 \n",
       "  811.912,199.021 858.531,175.851 958.492,140.273 1074.31,115.609 1177.23,102.98 1267.48,96.3724 1365.88,92.1686 1464.87,89.9144 1574.31,88.7849 1678.44,88.4582 \n",
       "  1786.71,88.5195 1877.85,88.7243 1989.13,89.0451 2093.73,89.3538 2261.31,89.7894 \n",
       "  \"/>\n",
       "<polygon clip-path=\"url(#clip9601)\" points=\"\n",
       "1969.12,251.724 2249.26,251.724 2249.26,130.764 1969.12,130.764 \n",
       "  \" fill=\"#ffffff\" fill-rule=\"evenodd\" fill-opacity=\"1\"/>\n",
       "<polyline clip-path=\"url(#clip9601)\" style=\"stroke:#000000; stroke-width:4; stroke-opacity:1; fill:none\" points=\"\n",
       "  1969.12,251.724 2249.26,251.724 2249.26,130.764 1969.12,130.764 1969.12,251.724 \n",
       "  \"/>\n",
       "<polyline clip-path=\"url(#clip9601)\" style=\"stroke:#009af9; stroke-width:4; stroke-opacity:1; fill:none\" points=\"\n",
       "  1993.12,191.244 2137.12,191.244 \n",
       "  \"/>\n",
       "<g clip-path=\"url(#clip9601)\">\n",
       "<text style=\"fill:#000000; fill-opacity:1; font-family:Arial,Helvetica Neue,Helvetica,sans-serif; font-size:48px; text-anchor:start;\" transform=\"rotate(0, 2161.12, 208.744)\" x=\"2161.12\" y=\"208.744\">f2</text>\n",
       "</g>\n",
       "</svg>\n"
      ]
     },
     "execution_count": 41,
     "metadata": {},
     "output_type": "execute_result"
    }
   ],
   "source": [
    "plot(x->f2(x),-4,3,label=\"f2\")"
   ]
  },
  {
   "cell_type": "code",
   "execution_count": 42,
   "metadata": {},
   "outputs": [
    {
     "data": {
      "text/plain": [
       "1.0"
      ]
     },
     "execution_count": 42,
     "metadata": {},
     "output_type": "execute_result"
    }
   ],
   "source": [
    "sign(f2(prevfloat(S2))) *sign(f2(nextfloat(S2)))"
   ]
  },
  {
   "cell_type": "code",
   "execution_count": 43,
   "metadata": {},
   "outputs": [
    {
     "data": {
      "text/plain": [
       "(-8.041069570498994e-19, -8.041069570498994e-19)"
      ]
     },
     "execution_count": 43,
     "metadata": {},
     "output_type": "execute_result"
    }
   ],
   "source": [
    "S2, f2(S2)"
   ]
  },
  {
   "cell_type": "code",
   "execution_count": 44,
   "metadata": {},
   "outputs": [
    {
     "data": {
      "image/svg+xml": [
       "<?xml version=\"1.0\" encoding=\"utf-8\"?>\n",
       "<svg xmlns=\"http://www.w3.org/2000/svg\" xmlns:xlink=\"http://www.w3.org/1999/xlink\" width=\"600\" height=\"400\" viewBox=\"0 0 2400 1600\">\n",
       "<defs>\n",
       "  <clipPath id=\"clip9800\">\n",
       "    <rect x=\"0\" y=\"0\" width=\"2000\" height=\"2000\"/>\n",
       "  </clipPath>\n",
       "</defs>\n",
       "<defs>\n",
       "  <clipPath id=\"clip9801\">\n",
       "    <rect x=\"0\" y=\"0\" width=\"2400\" height=\"1600\"/>\n",
       "  </clipPath>\n",
       "</defs>\n",
       "<polygon clip-path=\"url(#clip9801)\" points=\"\n",
       "0,1600 2400,1600 2400,0 0,0 \n",
       "  \" fill=\"#ffffff\" fill-rule=\"evenodd\" fill-opacity=\"1\"/>\n",
       "<defs>\n",
       "  <clipPath id=\"clip9802\">\n",
       "    <rect x=\"480\" y=\"0\" width=\"1681\" height=\"1600\"/>\n",
       "  </clipPath>\n",
       "</defs>\n",
       "<polygon clip-path=\"url(#clip9801)\" points=\"\n",
       "149.361,1503.47 2321.26,1503.47 2321.26,47.2441 149.361,47.2441 \n",
       "  \" fill=\"#ffffff\" fill-rule=\"evenodd\" fill-opacity=\"1\"/>\n",
       "<defs>\n",
       "  <clipPath id=\"clip9803\">\n",
       "    <rect x=\"149\" y=\"47\" width=\"2173\" height=\"1457\"/>\n",
       "  </clipPath>\n",
       "</defs>\n",
       "<polyline clip-path=\"url(#clip9803)\" style=\"stroke:#000000; stroke-width:2; stroke-opacity:0.1; fill:none\" points=\"\n",
       "  190.557,1503.47 190.557,47.2441 \n",
       "  \"/>\n",
       "<polyline clip-path=\"url(#clip9803)\" style=\"stroke:#000000; stroke-width:2; stroke-opacity:0.1; fill:none\" points=\"\n",
       "  882.5,1503.47 882.5,47.2441 \n",
       "  \"/>\n",
       "<polyline clip-path=\"url(#clip9803)\" style=\"stroke:#000000; stroke-width:2; stroke-opacity:0.1; fill:none\" points=\"\n",
       "  1574.44,1503.47 1574.44,47.2441 \n",
       "  \"/>\n",
       "<polyline clip-path=\"url(#clip9803)\" style=\"stroke:#000000; stroke-width:2; stroke-opacity:0.1; fill:none\" points=\"\n",
       "  2266.39,1503.47 2266.39,47.2441 \n",
       "  \"/>\n",
       "<polyline clip-path=\"url(#clip9803)\" style=\"stroke:#000000; stroke-width:2; stroke-opacity:0.1; fill:none\" points=\"\n",
       "  149.361,1394.44 2321.26,1394.44 \n",
       "  \"/>\n",
       "<polyline clip-path=\"url(#clip9803)\" style=\"stroke:#000000; stroke-width:2; stroke-opacity:0.1; fill:none\" points=\"\n",
       "  149.361,1079.94 2321.26,1079.94 \n",
       "  \"/>\n",
       "<polyline clip-path=\"url(#clip9803)\" style=\"stroke:#000000; stroke-width:2; stroke-opacity:0.1; fill:none\" points=\"\n",
       "  149.361,765.432 2321.26,765.432 \n",
       "  \"/>\n",
       "<polyline clip-path=\"url(#clip9803)\" style=\"stroke:#000000; stroke-width:2; stroke-opacity:0.1; fill:none\" points=\"\n",
       "  149.361,450.927 2321.26,450.927 \n",
       "  \"/>\n",
       "<polyline clip-path=\"url(#clip9803)\" style=\"stroke:#000000; stroke-width:2; stroke-opacity:0.1; fill:none\" points=\"\n",
       "  149.361,136.422 2321.26,136.422 \n",
       "  \"/>\n",
       "<polyline clip-path=\"url(#clip9801)\" style=\"stroke:#000000; stroke-width:4; stroke-opacity:1; fill:none\" points=\"\n",
       "  149.361,1503.47 2321.26,1503.47 \n",
       "  \"/>\n",
       "<polyline clip-path=\"url(#clip9801)\" style=\"stroke:#000000; stroke-width:4; stroke-opacity:1; fill:none\" points=\"\n",
       "  149.361,1503.47 149.361,47.2441 \n",
       "  \"/>\n",
       "<polyline clip-path=\"url(#clip9801)\" style=\"stroke:#000000; stroke-width:4; stroke-opacity:1; fill:none\" points=\"\n",
       "  190.557,1503.47 190.557,1481.63 \n",
       "  \"/>\n",
       "<polyline clip-path=\"url(#clip9801)\" style=\"stroke:#000000; stroke-width:4; stroke-opacity:1; fill:none\" points=\"\n",
       "  882.5,1503.47 882.5,1481.63 \n",
       "  \"/>\n",
       "<polyline clip-path=\"url(#clip9801)\" style=\"stroke:#000000; stroke-width:4; stroke-opacity:1; fill:none\" points=\"\n",
       "  1574.44,1503.47 1574.44,1481.63 \n",
       "  \"/>\n",
       "<polyline clip-path=\"url(#clip9801)\" style=\"stroke:#000000; stroke-width:4; stroke-opacity:1; fill:none\" points=\"\n",
       "  2266.39,1503.47 2266.39,1481.63 \n",
       "  \"/>\n",
       "<polyline clip-path=\"url(#clip9801)\" style=\"stroke:#000000; stroke-width:4; stroke-opacity:1; fill:none\" points=\"\n",
       "  149.361,1394.44 181.939,1394.44 \n",
       "  \"/>\n",
       "<polyline clip-path=\"url(#clip9801)\" style=\"stroke:#000000; stroke-width:4; stroke-opacity:1; fill:none\" points=\"\n",
       "  149.361,1079.94 181.939,1079.94 \n",
       "  \"/>\n",
       "<polyline clip-path=\"url(#clip9801)\" style=\"stroke:#000000; stroke-width:4; stroke-opacity:1; fill:none\" points=\"\n",
       "  149.361,765.432 181.939,765.432 \n",
       "  \"/>\n",
       "<polyline clip-path=\"url(#clip9801)\" style=\"stroke:#000000; stroke-width:4; stroke-opacity:1; fill:none\" points=\"\n",
       "  149.361,450.927 181.939,450.927 \n",
       "  \"/>\n",
       "<polyline clip-path=\"url(#clip9801)\" style=\"stroke:#000000; stroke-width:4; stroke-opacity:1; fill:none\" points=\"\n",
       "  149.361,136.422 181.939,136.422 \n",
       "  \"/>\n",
       "<g clip-path=\"url(#clip9801)\">\n",
       "<text style=\"fill:#000000; fill-opacity:1; font-family:Arial,Helvetica Neue,Helvetica,sans-serif; font-size:48px; text-anchor:middle;\" transform=\"rotate(0, 190.557, 1557.47)\" x=\"190.557\" y=\"1557.47\">0</text>\n",
       "</g>\n",
       "<g clip-path=\"url(#clip9801)\">\n",
       "<text style=\"fill:#000000; fill-opacity:1; font-family:Arial,Helvetica Neue,Helvetica,sans-serif; font-size:48px; text-anchor:middle;\" transform=\"rotate(0, 882.5, 1557.47)\" x=\"882.5\" y=\"1557.47\">1</text>\n",
       "</g>\n",
       "<g clip-path=\"url(#clip9801)\">\n",
       "<text style=\"fill:#000000; fill-opacity:1; font-family:Arial,Helvetica Neue,Helvetica,sans-serif; font-size:48px; text-anchor:middle;\" transform=\"rotate(0, 1574.44, 1557.47)\" x=\"1574.44\" y=\"1557.47\">2</text>\n",
       "</g>\n",
       "<g clip-path=\"url(#clip9801)\">\n",
       "<text style=\"fill:#000000; fill-opacity:1; font-family:Arial,Helvetica Neue,Helvetica,sans-serif; font-size:48px; text-anchor:middle;\" transform=\"rotate(0, 2266.39, 1557.47)\" x=\"2266.39\" y=\"1557.47\">3</text>\n",
       "</g>\n",
       "<g clip-path=\"url(#clip9801)\">\n",
       "<text style=\"fill:#000000; fill-opacity:1; font-family:Arial,Helvetica Neue,Helvetica,sans-serif; font-size:48px; text-anchor:end;\" transform=\"rotate(0, 125.361, 1411.94)\" x=\"125.361\" y=\"1411.94\">-5</text>\n",
       "</g>\n",
       "<g clip-path=\"url(#clip9801)\">\n",
       "<text style=\"fill:#000000; fill-opacity:1; font-family:Arial,Helvetica Neue,Helvetica,sans-serif; font-size:48px; text-anchor:end;\" transform=\"rotate(0, 125.361, 1097.44)\" x=\"125.361\" y=\"1097.44\">0</text>\n",
       "</g>\n",
       "<g clip-path=\"url(#clip9801)\">\n",
       "<text style=\"fill:#000000; fill-opacity:1; font-family:Arial,Helvetica Neue,Helvetica,sans-serif; font-size:48px; text-anchor:end;\" transform=\"rotate(0, 125.361, 782.932)\" x=\"125.361\" y=\"782.932\">5</text>\n",
       "</g>\n",
       "<g clip-path=\"url(#clip9801)\">\n",
       "<text style=\"fill:#000000; fill-opacity:1; font-family:Arial,Helvetica Neue,Helvetica,sans-serif; font-size:48px; text-anchor:end;\" transform=\"rotate(0, 125.361, 468.427)\" x=\"125.361\" y=\"468.427\">10</text>\n",
       "</g>\n",
       "<g clip-path=\"url(#clip9801)\">\n",
       "<text style=\"fill:#000000; fill-opacity:1; font-family:Arial,Helvetica Neue,Helvetica,sans-serif; font-size:48px; text-anchor:end;\" transform=\"rotate(0, 125.361, 153.922)\" x=\"125.361\" y=\"153.922\">15</text>\n",
       "</g>\n",
       "<polyline clip-path=\"url(#clip9803)\" style=\"stroke:#009af9; stroke-width:4; stroke-opacity:1; fill:none\" points=\"\n",
       "  210.829,1398.13 398.275,1430.51 510.922,1446.45 606.163,1456.37 709.622,1462.26 805.003,1462.11 907.26,1454.85 1025.74,1435.68 1131.02,1407.49 1223.35,1373.05 \n",
       "  1273.68,1350.11 1324.01,1324.04 1374.64,1294.52 1425.27,1261.53 1481.25,1220.86 1537.23,1175.59 1590.49,1128.05 1643.75,1075.99 1699.13,1016.87 1754.51,952.485 \n",
       "  1801.13,894.057 1847.74,831.642 1904.66,749.867 1961.57,661.767 2015.07,572.994 2068.58,478.272 2111.43,397.987 2154.29,313.683 2197.15,225.269 2240,132.657 \n",
       "  2246.6,118.026 2253.2,103.293 2259.79,88.4582 \n",
       "  \"/>\n",
       "<polygon clip-path=\"url(#clip9801)\" points=\"\n",
       "1969.12,251.724 2249.26,251.724 2249.26,130.764 1969.12,130.764 \n",
       "  \" fill=\"#ffffff\" fill-rule=\"evenodd\" fill-opacity=\"1\"/>\n",
       "<polyline clip-path=\"url(#clip9801)\" style=\"stroke:#000000; stroke-width:4; stroke-opacity:1; fill:none\" points=\"\n",
       "  1969.12,251.724 2249.26,251.724 2249.26,130.764 1969.12,130.764 1969.12,251.724 \n",
       "  \"/>\n",
       "<polyline clip-path=\"url(#clip9801)\" style=\"stroke:#009af9; stroke-width:4; stroke-opacity:1; fill:none\" points=\"\n",
       "  1993.12,191.244 2137.12,191.244 \n",
       "  \"/>\n",
       "<g clip-path=\"url(#clip9801)\">\n",
       "<text style=\"fill:#000000; fill-opacity:1; font-family:Arial,Helvetica Neue,Helvetica,sans-serif; font-size:48px; text-anchor:start;\" transform=\"rotate(0, 2161.12, 208.744)\" x=\"2161.12\" y=\"208.744\">f4</text>\n",
       "</g>\n",
       "</svg>\n"
      ]
     },
     "execution_count": 44,
     "metadata": {},
     "output_type": "execute_result"
    }
   ],
   "source": [
    "plot(x->f4(x),0,3,label=\"f4\")"
   ]
  },
  {
   "cell_type": "code",
   "execution_count": 45,
   "metadata": {},
   "outputs": [
    {
     "data": {
      "text/plain": [
       "-1.0"
      ]
     },
     "execution_count": 45,
     "metadata": {},
     "output_type": "execute_result"
    }
   ],
   "source": [
    "sign(f4(prevfloat(S4))) *sign(f4(nextfloat(S4)))"
   ]
  },
  {
   "cell_type": "code",
   "execution_count": 46,
   "metadata": {},
   "outputs": [
    {
     "data": {
      "text/plain": [
       "(2.0945514815423265, -8.881784197001252e-16)"
      ]
     },
     "execution_count": 46,
     "metadata": {},
     "output_type": "execute_result"
    }
   ],
   "source": [
    "S4, f4(S4)"
   ]
  },
  {
   "cell_type": "code",
   "execution_count": 47,
   "metadata": {},
   "outputs": [
    {
     "data": {
      "image/svg+xml": [
       "<?xml version=\"1.0\" encoding=\"utf-8\"?>\n",
       "<svg xmlns=\"http://www.w3.org/2000/svg\" xmlns:xlink=\"http://www.w3.org/1999/xlink\" width=\"600\" height=\"400\" viewBox=\"0 0 2400 1600\">\n",
       "<defs>\n",
       "  <clipPath id=\"clip0000\">\n",
       "    <rect x=\"0\" y=\"0\" width=\"2000\" height=\"2000\"/>\n",
       "  </clipPath>\n",
       "</defs>\n",
       "<defs>\n",
       "  <clipPath id=\"clip0001\">\n",
       "    <rect x=\"0\" y=\"0\" width=\"2400\" height=\"1600\"/>\n",
       "  </clipPath>\n",
       "</defs>\n",
       "<polygon clip-path=\"url(#clip0001)\" points=\"\n",
       "0,1600 2400,1600 2400,0 0,0 \n",
       "  \" fill=\"#ffffff\" fill-rule=\"evenodd\" fill-opacity=\"1\"/>\n",
       "<defs>\n",
       "  <clipPath id=\"clip0002\">\n",
       "    <rect x=\"480\" y=\"0\" width=\"1681\" height=\"1600\"/>\n",
       "  </clipPath>\n",
       "</defs>\n",
       "<polygon clip-path=\"url(#clip0001)\" points=\"\n",
       "336.938,1503.47 2321.26,1503.47 2321.26,47.2441 336.938,47.2441 \n",
       "  \" fill=\"#ffffff\" fill-rule=\"evenodd\" fill-opacity=\"1\"/>\n",
       "<defs>\n",
       "  <clipPath id=\"clip0003\">\n",
       "    <rect x=\"336\" y=\"47\" width=\"1985\" height=\"1457\"/>\n",
       "  </clipPath>\n",
       "</defs>\n",
       "<polyline clip-path=\"url(#clip0003)\" style=\"stroke:#000000; stroke-width:2; stroke-opacity:0.1; fill:none\" points=\"\n",
       "  374.396,1503.47 374.396,47.2441 \n",
       "  \"/>\n",
       "<polyline clip-path=\"url(#clip0003)\" style=\"stroke:#000000; stroke-width:2; stroke-opacity:0.1; fill:none\" points=\"\n",
       "  853.156,1503.47 853.156,47.2441 \n",
       "  \"/>\n",
       "<polyline clip-path=\"url(#clip0003)\" style=\"stroke:#000000; stroke-width:2; stroke-opacity:0.1; fill:none\" points=\"\n",
       "  1331.92,1503.47 1331.92,47.2441 \n",
       "  \"/>\n",
       "<polyline clip-path=\"url(#clip0003)\" style=\"stroke:#000000; stroke-width:2; stroke-opacity:0.1; fill:none\" points=\"\n",
       "  1810.68,1503.47 1810.68,47.2441 \n",
       "  \"/>\n",
       "<polyline clip-path=\"url(#clip0003)\" style=\"stroke:#000000; stroke-width:2; stroke-opacity:0.1; fill:none\" points=\"\n",
       "  2289.44,1503.47 2289.44,47.2441 \n",
       "  \"/>\n",
       "<polyline clip-path=\"url(#clip0003)\" style=\"stroke:#000000; stroke-width:2; stroke-opacity:0.1; fill:none\" points=\"\n",
       "  336.938,1462.98 2321.26,1462.98 \n",
       "  \"/>\n",
       "<polyline clip-path=\"url(#clip0003)\" style=\"stroke:#000000; stroke-width:2; stroke-opacity:0.1; fill:none\" points=\"\n",
       "  336.938,1119.35 2321.26,1119.35 \n",
       "  \"/>\n",
       "<polyline clip-path=\"url(#clip0003)\" style=\"stroke:#000000; stroke-width:2; stroke-opacity:0.1; fill:none\" points=\"\n",
       "  336.938,775.723 2321.26,775.723 \n",
       "  \"/>\n",
       "<polyline clip-path=\"url(#clip0003)\" style=\"stroke:#000000; stroke-width:2; stroke-opacity:0.1; fill:none\" points=\"\n",
       "  336.938,432.095 2321.26,432.095 \n",
       "  \"/>\n",
       "<polyline clip-path=\"url(#clip0003)\" style=\"stroke:#000000; stroke-width:2; stroke-opacity:0.1; fill:none\" points=\"\n",
       "  336.938,88.467 2321.26,88.467 \n",
       "  \"/>\n",
       "<polyline clip-path=\"url(#clip0001)\" style=\"stroke:#000000; stroke-width:4; stroke-opacity:1; fill:none\" points=\"\n",
       "  336.938,1503.47 2321.26,1503.47 \n",
       "  \"/>\n",
       "<polyline clip-path=\"url(#clip0001)\" style=\"stroke:#000000; stroke-width:4; stroke-opacity:1; fill:none\" points=\"\n",
       "  336.938,1503.47 336.938,47.2441 \n",
       "  \"/>\n",
       "<polyline clip-path=\"url(#clip0001)\" style=\"stroke:#000000; stroke-width:4; stroke-opacity:1; fill:none\" points=\"\n",
       "  374.396,1503.47 374.396,1481.63 \n",
       "  \"/>\n",
       "<polyline clip-path=\"url(#clip0001)\" style=\"stroke:#000000; stroke-width:4; stroke-opacity:1; fill:none\" points=\"\n",
       "  853.156,1503.47 853.156,1481.63 \n",
       "  \"/>\n",
       "<polyline clip-path=\"url(#clip0001)\" style=\"stroke:#000000; stroke-width:4; stroke-opacity:1; fill:none\" points=\"\n",
       "  1331.92,1503.47 1331.92,1481.63 \n",
       "  \"/>\n",
       "<polyline clip-path=\"url(#clip0001)\" style=\"stroke:#000000; stroke-width:4; stroke-opacity:1; fill:none\" points=\"\n",
       "  1810.68,1503.47 1810.68,1481.63 \n",
       "  \"/>\n",
       "<polyline clip-path=\"url(#clip0001)\" style=\"stroke:#000000; stroke-width:4; stroke-opacity:1; fill:none\" points=\"\n",
       "  2289.44,1503.47 2289.44,1481.63 \n",
       "  \"/>\n",
       "<polyline clip-path=\"url(#clip0001)\" style=\"stroke:#000000; stroke-width:4; stroke-opacity:1; fill:none\" points=\"\n",
       "  336.938,1462.98 366.702,1462.98 \n",
       "  \"/>\n",
       "<polyline clip-path=\"url(#clip0001)\" style=\"stroke:#000000; stroke-width:4; stroke-opacity:1; fill:none\" points=\"\n",
       "  336.938,1119.35 366.702,1119.35 \n",
       "  \"/>\n",
       "<polyline clip-path=\"url(#clip0001)\" style=\"stroke:#000000; stroke-width:4; stroke-opacity:1; fill:none\" points=\"\n",
       "  336.938,775.723 366.702,775.723 \n",
       "  \"/>\n",
       "<polyline clip-path=\"url(#clip0001)\" style=\"stroke:#000000; stroke-width:4; stroke-opacity:1; fill:none\" points=\"\n",
       "  336.938,432.095 366.702,432.095 \n",
       "  \"/>\n",
       "<polyline clip-path=\"url(#clip0001)\" style=\"stroke:#000000; stroke-width:4; stroke-opacity:1; fill:none\" points=\"\n",
       "  336.938,88.467 366.702,88.467 \n",
       "  \"/>\n",
       "<g clip-path=\"url(#clip0001)\">\n",
       "<text style=\"fill:#000000; fill-opacity:1; font-family:Arial,Helvetica Neue,Helvetica,sans-serif; font-size:48px; text-anchor:middle;\" transform=\"rotate(0, 374.396, 1557.47)\" x=\"374.396\" y=\"1557.47\">-1.0</text>\n",
       "</g>\n",
       "<g clip-path=\"url(#clip0001)\">\n",
       "<text style=\"fill:#000000; fill-opacity:1; font-family:Arial,Helvetica Neue,Helvetica,sans-serif; font-size:48px; text-anchor:middle;\" transform=\"rotate(0, 853.156, 1557.47)\" x=\"853.156\" y=\"1557.47\">-0.5</text>\n",
       "</g>\n",
       "<g clip-path=\"url(#clip0001)\">\n",
       "<text style=\"fill:#000000; fill-opacity:1; font-family:Arial,Helvetica Neue,Helvetica,sans-serif; font-size:48px; text-anchor:middle;\" transform=\"rotate(0, 1331.92, 1557.47)\" x=\"1331.92\" y=\"1557.47\">0.0</text>\n",
       "</g>\n",
       "<g clip-path=\"url(#clip0001)\">\n",
       "<text style=\"fill:#000000; fill-opacity:1; font-family:Arial,Helvetica Neue,Helvetica,sans-serif; font-size:48px; text-anchor:middle;\" transform=\"rotate(0, 1810.68, 1557.47)\" x=\"1810.68\" y=\"1557.47\">0.5</text>\n",
       "</g>\n",
       "<g clip-path=\"url(#clip0001)\">\n",
       "<text style=\"fill:#000000; fill-opacity:1; font-family:Arial,Helvetica Neue,Helvetica,sans-serif; font-size:48px; text-anchor:middle;\" transform=\"rotate(0, 2289.44, 1557.47)\" x=\"2289.44\" y=\"1557.47\">1.0</text>\n",
       "</g>\n",
       "<g clip-path=\"url(#clip0001)\">\n",
       "<text style=\"fill:#000000; fill-opacity:1; font-family:Arial,Helvetica Neue,Helvetica,sans-serif; font-size:48px; text-anchor:start;\" transform=\"rotate(0, 114.543, 1486.71)\" x=\"114.543\" y=\"1486.71\">-</text>\n",
       "</g>\n",
       "<g clip-path=\"url(#clip0001)\">\n",
       "<text style=\"fill:#000000; fill-opacity:1; font-family:Arial,Helvetica Neue,Helvetica,sans-serif; font-size:48px; text-anchor:start;\" transform=\"rotate(0, 142.653, 1486.71)\" x=\"142.653\" y=\"1486.71\">1.0×10</text>\n",
       "</g>\n",
       "<g clip-path=\"url(#clip0001)\">\n",
       "<text style=\"fill:#000000; fill-opacity:1; font-family:Arial,Helvetica Neue,Helvetica,sans-serif; font-size:38px; text-anchor:start;\" transform=\"rotate(0, 291.193, 1459.3)\" x=\"291.193\" y=\"1459.3\">5</text>\n",
       "</g>\n",
       "<g clip-path=\"url(#clip0001)\">\n",
       "<text style=\"fill:#000000; fill-opacity:1; font-family:Arial,Helvetica Neue,Helvetica,sans-serif; font-size:48px; text-anchor:start;\" transform=\"rotate(0, 114.543, 1143.08)\" x=\"114.543\" y=\"1143.08\">-</text>\n",
       "</g>\n",
       "<g clip-path=\"url(#clip0001)\">\n",
       "<text style=\"fill:#000000; fill-opacity:1; font-family:Arial,Helvetica Neue,Helvetica,sans-serif; font-size:48px; text-anchor:start;\" transform=\"rotate(0, 142.653, 1143.08)\" x=\"142.653\" y=\"1143.08\">7.5×10</text>\n",
       "</g>\n",
       "<g clip-path=\"url(#clip0001)\">\n",
       "<text style=\"fill:#000000; fill-opacity:1; font-family:Arial,Helvetica Neue,Helvetica,sans-serif; font-size:38px; text-anchor:start;\" transform=\"rotate(0, 291.193, 1115.67)\" x=\"291.193\" y=\"1115.67\">4</text>\n",
       "</g>\n",
       "<g clip-path=\"url(#clip0001)\">\n",
       "<text style=\"fill:#000000; fill-opacity:1; font-family:Arial,Helvetica Neue,Helvetica,sans-serif; font-size:48px; text-anchor:start;\" transform=\"rotate(0, 114.543, 799.451)\" x=\"114.543\" y=\"799.451\">-</text>\n",
       "</g>\n",
       "<g clip-path=\"url(#clip0001)\">\n",
       "<text style=\"fill:#000000; fill-opacity:1; font-family:Arial,Helvetica Neue,Helvetica,sans-serif; font-size:48px; text-anchor:start;\" transform=\"rotate(0, 142.653, 799.451)\" x=\"142.653\" y=\"799.451\">5.0×10</text>\n",
       "</g>\n",
       "<g clip-path=\"url(#clip0001)\">\n",
       "<text style=\"fill:#000000; fill-opacity:1; font-family:Arial,Helvetica Neue,Helvetica,sans-serif; font-size:38px; text-anchor:start;\" transform=\"rotate(0, 291.193, 772.04)\" x=\"291.193\" y=\"772.04\">4</text>\n",
       "</g>\n",
       "<g clip-path=\"url(#clip0001)\">\n",
       "<text style=\"fill:#000000; fill-opacity:1; font-family:Arial,Helvetica Neue,Helvetica,sans-serif; font-size:48px; text-anchor:start;\" transform=\"rotate(0, 114.543, 455.823)\" x=\"114.543\" y=\"455.823\">-</text>\n",
       "</g>\n",
       "<g clip-path=\"url(#clip0001)\">\n",
       "<text style=\"fill:#000000; fill-opacity:1; font-family:Arial,Helvetica Neue,Helvetica,sans-serif; font-size:48px; text-anchor:start;\" transform=\"rotate(0, 142.653, 455.823)\" x=\"142.653\" y=\"455.823\">2.5×10</text>\n",
       "</g>\n",
       "<g clip-path=\"url(#clip0001)\">\n",
       "<text style=\"fill:#000000; fill-opacity:1; font-family:Arial,Helvetica Neue,Helvetica,sans-serif; font-size:38px; text-anchor:start;\" transform=\"rotate(0, 291.193, 428.412)\" x=\"291.193\" y=\"428.412\">4</text>\n",
       "</g>\n",
       "<g clip-path=\"url(#clip0001)\">\n",
       "<text style=\"fill:#000000; fill-opacity:1; font-family:Arial,Helvetica Neue,Helvetica,sans-serif; font-size:48px; text-anchor:end;\" transform=\"rotate(0, 312.938, 105.967)\" x=\"312.938\" y=\"105.967\">0</text>\n",
       "</g>\n",
       "<polyline clip-path=\"url(#clip0003)\" style=\"stroke:#009af9; stroke-width:4; stroke-opacity:1; fill:none\" points=\"\n",
       "  393.098,88.4894 566.024,88.4885 669.946,88.4879 757.81,88.4873 853.256,88.4867 941.248,88.4861 1035.59,88.4858 1144.88,88.4867 1193.45,88.4891 1242.02,88.4976 \n",
       "  1263.31,88.5085 1284.6,88.5379 1289.93,88.5531 1295.25,88.5754 1300.57,88.6102 1305.9,88.6686 1311.22,88.7779 1316.54,89.0208 1319.21,89.2726 1321.87,89.7525 \n",
       "  1323.2,90.1752 1324.53,90.8499 1325.86,92.025 1327.19,94.3525 1327.92,96.7335 1328.64,100.92 1329.37,109.331 1330.09,130.353 1330.82,211.203 1331.54,1462.26 \n",
       "  1332.27,551.327 1333,177.609 1333.72,123.099 1334.45,106.687 1335.17,99.6762 1335.9,96.0522 1337.35,92.602 1338.8,91.0671 1340.25,90.2536 1341.7,89.7712 \n",
       "  1343.15,89.4618 1344.6,89.2517 1347.51,88.9927 1350.41,88.8452 1356.21,88.6922 1362.02,88.6185 1367.82,88.5774 1373.62,88.5522 1385.23,88.5241 1396.84,88.5096 \n",
       "  1408.45,88.501 1420.06,88.4956 1466.76,88.4855 1513.47,88.4817 1616.76,88.4775 1715.03,88.4748 1817.21,88.4722 1903.22,88.4699 2008.23,88.4669 2106.95,88.4638 \n",
       "  2265.1,88.4582 \n",
       "  \"/>\n",
       "<polygon clip-path=\"url(#clip0001)\" points=\"\n",
       "1969.12,251.724 2249.26,251.724 2249.26,130.764 1969.12,130.764 \n",
       "  \" fill=\"#ffffff\" fill-rule=\"evenodd\" fill-opacity=\"1\"/>\n",
       "<polyline clip-path=\"url(#clip0001)\" style=\"stroke:#000000; stroke-width:4; stroke-opacity:1; fill:none\" points=\"\n",
       "  1969.12,251.724 2249.26,251.724 2249.26,130.764 1969.12,130.764 1969.12,251.724 \n",
       "  \"/>\n",
       "<polyline clip-path=\"url(#clip0001)\" style=\"stroke:#009af9; stroke-width:4; stroke-opacity:1; fill:none\" points=\"\n",
       "  1993.12,191.244 2137.12,191.244 \n",
       "  \"/>\n",
       "<g clip-path=\"url(#clip0001)\">\n",
       "<text style=\"fill:#000000; fill-opacity:1; font-family:Arial,Helvetica Neue,Helvetica,sans-serif; font-size:48px; text-anchor:start;\" transform=\"rotate(0, 2161.12, 208.744)\" x=\"2161.12\" y=\"208.744\">f5</text>\n",
       "</g>\n",
       "</svg>\n"
      ]
     },
     "execution_count": 47,
     "metadata": {},
     "output_type": "execute_result"
    }
   ],
   "source": [
    "plot(x-> f5(x), -1,1,label = \"f5\")"
   ]
  },
  {
   "cell_type": "code",
   "execution_count": 48,
   "metadata": {},
   "outputs": [
    {
     "data": {
      "text/plain": [
       "NaN"
      ]
     },
     "execution_count": 48,
     "metadata": {},
     "output_type": "execute_result"
    }
   ],
   "source": [
    "sign(f5(prevfloat(S5))) *sign(f5(nextfloat(S5)))"
   ]
  },
  {
   "cell_type": "code",
   "execution_count": 49,
   "metadata": {},
   "outputs": [
    {
     "data": {
      "text/plain": [
       "(NaN, NaN)"
      ]
     },
     "execution_count": 49,
     "metadata": {},
     "output_type": "execute_result"
    }
   ],
   "source": [
    "S5, f5(S5)"
   ]
  },
  {
   "cell_type": "code",
   "execution_count": 50,
   "metadata": {},
   "outputs": [
    {
     "data": {
      "image/svg+xml": [
       "<?xml version=\"1.0\" encoding=\"utf-8\"?>\n",
       "<svg xmlns=\"http://www.w3.org/2000/svg\" xmlns:xlink=\"http://www.w3.org/1999/xlink\" width=\"600\" height=\"400\" viewBox=\"0 0 2400 1600\">\n",
       "<defs>\n",
       "  <clipPath id=\"clip0200\">\n",
       "    <rect x=\"0\" y=\"0\" width=\"2000\" height=\"2000\"/>\n",
       "  </clipPath>\n",
       "</defs>\n",
       "<defs>\n",
       "  <clipPath id=\"clip0201\">\n",
       "    <rect x=\"0\" y=\"0\" width=\"2400\" height=\"1600\"/>\n",
       "  </clipPath>\n",
       "</defs>\n",
       "<polygon clip-path=\"url(#clip0201)\" points=\"\n",
       "0,1600 2400,1600 2400,0 0,0 \n",
       "  \" fill=\"#ffffff\" fill-rule=\"evenodd\" fill-opacity=\"1\"/>\n",
       "<defs>\n",
       "  <clipPath id=\"clip0202\">\n",
       "    <rect x=\"480\" y=\"0\" width=\"1681\" height=\"1600\"/>\n",
       "  </clipPath>\n",
       "</defs>\n",
       "<polygon clip-path=\"url(#clip0201)\" points=\"\n",
       "149.361,1503.47 2321.26,1503.47 2321.26,47.2441 149.361,47.2441 \n",
       "  \" fill=\"#ffffff\" fill-rule=\"evenodd\" fill-opacity=\"1\"/>\n",
       "<defs>\n",
       "  <clipPath id=\"clip0203\">\n",
       "    <rect x=\"149\" y=\"47\" width=\"2173\" height=\"1457\"/>\n",
       "  </clipPath>\n",
       "</defs>\n",
       "<polyline clip-path=\"url(#clip0203)\" style=\"stroke:#000000; stroke-width:2; stroke-opacity:0.1; fill:none\" points=\"\n",
       "  205.799,1503.47 205.799,47.2441 \n",
       "  \"/>\n",
       "<polyline clip-path=\"url(#clip0203)\" style=\"stroke:#000000; stroke-width:2; stroke-opacity:0.1; fill:none\" points=\"\n",
       "  720.934,1503.47 720.934,47.2441 \n",
       "  \"/>\n",
       "<polyline clip-path=\"url(#clip0203)\" style=\"stroke:#000000; stroke-width:2; stroke-opacity:0.1; fill:none\" points=\"\n",
       "  1236.07,1503.47 1236.07,47.2441 \n",
       "  \"/>\n",
       "<polyline clip-path=\"url(#clip0203)\" style=\"stroke:#000000; stroke-width:2; stroke-opacity:0.1; fill:none\" points=\"\n",
       "  1751.2,1503.47 1751.2,47.2441 \n",
       "  \"/>\n",
       "<polyline clip-path=\"url(#clip0203)\" style=\"stroke:#000000; stroke-width:2; stroke-opacity:0.1; fill:none\" points=\"\n",
       "  2266.34,1503.47 2266.34,47.2441 \n",
       "  \"/>\n",
       "<polyline clip-path=\"url(#clip0203)\" style=\"stroke:#000000; stroke-width:2; stroke-opacity:0.1; fill:none\" points=\"\n",
       "  149.361,1297.79 2321.26,1297.79 \n",
       "  \"/>\n",
       "<polyline clip-path=\"url(#clip0203)\" style=\"stroke:#000000; stroke-width:2; stroke-opacity:0.1; fill:none\" points=\"\n",
       "  149.361,1035.81 2321.26,1035.81 \n",
       "  \"/>\n",
       "<polyline clip-path=\"url(#clip0203)\" style=\"stroke:#000000; stroke-width:2; stroke-opacity:0.1; fill:none\" points=\"\n",
       "  149.361,773.835 2321.26,773.835 \n",
       "  \"/>\n",
       "<polyline clip-path=\"url(#clip0203)\" style=\"stroke:#000000; stroke-width:2; stroke-opacity:0.1; fill:none\" points=\"\n",
       "  149.361,511.856 2321.26,511.856 \n",
       "  \"/>\n",
       "<polyline clip-path=\"url(#clip0203)\" style=\"stroke:#000000; stroke-width:2; stroke-opacity:0.1; fill:none\" points=\"\n",
       "  149.361,249.877 2321.26,249.877 \n",
       "  \"/>\n",
       "<polyline clip-path=\"url(#clip0201)\" style=\"stroke:#000000; stroke-width:4; stroke-opacity:1; fill:none\" points=\"\n",
       "  149.361,1503.47 2321.26,1503.47 \n",
       "  \"/>\n",
       "<polyline clip-path=\"url(#clip0201)\" style=\"stroke:#000000; stroke-width:4; stroke-opacity:1; fill:none\" points=\"\n",
       "  149.361,1503.47 149.361,47.2441 \n",
       "  \"/>\n",
       "<polyline clip-path=\"url(#clip0201)\" style=\"stroke:#000000; stroke-width:4; stroke-opacity:1; fill:none\" points=\"\n",
       "  205.799,1503.47 205.799,1481.63 \n",
       "  \"/>\n",
       "<polyline clip-path=\"url(#clip0201)\" style=\"stroke:#000000; stroke-width:4; stroke-opacity:1; fill:none\" points=\"\n",
       "  720.934,1503.47 720.934,1481.63 \n",
       "  \"/>\n",
       "<polyline clip-path=\"url(#clip0201)\" style=\"stroke:#000000; stroke-width:4; stroke-opacity:1; fill:none\" points=\"\n",
       "  1236.07,1503.47 1236.07,1481.63 \n",
       "  \"/>\n",
       "<polyline clip-path=\"url(#clip0201)\" style=\"stroke:#000000; stroke-width:4; stroke-opacity:1; fill:none\" points=\"\n",
       "  1751.2,1503.47 1751.2,1481.63 \n",
       "  \"/>\n",
       "<polyline clip-path=\"url(#clip0201)\" style=\"stroke:#000000; stroke-width:4; stroke-opacity:1; fill:none\" points=\"\n",
       "  2266.34,1503.47 2266.34,1481.63 \n",
       "  \"/>\n",
       "<polyline clip-path=\"url(#clip0201)\" style=\"stroke:#000000; stroke-width:4; stroke-opacity:1; fill:none\" points=\"\n",
       "  149.361,1297.79 181.939,1297.79 \n",
       "  \"/>\n",
       "<polyline clip-path=\"url(#clip0201)\" style=\"stroke:#000000; stroke-width:4; stroke-opacity:1; fill:none\" points=\"\n",
       "  149.361,1035.81 181.939,1035.81 \n",
       "  \"/>\n",
       "<polyline clip-path=\"url(#clip0201)\" style=\"stroke:#000000; stroke-width:4; stroke-opacity:1; fill:none\" points=\"\n",
       "  149.361,773.835 181.939,773.835 \n",
       "  \"/>\n",
       "<polyline clip-path=\"url(#clip0201)\" style=\"stroke:#000000; stroke-width:4; stroke-opacity:1; fill:none\" points=\"\n",
       "  149.361,511.856 181.939,511.856 \n",
       "  \"/>\n",
       "<polyline clip-path=\"url(#clip0201)\" style=\"stroke:#000000; stroke-width:4; stroke-opacity:1; fill:none\" points=\"\n",
       "  149.361,249.877 181.939,249.877 \n",
       "  \"/>\n",
       "<g clip-path=\"url(#clip0201)\">\n",
       "<text style=\"fill:#000000; fill-opacity:1; font-family:Arial,Helvetica Neue,Helvetica,sans-serif; font-size:48px; text-anchor:middle;\" transform=\"rotate(0, 205.799, 1557.47)\" x=\"205.799\" y=\"1557.47\">-2</text>\n",
       "</g>\n",
       "<g clip-path=\"url(#clip0201)\">\n",
       "<text style=\"fill:#000000; fill-opacity:1; font-family:Arial,Helvetica Neue,Helvetica,sans-serif; font-size:48px; text-anchor:middle;\" transform=\"rotate(0, 720.934, 1557.47)\" x=\"720.934\" y=\"1557.47\">-1</text>\n",
       "</g>\n",
       "<g clip-path=\"url(#clip0201)\">\n",
       "<text style=\"fill:#000000; fill-opacity:1; font-family:Arial,Helvetica Neue,Helvetica,sans-serif; font-size:48px; text-anchor:middle;\" transform=\"rotate(0, 1236.07, 1557.47)\" x=\"1236.07\" y=\"1557.47\">0</text>\n",
       "</g>\n",
       "<g clip-path=\"url(#clip0201)\">\n",
       "<text style=\"fill:#000000; fill-opacity:1; font-family:Arial,Helvetica Neue,Helvetica,sans-serif; font-size:48px; text-anchor:middle;\" transform=\"rotate(0, 1751.2, 1557.47)\" x=\"1751.2\" y=\"1557.47\">1</text>\n",
       "</g>\n",
       "<g clip-path=\"url(#clip0201)\">\n",
       "<text style=\"fill:#000000; fill-opacity:1; font-family:Arial,Helvetica Neue,Helvetica,sans-serif; font-size:48px; text-anchor:middle;\" transform=\"rotate(0, 2266.34, 1557.47)\" x=\"2266.34\" y=\"1557.47\">2</text>\n",
       "</g>\n",
       "<g clip-path=\"url(#clip0201)\">\n",
       "<text style=\"fill:#000000; fill-opacity:1; font-family:Arial,Helvetica Neue,Helvetica,sans-serif; font-size:48px; text-anchor:end;\" transform=\"rotate(0, 125.361, 1315.29)\" x=\"125.361\" y=\"1315.29\">-6</text>\n",
       "</g>\n",
       "<g clip-path=\"url(#clip0201)\">\n",
       "<text style=\"fill:#000000; fill-opacity:1; font-family:Arial,Helvetica Neue,Helvetica,sans-serif; font-size:48px; text-anchor:end;\" transform=\"rotate(0, 125.361, 1053.31)\" x=\"125.361\" y=\"1053.31\">-3</text>\n",
       "</g>\n",
       "<g clip-path=\"url(#clip0201)\">\n",
       "<text style=\"fill:#000000; fill-opacity:1; font-family:Arial,Helvetica Neue,Helvetica,sans-serif; font-size:48px; text-anchor:end;\" transform=\"rotate(0, 125.361, 791.335)\" x=\"125.361\" y=\"791.335\">0</text>\n",
       "</g>\n",
       "<g clip-path=\"url(#clip0201)\">\n",
       "<text style=\"fill:#000000; fill-opacity:1; font-family:Arial,Helvetica Neue,Helvetica,sans-serif; font-size:48px; text-anchor:end;\" transform=\"rotate(0, 125.361, 529.356)\" x=\"125.361\" y=\"529.356\">3</text>\n",
       "</g>\n",
       "<g clip-path=\"url(#clip0201)\">\n",
       "<text style=\"fill:#000000; fill-opacity:1; font-family:Arial,Helvetica Neue,Helvetica,sans-serif; font-size:48px; text-anchor:end;\" transform=\"rotate(0, 125.361, 267.377)\" x=\"125.361\" y=\"267.377\">6</text>\n",
       "</g>\n",
       "<polyline clip-path=\"url(#clip0203)\" style=\"stroke:#009af9; stroke-width:4; stroke-opacity:1; fill:none\" points=\"\n",
       "  210.829,1462.26 215.86,1452.18 220.891,1442.19 225.922,1432.3 272.438,1345.46 318.954,1266.61 365.47,1195.37 411.986,1131.35 467.895,1063.41 523.804,1004.67 \n",
       "  571.074,961.696 618.344,924.414 669.692,889.898 721.041,861.106 768.379,839.186 815.718,821.282 866.47,806.088 917.222,794.542 976.024,785.068 1034.83,779.041 \n",
       "  1139.34,774.413 1230.98,773.835 1330.9,773.29 1431.42,769.072 1486.98,763.743 1542.55,755.444 1595.42,744.191 1648.29,729.088 1703.26,708.692 1758.23,682.886 \n",
       "  1804.5,656.5 1850.78,625.449 1907.27,580.66 1963.77,527.661 2016.88,469.734 2069.99,403.367 2112.53,343.729 2155.07,278.01 2197.61,205.917 2240.15,127.154 \n",
       "  2246.7,114.422 2253.24,101.524 2259.79,88.4582 \n",
       "  \"/>\n",
       "<polygon clip-path=\"url(#clip0201)\" points=\"\n",
       "1969.12,251.724 2249.26,251.724 2249.26,130.764 1969.12,130.764 \n",
       "  \" fill=\"#ffffff\" fill-rule=\"evenodd\" fill-opacity=\"1\"/>\n",
       "<polyline clip-path=\"url(#clip0201)\" style=\"stroke:#000000; stroke-width:4; stroke-opacity:1; fill:none\" points=\"\n",
       "  1969.12,251.724 2249.26,251.724 2249.26,130.764 1969.12,130.764 1969.12,251.724 \n",
       "  \"/>\n",
       "<polyline clip-path=\"url(#clip0201)\" style=\"stroke:#009af9; stroke-width:4; stroke-opacity:1; fill:none\" points=\"\n",
       "  1993.12,191.244 2137.12,191.244 \n",
       "  \"/>\n",
       "<g clip-path=\"url(#clip0201)\">\n",
       "<text style=\"fill:#000000; fill-opacity:1; font-family:Arial,Helvetica Neue,Helvetica,sans-serif; font-size:48px; text-anchor:start;\" transform=\"rotate(0, 2161.12, 208.744)\" x=\"2161.12\" y=\"208.744\">f6</text>\n",
       "</g>\n",
       "</svg>\n"
      ]
     },
     "execution_count": 50,
     "metadata": {},
     "output_type": "execute_result"
    }
   ],
   "source": [
    "plot(x->f6(x), -2,2, label=\"f6\")"
   ]
  },
  {
   "cell_type": "code",
   "execution_count": 51,
   "metadata": {},
   "outputs": [
    {
     "data": {
      "text/plain": [
       "1.0"
      ]
     },
     "execution_count": 51,
     "metadata": {},
     "output_type": "execute_result"
    }
   ],
   "source": [
    "sign(f6(prevfloat(S6))) *sign(f6(nextfloat(S6)))"
   ]
  },
  {
   "cell_type": "code",
   "execution_count": 52,
   "metadata": {},
   "outputs": [
    {
     "data": {
      "text/plain": [
       "(-8.971730607213444e-6, -7.221520922424894e-16)"
      ]
     },
     "execution_count": 52,
     "metadata": {},
     "output_type": "execute_result"
    }
   ],
   "source": [
    "S6, f6(S6)"
   ]
  },
  {
   "cell_type": "markdown",
   "metadata": {},
   "source": [
    "# Zadanie 2."
   ]
  },
  {
   "cell_type": "markdown",
   "metadata": {},
   "source": [
    "### problemy z f5(x) = f5(x) = exp(x) - 2 - 1 / ( 10 * x )^2 + 2 / ( 100 * x )^3"
   ]
  },
  {
   "cell_type": "code",
   "execution_count": 53,
   "metadata": {},
   "outputs": [
    {
     "data": {
      "image/svg+xml": [
       "<?xml version=\"1.0\" encoding=\"utf-8\"?>\n",
       "<svg xmlns=\"http://www.w3.org/2000/svg\" xmlns:xlink=\"http://www.w3.org/1999/xlink\" width=\"600\" height=\"400\" viewBox=\"0 0 2400 1600\">\n",
       "<defs>\n",
       "  <clipPath id=\"clip0400\">\n",
       "    <rect x=\"0\" y=\"0\" width=\"2000\" height=\"2000\"/>\n",
       "  </clipPath>\n",
       "</defs>\n",
       "<defs>\n",
       "  <clipPath id=\"clip0401\">\n",
       "    <rect x=\"0\" y=\"0\" width=\"2400\" height=\"1600\"/>\n",
       "  </clipPath>\n",
       "</defs>\n",
       "<polygon clip-path=\"url(#clip0401)\" points=\"\n",
       "0,1600 2400,1600 2400,0 0,0 \n",
       "  \" fill=\"#ffffff\" fill-rule=\"evenodd\" fill-opacity=\"1\"/>\n",
       "<defs>\n",
       "  <clipPath id=\"clip0402\">\n",
       "    <rect x=\"480\" y=\"0\" width=\"1681\" height=\"1600\"/>\n",
       "  </clipPath>\n",
       "</defs>\n",
       "<polygon clip-path=\"url(#clip0401)\" points=\"\n",
       "229.648,1503.47 2321.26,1503.47 2321.26,47.2441 229.648,47.2441 \n",
       "  \" fill=\"#ffffff\" fill-rule=\"evenodd\" fill-opacity=\"1\"/>\n",
       "<defs>\n",
       "  <clipPath id=\"clip0403\">\n",
       "    <rect x=\"229\" y=\"47\" width=\"2093\" height=\"1457\"/>\n",
       "  </clipPath>\n",
       "</defs>\n",
       "<polyline clip-path=\"url(#clip0403)\" style=\"stroke:#000000; stroke-width:2; stroke-opacity:0.1; fill:none\" points=\"\n",
       "  469.231,1503.47 469.231,47.2441 \n",
       "  \"/>\n",
       "<polyline clip-path=\"url(#clip0403)\" style=\"stroke:#000000; stroke-width:2; stroke-opacity:0.1; fill:none\" points=\"\n",
       "  869.049,1503.47 869.049,47.2441 \n",
       "  \"/>\n",
       "<polyline clip-path=\"url(#clip0403)\" style=\"stroke:#000000; stroke-width:2; stroke-opacity:0.1; fill:none\" points=\"\n",
       "  1268.87,1503.47 1268.87,47.2441 \n",
       "  \"/>\n",
       "<polyline clip-path=\"url(#clip0403)\" style=\"stroke:#000000; stroke-width:2; stroke-opacity:0.1; fill:none\" points=\"\n",
       "  1668.69,1503.47 1668.69,47.2441 \n",
       "  \"/>\n",
       "<polyline clip-path=\"url(#clip0403)\" style=\"stroke:#000000; stroke-width:2; stroke-opacity:0.1; fill:none\" points=\"\n",
       "  2068.51,1503.47 2068.51,47.2441 \n",
       "  \"/>\n",
       "<polyline clip-path=\"url(#clip0403)\" style=\"stroke:#000000; stroke-width:2; stroke-opacity:0.1; fill:none\" points=\"\n",
       "  229.648,1501.29 2321.26,1501.29 \n",
       "  \"/>\n",
       "<polyline clip-path=\"url(#clip0403)\" style=\"stroke:#000000; stroke-width:2; stroke-opacity:0.1; fill:none\" points=\"\n",
       "  229.648,1051.6 2321.26,1051.6 \n",
       "  \"/>\n",
       "<polyline clip-path=\"url(#clip0403)\" style=\"stroke:#000000; stroke-width:2; stroke-opacity:0.1; fill:none\" points=\"\n",
       "  229.648,601.904 2321.26,601.904 \n",
       "  \"/>\n",
       "<polyline clip-path=\"url(#clip0403)\" style=\"stroke:#000000; stroke-width:2; stroke-opacity:0.1; fill:none\" points=\"\n",
       "  229.648,152.212 2321.26,152.212 \n",
       "  \"/>\n",
       "<polyline clip-path=\"url(#clip0401)\" style=\"stroke:#000000; stroke-width:4; stroke-opacity:1; fill:none\" points=\"\n",
       "  229.648,1503.47 2321.26,1503.47 \n",
       "  \"/>\n",
       "<polyline clip-path=\"url(#clip0401)\" style=\"stroke:#000000; stroke-width:4; stroke-opacity:1; fill:none\" points=\"\n",
       "  229.648,1503.47 229.648,47.2441 \n",
       "  \"/>\n",
       "<polyline clip-path=\"url(#clip0401)\" style=\"stroke:#000000; stroke-width:4; stroke-opacity:1; fill:none\" points=\"\n",
       "  469.231,1503.47 469.231,1481.63 \n",
       "  \"/>\n",
       "<polyline clip-path=\"url(#clip0401)\" style=\"stroke:#000000; stroke-width:4; stroke-opacity:1; fill:none\" points=\"\n",
       "  869.049,1503.47 869.049,1481.63 \n",
       "  \"/>\n",
       "<polyline clip-path=\"url(#clip0401)\" style=\"stroke:#000000; stroke-width:4; stroke-opacity:1; fill:none\" points=\"\n",
       "  1268.87,1503.47 1268.87,1481.63 \n",
       "  \"/>\n",
       "<polyline clip-path=\"url(#clip0401)\" style=\"stroke:#000000; stroke-width:4; stroke-opacity:1; fill:none\" points=\"\n",
       "  1668.69,1503.47 1668.69,1481.63 \n",
       "  \"/>\n",
       "<polyline clip-path=\"url(#clip0401)\" style=\"stroke:#000000; stroke-width:4; stroke-opacity:1; fill:none\" points=\"\n",
       "  2068.51,1503.47 2068.51,1481.63 \n",
       "  \"/>\n",
       "<polyline clip-path=\"url(#clip0401)\" style=\"stroke:#000000; stroke-width:4; stroke-opacity:1; fill:none\" points=\"\n",
       "  229.648,1501.29 261.022,1501.29 \n",
       "  \"/>\n",
       "<polyline clip-path=\"url(#clip0401)\" style=\"stroke:#000000; stroke-width:4; stroke-opacity:1; fill:none\" points=\"\n",
       "  229.648,1051.6 261.022,1051.6 \n",
       "  \"/>\n",
       "<polyline clip-path=\"url(#clip0401)\" style=\"stroke:#000000; stroke-width:4; stroke-opacity:1; fill:none\" points=\"\n",
       "  229.648,601.904 261.022,601.904 \n",
       "  \"/>\n",
       "<polyline clip-path=\"url(#clip0401)\" style=\"stroke:#000000; stroke-width:4; stroke-opacity:1; fill:none\" points=\"\n",
       "  229.648,152.212 261.022,152.212 \n",
       "  \"/>\n",
       "<g clip-path=\"url(#clip0401)\">\n",
       "<text style=\"fill:#000000; fill-opacity:1; font-family:Arial,Helvetica Neue,Helvetica,sans-serif; font-size:48px; text-anchor:middle;\" transform=\"rotate(0, 469.231, 1557.47)\" x=\"469.231\" y=\"1557.47\">-4</text>\n",
       "</g>\n",
       "<g clip-path=\"url(#clip0401)\">\n",
       "<text style=\"fill:#000000; fill-opacity:1; font-family:Arial,Helvetica Neue,Helvetica,sans-serif; font-size:48px; text-anchor:middle;\" transform=\"rotate(0, 869.049, 1557.47)\" x=\"869.049\" y=\"1557.47\">-2</text>\n",
       "</g>\n",
       "<g clip-path=\"url(#clip0401)\">\n",
       "<text style=\"fill:#000000; fill-opacity:1; font-family:Arial,Helvetica Neue,Helvetica,sans-serif; font-size:48px; text-anchor:middle;\" transform=\"rotate(0, 1268.87, 1557.47)\" x=\"1268.87\" y=\"1557.47\">0</text>\n",
       "</g>\n",
       "<g clip-path=\"url(#clip0401)\">\n",
       "<text style=\"fill:#000000; fill-opacity:1; font-family:Arial,Helvetica Neue,Helvetica,sans-serif; font-size:48px; text-anchor:middle;\" transform=\"rotate(0, 1668.69, 1557.47)\" x=\"1668.69\" y=\"1557.47\">2</text>\n",
       "</g>\n",
       "<g clip-path=\"url(#clip0401)\">\n",
       "<text style=\"fill:#000000; fill-opacity:1; font-family:Arial,Helvetica Neue,Helvetica,sans-serif; font-size:48px; text-anchor:middle;\" transform=\"rotate(0, 2068.51, 1557.47)\" x=\"2068.51\" y=\"1557.47\">4</text>\n",
       "</g>\n",
       "<g clip-path=\"url(#clip0401)\">\n",
       "<text style=\"fill:#000000; fill-opacity:1; font-family:Arial,Helvetica Neue,Helvetica,sans-serif; font-size:48px; text-anchor:end;\" transform=\"rotate(0, 205.648, 1518.79)\" x=\"205.648\" y=\"1518.79\">-3000</text>\n",
       "</g>\n",
       "<g clip-path=\"url(#clip0401)\">\n",
       "<text style=\"fill:#000000; fill-opacity:1; font-family:Arial,Helvetica Neue,Helvetica,sans-serif; font-size:48px; text-anchor:end;\" transform=\"rotate(0, 205.648, 1069.1)\" x=\"205.648\" y=\"1069.1\">-2000</text>\n",
       "</g>\n",
       "<g clip-path=\"url(#clip0401)\">\n",
       "<text style=\"fill:#000000; fill-opacity:1; font-family:Arial,Helvetica Neue,Helvetica,sans-serif; font-size:48px; text-anchor:end;\" transform=\"rotate(0, 205.648, 619.404)\" x=\"205.648\" y=\"619.404\">-1000</text>\n",
       "</g>\n",
       "<g clip-path=\"url(#clip0401)\">\n",
       "<text style=\"fill:#000000; fill-opacity:1; font-family:Arial,Helvetica Neue,Helvetica,sans-serif; font-size:48px; text-anchor:end;\" transform=\"rotate(0, 205.648, 169.712)\" x=\"205.648\" y=\"169.712\">0</text>\n",
       "</g>\n",
       "<polyline clip-path=\"url(#clip0403)\" style=\"stroke:#009af9; stroke-width:4; stroke-opacity:1; fill:none\" points=\"\n",
       "  288.844,153.108 469.361,153.103 577.843,153.097 669.564,153.089 769.199,153.075 861.053,153.054 959.53,153.017 1073.63,152.946 1124.32,152.901 1175.02,152.85 \n",
       "  1197.25,152.832 1219.48,152.833 1230.59,152.862 1241.71,152.962 1247.26,153.093 1252.82,153.396 1255.6,153.714 1258.38,154.324 1259.77,154.861 1261.16,155.716 \n",
       "  1262.55,157.2 1263.94,160.117 1264.69,163.076 1265.45,168.228 1266.21,178.428 1266.96,203.296 1267.72,294.187 1268.48,1462.26 1269.24,1333.53 1269.99,289.447 \n",
       "  1270.75,202.265 1271.51,178.043 1272.27,168.038 1273.02,162.961 1274.54,158.199 1276.05,156.107 1277.57,155.005 1279.08,154.354 1280.6,153.936 1282.11,153.652 \n",
       "  1285.14,153.3 1288.17,153.097 1300.29,152.767 1312.41,152.647 1336.64,152.519 1360.88,152.42 1409.63,152.211 1458.39,151.955 1566.21,151.123 1668.79,149.788 \n",
       "  1722.13,148.771 1775.46,147.443 1820.35,146.016 1865.25,144.229 1892.65,142.924 1920.06,141.427 1947.46,139.71 1974.87,137.741 2000.63,135.627 2026.39,133.223 \n",
       "  2052.16,130.487 2077.92,127.375 2098.55,124.577 2119.19,121.474 2139.83,118.033 2160.46,114.219 2181.1,109.989 2201.74,105.3 2222.37,100.101 2243.01,94.3362 \n",
       "  2249.36,92.4388 2255.71,90.4801 2262.06,88.4582 \n",
       "  \"/>\n",
       "<polygon clip-path=\"url(#clip0401)\" points=\"\n",
       "1969.12,251.724 2249.26,251.724 2249.26,130.764 1969.12,130.764 \n",
       "  \" fill=\"#ffffff\" fill-rule=\"evenodd\" fill-opacity=\"1\"/>\n",
       "<polyline clip-path=\"url(#clip0401)\" style=\"stroke:#000000; stroke-width:4; stroke-opacity:1; fill:none\" points=\"\n",
       "  1969.12,251.724 2249.26,251.724 2249.26,130.764 1969.12,130.764 1969.12,251.724 \n",
       "  \"/>\n",
       "<polyline clip-path=\"url(#clip0401)\" style=\"stroke:#009af9; stroke-width:4; stroke-opacity:1; fill:none\" points=\"\n",
       "  1993.12,191.244 2137.12,191.244 \n",
       "  \"/>\n",
       "<g clip-path=\"url(#clip0401)\">\n",
       "<text style=\"fill:#000000; fill-opacity:1; font-family:Arial,Helvetica Neue,Helvetica,sans-serif; font-size:48px; text-anchor:start;\" transform=\"rotate(0, 2161.12, 208.744)\" x=\"2161.12\" y=\"208.744\">f5</text>\n",
       "</g>\n",
       "</svg>\n"
      ]
     },
     "execution_count": 53,
     "metadata": {},
     "output_type": "execute_result"
    }
   ],
   "source": [
    "plot(x->f5(x),-5,5,label=\"f5\")"
   ]
  },
  {
   "cell_type": "code",
   "execution_count": 54,
   "metadata": {},
   "outputs": [
    {
     "data": {
      "text/plain": [
       "(0.0, NaN)"
      ]
     },
     "execution_count": 54,
     "metadata": {},
     "output_type": "execute_result"
    }
   ],
   "source": [
    "# bisekcja:\n",
    "x5,f5(x5)"
   ]
  },
  {
   "cell_type": "code",
   "execution_count": 55,
   "metadata": {},
   "outputs": [
    {
     "data": {
      "text/plain": [
       "(NaN, NaN)"
      ]
     },
     "execution_count": 55,
     "metadata": {},
     "output_type": "execute_result"
    }
   ],
   "source": [
    "# Newton:\n",
    "N5,f5(N5)"
   ]
  },
  {
   "cell_type": "code",
   "execution_count": 56,
   "metadata": {},
   "outputs": [
    {
     "name": "stdout",
     "output_type": "stream",
     "text": [
      "Results of univariate zero finding:\n",
      "\n",
      "* Convergence failed: NaN produced by algorithm. \n",
      "* Algorithm Roots.Newton()\n",
      "\n",
      "Trace:\n",
      "x_0 =  0.0000000000000000,\t fx_0 =                NaN\n",
      "\n"
     ]
    },
    {
     "ename": "Roots.ConvergenceFailed",
     "evalue": "Roots.ConvergenceFailed(\"Stopped at: xn = 0.0\")",
     "output_type": "error",
     "traceback": [
      "Roots.ConvergenceFailed(\"Stopped at: xn = 0.0\")",
      "",
      "Stacktrace:",
      " [1] #find_zero#4(::Roots.NullTracks, ::Bool, ::Base.Iterators.Pairs{Union{},Union{},Tuple{},NamedTuple{(),Tuple{}}}, ::Function, ::Tuple{typeof(f5),getfield(Main, Symbol(\"##19#20\")){typeof(f5)}}, ::Int64, ::Roots.Newton, ::Nothing) at /Users/kuba/.julia/packages/Roots/xWzoi/src/find_zero.jl:542",
      " [2] #find_zero at ./none:0 [inlined] (repeats 2 times)",
      " [3] top-level scope at In[56]:1"
     ]
    }
   ],
   "source": [
    "N5 = find_zero((f5, D(f5)),0, Roots.Newton(),verbose=true)"
   ]
  },
  {
   "cell_type": "code",
   "execution_count": 57,
   "metadata": {},
   "outputs": [
    {
     "data": {
      "text/plain": [
       "(NaN, NaN)"
      ]
     },
     "execution_count": 57,
     "metadata": {},
     "output_type": "execute_result"
    }
   ],
   "source": [
    "# sieczne:\n",
    "S5, f5(S5)"
   ]
  },
  {
   "cell_type": "code",
   "execution_count": 58,
   "metadata": {},
   "outputs": [
    {
     "name": "stdout",
     "output_type": "stream",
     "text": [
      "Results of univariate zero finding:\n",
      "\n",
      "* Converged to: -0.30546863861474094\n",
      "* Algorithm: Roots.Secant()\n",
      "* iterations: 16\n",
      "* function evaluations: 18\n",
      "* stopped as x_n ≈ x_{n-1} using atol=xatol, rtol=xrtol\n",
      "* Note: x_n ≈ x_{n-1}. \n",
      "\n",
      "Trace:\n",
      "x_0 = -1.0000000000000000,\t fx_0 = -1.6421225588285577\n",
      "x_1 =  3.7204470487986665,\t fx_1 =  39.2821230160329193\n",
      "x_2 = -0.8105877707040845,\t fx_2 = -1.5706265698550448\n",
      "x_3 = -0.6363874109097538,\t fx_3 = -1.4954990327483795\n",
      "x_4 =  2.8312687856052814,\t fx_4 =  14.9657272226645919\n",
      "x_5 = -0.3213515559055207,\t fx_5 = -1.3717285219963937\n",
      "x_6 = -0.0566506557736491,\t fx_6 = -4.1820238482893206\n",
      "x_7 = -0.4505542667778941,\t fx_7 = -1.4120083241900103\n",
      "x_8 = -0.6513456243813314,\t fx_8 = -1.5022344112571646\n",
      "x_9 =  2.6917638540383884,\t fx_9 =  12.7563033296358128\n",
      "x_10 = -0.2991261899382893,\t fx_10 = -1.3703701039138889\n",
      "x_11 = -0.0089923293631994,\t fx_11 = -127.4269651538968873\n",
      "x_12 = -0.3022802555269051,\t fx_12 = -1.3703826172719538\n",
      "x_13 = -0.3054686386147435,\t fx_13 = -1.3704605543147561\n",
      "x_14 =  55.7596975110477189,\t fx_14 =  1644860008188145511170048.0000000000000000\n",
      "x_15 = -0.3054686386147409,\t fx_15 = -1.3704605543147561\n",
      "x_16 = -0.3054686386147409,\t fx_16 = -1.3704605543147561\n",
      "\n"
     ]
    },
    {
     "ename": "Roots.ConvergenceFailed",
     "evalue": "Roots.ConvergenceFailed(\"Stopped at: xn = -0.30546863861474094\")",
     "output_type": "error",
     "traceback": [
      "Roots.ConvergenceFailed(\"Stopped at: xn = -0.30546863861474094\")",
      "",
      "Stacktrace:",
      " [1] #find_zero#4(::Roots.NullTracks, ::Bool, ::Base.Iterators.Pairs{Union{},Union{},Tuple{},NamedTuple{(),Tuple{}}}, ::Function, ::Function, ::Int64, ::Roots.Secant, ::Nothing) at /Users/kuba/.julia/packages/Roots/xWzoi/src/find_zero.jl:542",
      " [2] #find_zero at ./none:0 [inlined] (repeats 2 times)",
      " [3] top-level scope at In[58]:1"
     ]
    }
   ],
   "source": [
    "S5 = find_zero(f5, -1, Order1(),  verbose=true)"
   ]
  },
  {
   "cell_type": "markdown",
   "metadata": {},
   "source": [
    "# Zadanie 3. a)"
   ]
  },
  {
   "cell_type": "markdown",
   "metadata": {},
   "source": [
    "### wszystkie nie działają dla z pozoru prostego f4(x) = x^3 - 2*x - 5"
   ]
  },
  {
   "cell_type": "code",
   "execution_count": 59,
   "metadata": {},
   "outputs": [
    {
     "data": {
      "image/svg+xml": [
       "<?xml version=\"1.0\" encoding=\"utf-8\"?>\n",
       "<svg xmlns=\"http://www.w3.org/2000/svg\" xmlns:xlink=\"http://www.w3.org/1999/xlink\" width=\"600\" height=\"400\" viewBox=\"0 0 2400 1600\">\n",
       "<defs>\n",
       "  <clipPath id=\"clip0600\">\n",
       "    <rect x=\"0\" y=\"0\" width=\"2000\" height=\"2000\"/>\n",
       "  </clipPath>\n",
       "</defs>\n",
       "<defs>\n",
       "  <clipPath id=\"clip0601\">\n",
       "    <rect x=\"0\" y=\"0\" width=\"2400\" height=\"1600\"/>\n",
       "  </clipPath>\n",
       "</defs>\n",
       "<polygon clip-path=\"url(#clip0601)\" points=\"\n",
       "0,1600 2400,1600 2400,0 0,0 \n",
       "  \" fill=\"#ffffff\" fill-rule=\"evenodd\" fill-opacity=\"1\"/>\n",
       "<defs>\n",
       "  <clipPath id=\"clip0602\">\n",
       "    <rect x=\"480\" y=\"0\" width=\"1681\" height=\"1600\"/>\n",
       "  </clipPath>\n",
       "</defs>\n",
       "<polygon clip-path=\"url(#clip0601)\" points=\"\n",
       "176.123,1503.47 2321.26,1503.47 2321.26,47.2441 176.123,47.2441 \n",
       "  \" fill=\"#ffffff\" fill-rule=\"evenodd\" fill-opacity=\"1\"/>\n",
       "<defs>\n",
       "  <clipPath id=\"clip0603\">\n",
       "    <rect x=\"176\" y=\"47\" width=\"2146\" height=\"1457\"/>\n",
       "  </clipPath>\n",
       "</defs>\n",
       "<polyline clip-path=\"url(#clip0603)\" style=\"stroke:#000000; stroke-width:2; stroke-opacity:0.1; fill:none\" points=\"\n",
       "  231.866,1503.47 231.866,47.2441 \n",
       "  \"/>\n",
       "<polyline clip-path=\"url(#clip0603)\" style=\"stroke:#000000; stroke-width:2; stroke-opacity:0.1; fill:none\" points=\"\n",
       "  740.653,1503.47 740.653,47.2441 \n",
       "  \"/>\n",
       "<polyline clip-path=\"url(#clip0603)\" style=\"stroke:#000000; stroke-width:2; stroke-opacity:0.1; fill:none\" points=\"\n",
       "  1249.44,1503.47 1249.44,47.2441 \n",
       "  \"/>\n",
       "<polyline clip-path=\"url(#clip0603)\" style=\"stroke:#000000; stroke-width:2; stroke-opacity:0.1; fill:none\" points=\"\n",
       "  1758.23,1503.47 1758.23,47.2441 \n",
       "  \"/>\n",
       "<polyline clip-path=\"url(#clip0603)\" style=\"stroke:#000000; stroke-width:2; stroke-opacity:0.1; fill:none\" points=\"\n",
       "  2267.01,1503.47 2267.01,47.2441 \n",
       "  \"/>\n",
       "<polyline clip-path=\"url(#clip0603)\" style=\"stroke:#000000; stroke-width:2; stroke-opacity:0.1; fill:none\" points=\"\n",
       "  176.123,1335.98 2321.26,1335.98 \n",
       "  \"/>\n",
       "<polyline clip-path=\"url(#clip0603)\" style=\"stroke:#000000; stroke-width:2; stroke-opacity:0.1; fill:none\" points=\"\n",
       "  176.123,1023.6 2321.26,1023.6 \n",
       "  \"/>\n",
       "<polyline clip-path=\"url(#clip0603)\" style=\"stroke:#000000; stroke-width:2; stroke-opacity:0.1; fill:none\" points=\"\n",
       "  176.123,711.21 2321.26,711.21 \n",
       "  \"/>\n",
       "<polyline clip-path=\"url(#clip0603)\" style=\"stroke:#000000; stroke-width:2; stroke-opacity:0.1; fill:none\" points=\"\n",
       "  176.123,398.825 2321.26,398.825 \n",
       "  \"/>\n",
       "<polyline clip-path=\"url(#clip0603)\" style=\"stroke:#000000; stroke-width:2; stroke-opacity:0.1; fill:none\" points=\"\n",
       "  176.123,86.4401 2321.26,86.4401 \n",
       "  \"/>\n",
       "<polyline clip-path=\"url(#clip0601)\" style=\"stroke:#000000; stroke-width:4; stroke-opacity:1; fill:none\" points=\"\n",
       "  176.123,1503.47 2321.26,1503.47 \n",
       "  \"/>\n",
       "<polyline clip-path=\"url(#clip0601)\" style=\"stroke:#000000; stroke-width:4; stroke-opacity:1; fill:none\" points=\"\n",
       "  176.123,1503.47 176.123,47.2441 \n",
       "  \"/>\n",
       "<polyline clip-path=\"url(#clip0601)\" style=\"stroke:#000000; stroke-width:4; stroke-opacity:1; fill:none\" points=\"\n",
       "  231.866,1503.47 231.866,1481.63 \n",
       "  \"/>\n",
       "<polyline clip-path=\"url(#clip0601)\" style=\"stroke:#000000; stroke-width:4; stroke-opacity:1; fill:none\" points=\"\n",
       "  740.653,1503.47 740.653,1481.63 \n",
       "  \"/>\n",
       "<polyline clip-path=\"url(#clip0601)\" style=\"stroke:#000000; stroke-width:4; stroke-opacity:1; fill:none\" points=\"\n",
       "  1249.44,1503.47 1249.44,1481.63 \n",
       "  \"/>\n",
       "<polyline clip-path=\"url(#clip0601)\" style=\"stroke:#000000; stroke-width:4; stroke-opacity:1; fill:none\" points=\"\n",
       "  1758.23,1503.47 1758.23,1481.63 \n",
       "  \"/>\n",
       "<polyline clip-path=\"url(#clip0601)\" style=\"stroke:#000000; stroke-width:4; stroke-opacity:1; fill:none\" points=\"\n",
       "  2267.01,1503.47 2267.01,1481.63 \n",
       "  \"/>\n",
       "<polyline clip-path=\"url(#clip0601)\" style=\"stroke:#000000; stroke-width:4; stroke-opacity:1; fill:none\" points=\"\n",
       "  176.123,1335.98 208.3,1335.98 \n",
       "  \"/>\n",
       "<polyline clip-path=\"url(#clip0601)\" style=\"stroke:#000000; stroke-width:4; stroke-opacity:1; fill:none\" points=\"\n",
       "  176.123,1023.6 208.3,1023.6 \n",
       "  \"/>\n",
       "<polyline clip-path=\"url(#clip0601)\" style=\"stroke:#000000; stroke-width:4; stroke-opacity:1; fill:none\" points=\"\n",
       "  176.123,711.21 208.3,711.21 \n",
       "  \"/>\n",
       "<polyline clip-path=\"url(#clip0601)\" style=\"stroke:#000000; stroke-width:4; stroke-opacity:1; fill:none\" points=\"\n",
       "  176.123,398.825 208.3,398.825 \n",
       "  \"/>\n",
       "<polyline clip-path=\"url(#clip0601)\" style=\"stroke:#000000; stroke-width:4; stroke-opacity:1; fill:none\" points=\"\n",
       "  176.123,86.4401 208.3,86.4401 \n",
       "  \"/>\n",
       "<g clip-path=\"url(#clip0601)\">\n",
       "<text style=\"fill:#000000; fill-opacity:1; font-family:Arial,Helvetica Neue,Helvetica,sans-serif; font-size:48px; text-anchor:middle;\" transform=\"rotate(0, 231.866, 1557.47)\" x=\"231.866\" y=\"1557.47\">-4</text>\n",
       "</g>\n",
       "<g clip-path=\"url(#clip0601)\">\n",
       "<text style=\"fill:#000000; fill-opacity:1; font-family:Arial,Helvetica Neue,Helvetica,sans-serif; font-size:48px; text-anchor:middle;\" transform=\"rotate(0, 740.653, 1557.47)\" x=\"740.653\" y=\"1557.47\">-2</text>\n",
       "</g>\n",
       "<g clip-path=\"url(#clip0601)\">\n",
       "<text style=\"fill:#000000; fill-opacity:1; font-family:Arial,Helvetica Neue,Helvetica,sans-serif; font-size:48px; text-anchor:middle;\" transform=\"rotate(0, 1249.44, 1557.47)\" x=\"1249.44\" y=\"1557.47\">0</text>\n",
       "</g>\n",
       "<g clip-path=\"url(#clip0601)\">\n",
       "<text style=\"fill:#000000; fill-opacity:1; font-family:Arial,Helvetica Neue,Helvetica,sans-serif; font-size:48px; text-anchor:middle;\" transform=\"rotate(0, 1758.23, 1557.47)\" x=\"1758.23\" y=\"1557.47\">2</text>\n",
       "</g>\n",
       "<g clip-path=\"url(#clip0601)\">\n",
       "<text style=\"fill:#000000; fill-opacity:1; font-family:Arial,Helvetica Neue,Helvetica,sans-serif; font-size:48px; text-anchor:middle;\" transform=\"rotate(0, 2267.01, 1557.47)\" x=\"2267.01\" y=\"1557.47\">4</text>\n",
       "</g>\n",
       "<g clip-path=\"url(#clip0601)\">\n",
       "<text style=\"fill:#000000; fill-opacity:1; font-family:Arial,Helvetica Neue,Helvetica,sans-serif; font-size:48px; text-anchor:end;\" transform=\"rotate(0, 152.123, 1353.48)\" x=\"152.123\" y=\"1353.48\">-50</text>\n",
       "</g>\n",
       "<g clip-path=\"url(#clip0601)\">\n",
       "<text style=\"fill:#000000; fill-opacity:1; font-family:Arial,Helvetica Neue,Helvetica,sans-serif; font-size:48px; text-anchor:end;\" transform=\"rotate(0, 152.123, 1041.1)\" x=\"152.123\" y=\"1041.1\">-25</text>\n",
       "</g>\n",
       "<g clip-path=\"url(#clip0601)\">\n",
       "<text style=\"fill:#000000; fill-opacity:1; font-family:Arial,Helvetica Neue,Helvetica,sans-serif; font-size:48px; text-anchor:end;\" transform=\"rotate(0, 152.123, 728.71)\" x=\"152.123\" y=\"728.71\">0</text>\n",
       "</g>\n",
       "<g clip-path=\"url(#clip0601)\">\n",
       "<text style=\"fill:#000000; fill-opacity:1; font-family:Arial,Helvetica Neue,Helvetica,sans-serif; font-size:48px; text-anchor:end;\" transform=\"rotate(0, 152.123, 416.325)\" x=\"152.123\" y=\"416.325\">25</text>\n",
       "</g>\n",
       "<g clip-path=\"url(#clip0601)\">\n",
       "<text style=\"fill:#000000; fill-opacity:1; font-family:Arial,Helvetica Neue,Helvetica,sans-serif; font-size:48px; text-anchor:end;\" transform=\"rotate(0, 152.123, 103.94)\" x=\"152.123\" y=\"103.94\">50</text>\n",
       "</g>\n",
       "<polyline clip-path=\"url(#clip0603)\" style=\"stroke:#009af9; stroke-width:4; stroke-opacity:1; fill:none\" points=\"\n",
       "  236.834,1462.26 241.803,1451.21 246.772,1440.26 251.741,1429.43 297.684,1334.54 343.627,1248.79 389.57,1171.75 435.513,1102.98 463.123,1065.44 490.732,1030.63 \n",
       "  518.342,998.458 545.952,968.821 592.64,924.212 639.327,886.122 690.043,851.594 740.759,823.617 787.514,803.117 834.27,787.216 884.396,774.747 934.523,766.455 \n",
       "  992.6,761.316 1050.68,760.121 1153.9,764.964 1244.42,773.194 1343.11,782.265 1442.38,787.19 1497.26,786.481 1552.14,782.372 1604.36,774.62 1656.58,762.461 \n",
       "  1710.87,744.448 1765.17,720.241 1810.87,694.527 1856.58,663.472 1912.38,617.684 1968.17,562.496 2020.63,501.34 2073.08,430.521 2115.1,366.38 2157.12,295.28 \n",
       "  2199.13,216.882 2241.15,130.848 2247.62,116.909 2254.08,102.779 2260.55,88.4582 \n",
       "  \"/>\n",
       "<polygon clip-path=\"url(#clip0601)\" points=\"\n",
       "1969.12,251.724 2249.26,251.724 2249.26,130.764 1969.12,130.764 \n",
       "  \" fill=\"#ffffff\" fill-rule=\"evenodd\" fill-opacity=\"1\"/>\n",
       "<polyline clip-path=\"url(#clip0601)\" style=\"stroke:#000000; stroke-width:4; stroke-opacity:1; fill:none\" points=\"\n",
       "  1969.12,251.724 2249.26,251.724 2249.26,130.764 1969.12,130.764 1969.12,251.724 \n",
       "  \"/>\n",
       "<polyline clip-path=\"url(#clip0601)\" style=\"stroke:#009af9; stroke-width:4; stroke-opacity:1; fill:none\" points=\"\n",
       "  1993.12,191.244 2137.12,191.244 \n",
       "  \"/>\n",
       "<g clip-path=\"url(#clip0601)\">\n",
       "<text style=\"fill:#000000; fill-opacity:1; font-family:Arial,Helvetica Neue,Helvetica,sans-serif; font-size:48px; text-anchor:start;\" transform=\"rotate(0, 2161.12, 208.744)\" x=\"2161.12\" y=\"208.744\">f4</text>\n",
       "</g>\n",
       "</svg>\n"
      ]
     },
     "execution_count": 59,
     "metadata": {},
     "output_type": "execute_result"
    }
   ],
   "source": [
    "plot(x->f4(x),-4,4,label=\"f4\")"
   ]
  },
  {
   "cell_type": "code",
   "execution_count": 60,
   "metadata": {},
   "outputs": [
    {
     "data": {
      "text/plain": [
       "(2.094551481542327, 3.552713678800501e-15)"
      ]
     },
     "execution_count": 60,
     "metadata": {},
     "output_type": "execute_result"
    }
   ],
   "source": [
    "x4,f4(x4)"
   ]
  },
  {
   "cell_type": "code",
   "execution_count": 61,
   "metadata": {},
   "outputs": [
    {
     "data": {
      "text/plain": [
       "(2.0945514815423265, -8.881784197001252e-16)"
      ]
     },
     "execution_count": 61,
     "metadata": {},
     "output_type": "execute_result"
    }
   ],
   "source": [
    "N4, f4(N4)"
   ]
  },
  {
   "cell_type": "code",
   "execution_count": 62,
   "metadata": {},
   "outputs": [
    {
     "data": {
      "text/plain": [
       "(2.0945514815423265, -8.881784197001252e-16)"
      ]
     },
     "execution_count": 62,
     "metadata": {},
     "output_type": "execute_result"
    }
   ],
   "source": [
    "S4, f4(S4)"
   ]
  },
  {
   "cell_type": "code",
   "execution_count": 63,
   "metadata": {},
   "outputs": [
    {
     "data": {
      "image/svg+xml": [
       "<?xml version=\"1.0\" encoding=\"utf-8\"?>\n",
       "<svg xmlns=\"http://www.w3.org/2000/svg\" xmlns:xlink=\"http://www.w3.org/1999/xlink\" width=\"600\" height=\"400\" viewBox=\"0 0 2400 1600\">\n",
       "<defs>\n",
       "  <clipPath id=\"clip0800\">\n",
       "    <rect x=\"0\" y=\"0\" width=\"2000\" height=\"2000\"/>\n",
       "  </clipPath>\n",
       "</defs>\n",
       "<defs>\n",
       "  <clipPath id=\"clip0801\">\n",
       "    <rect x=\"0\" y=\"0\" width=\"2400\" height=\"1600\"/>\n",
       "  </clipPath>\n",
       "</defs>\n",
       "<polygon clip-path=\"url(#clip0801)\" points=\"\n",
       "0,1600 2400,1600 2400,0 0,0 \n",
       "  \" fill=\"#ffffff\" fill-rule=\"evenodd\" fill-opacity=\"1\"/>\n",
       "<defs>\n",
       "  <clipPath id=\"clip0802\">\n",
       "    <rect x=\"480\" y=\"0\" width=\"1681\" height=\"1600\"/>\n",
       "  </clipPath>\n",
       "</defs>\n",
       "<polygon clip-path=\"url(#clip0801)\" points=\"\n",
       "243.029,1503.47 2321.26,1503.47 2321.26,47.2441 243.029,47.2441 \n",
       "  \" fill=\"#ffffff\" fill-rule=\"evenodd\" fill-opacity=\"1\"/>\n",
       "<defs>\n",
       "  <clipPath id=\"clip0803\">\n",
       "    <rect x=\"243\" y=\"47\" width=\"2079\" height=\"1457\"/>\n",
       "  </clipPath>\n",
       "</defs>\n",
       "<polyline clip-path=\"url(#clip0803)\" style=\"stroke:#000000; stroke-width:2; stroke-opacity:0.1; fill:none\" points=\"\n",
       "  282.26,1503.47 282.26,47.2441 \n",
       "  \"/>\n",
       "<polyline clip-path=\"url(#clip0803)\" style=\"stroke:#000000; stroke-width:2; stroke-opacity:0.1; fill:none\" points=\"\n",
       "  855.309,1503.47 855.309,47.2441 \n",
       "  \"/>\n",
       "<polyline clip-path=\"url(#clip0803)\" style=\"stroke:#000000; stroke-width:2; stroke-opacity:0.1; fill:none\" points=\"\n",
       "  1428.36,1503.47 1428.36,47.2441 \n",
       "  \"/>\n",
       "<polyline clip-path=\"url(#clip0803)\" style=\"stroke:#000000; stroke-width:2; stroke-opacity:0.1; fill:none\" points=\"\n",
       "  2001.41,1503.47 2001.41,47.2441 \n",
       "  \"/>\n",
       "<polyline clip-path=\"url(#clip0803)\" style=\"stroke:#000000; stroke-width:2; stroke-opacity:0.1; fill:none\" points=\"\n",
       "  243.029,1227.54 2321.26,1227.54 \n",
       "  \"/>\n",
       "<polyline clip-path=\"url(#clip0803)\" style=\"stroke:#000000; stroke-width:2; stroke-opacity:0.1; fill:none\" points=\"\n",
       "  243.029,867.792 2321.26,867.792 \n",
       "  \"/>\n",
       "<polyline clip-path=\"url(#clip0803)\" style=\"stroke:#000000; stroke-width:2; stroke-opacity:0.1; fill:none\" points=\"\n",
       "  243.029,508.045 2321.26,508.045 \n",
       "  \"/>\n",
       "<polyline clip-path=\"url(#clip0803)\" style=\"stroke:#000000; stroke-width:2; stroke-opacity:0.1; fill:none\" points=\"\n",
       "  243.029,148.298 2321.26,148.298 \n",
       "  \"/>\n",
       "<polyline clip-path=\"url(#clip0801)\" style=\"stroke:#000000; stroke-width:4; stroke-opacity:1; fill:none\" points=\"\n",
       "  243.029,1503.47 2321.26,1503.47 \n",
       "  \"/>\n",
       "<polyline clip-path=\"url(#clip0801)\" style=\"stroke:#000000; stroke-width:4; stroke-opacity:1; fill:none\" points=\"\n",
       "  243.029,1503.47 243.029,47.2441 \n",
       "  \"/>\n",
       "<polyline clip-path=\"url(#clip0801)\" style=\"stroke:#000000; stroke-width:4; stroke-opacity:1; fill:none\" points=\"\n",
       "  282.26,1503.47 282.26,1481.63 \n",
       "  \"/>\n",
       "<polyline clip-path=\"url(#clip0801)\" style=\"stroke:#000000; stroke-width:4; stroke-opacity:1; fill:none\" points=\"\n",
       "  855.309,1503.47 855.309,1481.63 \n",
       "  \"/>\n",
       "<polyline clip-path=\"url(#clip0801)\" style=\"stroke:#000000; stroke-width:4; stroke-opacity:1; fill:none\" points=\"\n",
       "  1428.36,1503.47 1428.36,1481.63 \n",
       "  \"/>\n",
       "<polyline clip-path=\"url(#clip0801)\" style=\"stroke:#000000; stroke-width:4; stroke-opacity:1; fill:none\" points=\"\n",
       "  2001.41,1503.47 2001.41,1481.63 \n",
       "  \"/>\n",
       "<polyline clip-path=\"url(#clip0801)\" style=\"stroke:#000000; stroke-width:4; stroke-opacity:1; fill:none\" points=\"\n",
       "  243.029,1227.54 274.202,1227.54 \n",
       "  \"/>\n",
       "<polyline clip-path=\"url(#clip0801)\" style=\"stroke:#000000; stroke-width:4; stroke-opacity:1; fill:none\" points=\"\n",
       "  243.029,867.792 274.202,867.792 \n",
       "  \"/>\n",
       "<polyline clip-path=\"url(#clip0801)\" style=\"stroke:#000000; stroke-width:4; stroke-opacity:1; fill:none\" points=\"\n",
       "  243.029,508.045 274.202,508.045 \n",
       "  \"/>\n",
       "<polyline clip-path=\"url(#clip0801)\" style=\"stroke:#000000; stroke-width:4; stroke-opacity:1; fill:none\" points=\"\n",
       "  243.029,148.298 274.202,148.298 \n",
       "  \"/>\n",
       "<g clip-path=\"url(#clip0801)\">\n",
       "<text style=\"fill:#000000; fill-opacity:1; font-family:Arial,Helvetica Neue,Helvetica,sans-serif; font-size:48px; text-anchor:middle;\" transform=\"rotate(0, 282.26, 1557.47)\" x=\"282.26\" y=\"1557.47\">2.0944</text>\n",
       "</g>\n",
       "<g clip-path=\"url(#clip0801)\">\n",
       "<text style=\"fill:#000000; fill-opacity:1; font-family:Arial,Helvetica Neue,Helvetica,sans-serif; font-size:48px; text-anchor:middle;\" transform=\"rotate(0, 855.309, 1557.47)\" x=\"855.309\" y=\"1557.47\">2.0945</text>\n",
       "</g>\n",
       "<g clip-path=\"url(#clip0801)\">\n",
       "<text style=\"fill:#000000; fill-opacity:1; font-family:Arial,Helvetica Neue,Helvetica,sans-serif; font-size:48px; text-anchor:middle;\" transform=\"rotate(0, 1428.36, 1557.47)\" x=\"1428.36\" y=\"1557.47\">2.0946</text>\n",
       "</g>\n",
       "<g clip-path=\"url(#clip0801)\">\n",
       "<text style=\"fill:#000000; fill-opacity:1; font-family:Arial,Helvetica Neue,Helvetica,sans-serif; font-size:48px; text-anchor:middle;\" transform=\"rotate(0, 2001.41, 1557.47)\" x=\"2001.41\" y=\"1557.47\">2.0947</text>\n",
       "</g>\n",
       "<g clip-path=\"url(#clip0801)\">\n",
       "<text style=\"fill:#000000; fill-opacity:1; font-family:Arial,Helvetica Neue,Helvetica,sans-serif; font-size:48px; text-anchor:end;\" transform=\"rotate(0, 219.029, 1245.04)\" x=\"219.029\" y=\"1245.04\">-0.001</text>\n",
       "</g>\n",
       "<g clip-path=\"url(#clip0801)\">\n",
       "<text style=\"fill:#000000; fill-opacity:1; font-family:Arial,Helvetica Neue,Helvetica,sans-serif; font-size:48px; text-anchor:end;\" transform=\"rotate(0, 219.029, 885.292)\" x=\"219.029\" y=\"885.292\">0.000</text>\n",
       "</g>\n",
       "<g clip-path=\"url(#clip0801)\">\n",
       "<text style=\"fill:#000000; fill-opacity:1; font-family:Arial,Helvetica Neue,Helvetica,sans-serif; font-size:48px; text-anchor:end;\" transform=\"rotate(0, 219.029, 525.545)\" x=\"219.029\" y=\"525.545\">0.001</text>\n",
       "</g>\n",
       "<g clip-path=\"url(#clip0801)\">\n",
       "<text style=\"fill:#000000; fill-opacity:1; font-family:Arial,Helvetica Neue,Helvetica,sans-serif; font-size:48px; text-anchor:end;\" transform=\"rotate(0, 219.029, 165.798)\" x=\"219.029\" y=\"165.798\">0.002</text>\n",
       "</g>\n",
       "<polyline clip-path=\"url(#clip0803)\" style=\"stroke:#009af9; stroke-width:4; stroke-opacity:1; fill:none\" points=\"\n",
       "  301.847,1462.26 482.957,1335.38 591.797,1259.12 683.82,1194.65 783.782,1124.61 875.939,1060.05 974.74,990.819 1089.21,910.612 1190.94,839.333 1280.15,776.825 \n",
       "  1377.41,708.674 1475.24,640.117 1583.42,564.317 1686.34,492.193 1793.35,417.2 1883.44,354.07 1993.42,276.995 2096.81,204.54 2262.44,88.4582 \n",
       "  \"/>\n",
       "<circle clip-path=\"url(#clip0803)\" style=\"fill:#000000; stroke:none; fill-opacity:1\" cx=\"1150.32\" cy=\"867.792\" r=\"18\"/>\n",
       "<circle clip-path=\"url(#clip0803)\" style=\"fill:#e26f46; stroke:none; fill-opacity:1\" cx=\"1150.32\" cy=\"867.792\" r=\"14\"/>\n",
       "<circle clip-path=\"url(#clip0803)\" style=\"fill:#000000; stroke:none; fill-opacity:1\" cx=\"1150.32\" cy=\"867.792\" r=\"18\"/>\n",
       "<circle clip-path=\"url(#clip0803)\" style=\"fill:#e26f46; stroke:none; fill-opacity:1\" cx=\"1150.32\" cy=\"867.792\" r=\"14\"/>\n",
       "<circle clip-path=\"url(#clip0803)\" style=\"fill:#000000; stroke:none; fill-opacity:1\" cx=\"1150.32\" cy=\"867.792\" r=\"18\"/>\n",
       "<circle clip-path=\"url(#clip0803)\" style=\"fill:#e26f46; stroke:none; fill-opacity:1\" cx=\"1150.32\" cy=\"867.792\" r=\"14\"/>\n",
       "<polygon clip-path=\"url(#clip0801)\" points=\"\n",
       "1958.43,312.204 2249.26,312.204 2249.26,130.764 1958.43,130.764 \n",
       "  \" fill=\"#ffffff\" fill-rule=\"evenodd\" fill-opacity=\"1\"/>\n",
       "<polyline clip-path=\"url(#clip0801)\" style=\"stroke:#000000; stroke-width:4; stroke-opacity:1; fill:none\" points=\"\n",
       "  1958.43,312.204 2249.26,312.204 2249.26,130.764 1958.43,130.764 1958.43,312.204 \n",
       "  \"/>\n",
       "<polyline clip-path=\"url(#clip0801)\" style=\"stroke:#009af9; stroke-width:4; stroke-opacity:1; fill:none\" points=\"\n",
       "  1982.43,191.244 2126.43,191.244 \n",
       "  \"/>\n",
       "<g clip-path=\"url(#clip0801)\">\n",
       "<text style=\"fill:#000000; fill-opacity:1; font-family:Arial,Helvetica Neue,Helvetica,sans-serif; font-size:48px; text-anchor:start;\" transform=\"rotate(0, 2150.43, 208.744)\" x=\"2150.43\" y=\"208.744\">y1</text>\n",
       "</g>\n",
       "<circle clip-path=\"url(#clip0801)\" style=\"fill:#000000; stroke:none; fill-opacity:1\" cx=\"2066.43\" cy=\"251.724\" r=\"25\"/>\n",
       "<circle clip-path=\"url(#clip0801)\" style=\"fill:#e26f46; stroke:none; fill-opacity:1\" cx=\"2066.43\" cy=\"251.724\" r=\"21\"/>\n",
       "<g clip-path=\"url(#clip0801)\">\n",
       "<text style=\"fill:#000000; fill-opacity:1; font-family:Arial,Helvetica Neue,Helvetica,sans-serif; font-size:48px; text-anchor:start;\" transform=\"rotate(0, 2150.43, 269.224)\" x=\"2150.43\" y=\"269.224\">y2</text>\n",
       "</g>\n",
       "</svg>\n"
      ]
     },
     "execution_count": 63,
     "metadata": {},
     "output_type": "execute_result"
    }
   ],
   "source": [
    "plot(x->f4(x),2.0944,2.09475)\n",
    "scatter!([x4,N4,S4],[f4(x4),f4(N4),f4(S4)])"
   ]
  },
  {
   "cell_type": "code",
   "execution_count": 64,
   "metadata": {},
   "outputs": [
    {
     "data": {
      "text/plain": [
       "(-1.0, -1.0, -1.0)"
      ]
     },
     "execution_count": 64,
     "metadata": {},
     "output_type": "execute_result"
    }
   ],
   "source": [
    "sign(f4(prevfloat(x4))) *sign(f4(nextfloat(x4))),\n",
    "sign(f4(prevfloat(N4))) *sign(f4(nextfloat(N4))),\n",
    "sign(f4(prevfloat(S4))) *sign(f4(nextfloat(S4)))"
   ]
  },
  {
   "cell_type": "code",
   "execution_count": 65,
   "metadata": {},
   "outputs": [
    {
     "data": {
      "text/plain": [
       "(false, false, false)"
      ]
     },
     "execution_count": 65,
     "metadata": {},
     "output_type": "execute_result"
    }
   ],
   "source": [
    "iszero(f4(x4)),iszero(f4(N4)), iszero(f4(S4))"
   ]
  },
  {
   "cell_type": "markdown",
   "metadata": {},
   "source": [
    "# zadanie 3."
   ]
  },
  {
   "cell_type": "markdown",
   "metadata": {},
   "source": [
    "### basen Newton'a"
   ]
  },
  {
   "cell_type": "code",
   "execution_count": 2,
   "metadata": {},
   "outputs": [],
   "source": [
    "using PyPlot"
   ]
  },
  {
   "cell_type": "code",
   "execution_count": 3,
   "metadata": {},
   "outputs": [],
   "source": [
    "using Reduce,Fatou"
   ]
  },
  {
   "cell_type": "code",
   "execution_count": 8,
   "metadata": {
    "scrolled": true
   },
   "outputs": [
    {
     "data": {
      "text/latex": [
       "$\\displaystyle D_1(\\epsilon) = \\left\\{z\\in\\mathbb{C}:\\left|\\,\\left(2 z^{3}+1\\right)/\\left(3 z^{2}\\right) - r_i\\,\\right|<\\epsilon,\\,\\forall r_i(\\,f(r_i)=0 )\\right\\}$"
      ],
      "text/plain": [
       "L\"$\\displaystyle D_1(\\epsilon) = \\left\\{z\\in\\mathbb{C}:\\left|\\,\\left(2 z^{3}+1\\right)/\\left(3 z^{2}\\right) - r_i\\,\\right|<\\epsilon,\\,\\forall r_i(\\,f(r_i)=0 )\\right\\}$\""
      ]
     },
     "metadata": {},
     "output_type": "display_data"
    },
    {
     "data": {
      "text/latex": [
       "$\\displaystyle D_2(\\epsilon) = \\left\\{z\\in\\mathbb{C}:\\left|\\,\\left(2 \\left(2 z^{3}+1\\right)^{3}+27 z^{6}\\right)/\\left(9 \\left(2 z^{3}+1\n",
       "\\right)^{2} z^{2}\\right) - r_i\\,\\right|<\\epsilon,\\,\\forall r_i(\\,f(r_i)=0 )\\right\\}$"
      ],
      "text/plain": [
       "L\"$\\displaystyle D_2(\\epsilon) = \\left\\{z\\in\\mathbb{C}:\\left|\\,\\left(2 \\left(2 z^{3}+1\\right)^{3}+27 z^{6}\\right)/\\left(9 \\left(2 z^{3}+1\n",
       "\\right)^{2} z^{2}\\right) - r_i\\,\\right|<\\epsilon,\\,\\forall r_i(\\,f(r_i)=0 )\\right\\}$\""
      ]
     },
     "metadata": {},
     "output_type": "display_data"
    },
    {
     "data": {
      "text/latex": [
       "$\\displaystyle D_3(\\epsilon) = \\left\\{z\\in\\mathbb{C}:\\left|\\,\\left(2 \\left(2 \\left(2 z^{3}+1\\right)^{3}+27 z^{6}\\right)^{3}+729 \\left(2 z^{\n",
       "3}+1\\right)^{6} z^{6}\\right)/\\left(27 \\left(2 \\left(2 z^{3}+1\\right)^{3}+27 z\n",
       "^{6}\\right)^{2} \\left(2 z^{3}+1\\right)^{2} z^{2}\\right) - r_i\\,\\right|<\\epsilon,\\,\\forall r_i(\\,f(r_i)=0 )\\right\\}$"
      ],
      "text/plain": [
       "L\"$\\displaystyle D_3(\\epsilon) = \\left\\{z\\in\\mathbb{C}:\\left|\\,\\left(2 \\left(2 \\left(2 z^{3}+1\\right)^{3}+27 z^{6}\\right)^{3}+729 \\left(2 z^{\n",
       "3}+1\\right)^{6} z^{6}\\right)/\\left(27 \\left(2 \\left(2 z^{3}+1\\right)^{3}+27 z\n",
       "^{6}\\right)^{2} \\left(2 z^{3}+1\\right)^{2} z^{2}\\right) - r_i\\,\\right|<\\epsilon,\\,\\forall r_i(\\,f(r_i)=0 )\\right\\}$\""
      ]
     },
     "metadata": {},
     "output_type": "display_data"
    },
    {
     "data": {
      "text/plain": [
       "3-element Array{Nothing,1}:\n",
       " nothing\n",
       " nothing\n",
       " nothing"
      ]
     },
     "execution_count": 8,
     "metadata": {},
     "output_type": "execute_result"
    }
   ],
   "source": [
    "map(display,[basin(newton(:(z^3-1)),i) for i ∈ 1:3])"
   ]
  },
  {
   "cell_type": "code",
   "execution_count": 7,
   "metadata": {},
   "outputs": [
    {
     "name": "stdout",
     "output_type": "stream",
     "text": [
      "  0.650956 seconds (15.90 M allocations: 430.688 MiB, 20.51% gc time)\n"
     ]
    },
    {
     "data": {
      "image/png": "[encoded data removed]",
      "text/plain": [
       "Figure(PyObject <Figure size 640x480 with 2 Axes>)"
      ]
     },
     "metadata": {},
     "output_type": "display_data"
    },
    {
     "data": {
      "text/latex": [
       "$\\displaystyle D_3(\\epsilon) = \\left\\{z\\in\\mathbb{C}:\\left|\\,\\left(2 \\left(2 \\left(2 z^{3}+1\\right)^{3}+27 z^{6}\\right)^{3}+729 \\left(2 z^{\n",
       "3}+1\\right)^{6} z^{6}\\right)/\\left(27 \\left(2 \\left(2 z^{3}+1\\right)^{3}+27 z\n",
       "^{6}\\right)^{2} \\left(2 z^{3}+1\\right)^{2} z^{2}\\right) - r_i\\,\\right|<\\epsilon,\\,\\forall r_i(\\,f(r_i)=0 )\\right\\}$"
      ],
      "text/plain": [
       "L\"$\\displaystyle D_3(\\epsilon) = \\left\\{z\\in\\mathbb{C}:\\left|\\,\\left(2 \\left(2 \\left(2 z^{3}+1\\right)^{3}+27 z^{6}\\right)^{3}+729 \\left(2 z^{\n",
       "3}+1\\right)^{6} z^{6}\\right)/\\left(27 \\left(2 \\left(2 z^{3}+1\\right)^{3}+27 z\n",
       "^{6}\\right)^{2} \\left(2 z^{3}+1\\right)^{2} z^{2}\\right) - r_i\\,\\right|<\\epsilon,\\,\\forall r_i(\\,f(r_i)=0 )\\right\\}$\""
      ]
     },
     "execution_count": 7,
     "metadata": {},
     "output_type": "execute_result"
    }
   ],
   "source": [
    "nf = newton(:(z^3-1),n=800,ϵ=0.1,N=25,iter=true,cmap=\"jet\")\n",
    "nf |> fatou |> plot\n",
    "basin(nf,3)"
   ]
  },
  {
   "cell_type": "code",
   "execution_count": 6,
   "metadata": {},
   "outputs": [
    {
     "name": "stdout",
     "output_type": "stream",
     "text": [
      "  0.608210 seconds (16.49 M allocations: 447.235 MiB, 9.83% gc time)\n"
     ]
    },
    {
     "data": {
      "image/png": "[encoded data removed]",
      "text/plain": [
       "Figure(PyObject <Figure size 640x480 with 2 Axes>)"
      ]
     },
     "metadata": {},
     "output_type": "display_data"
    },
    {
     "data": {
      "text/latex": [
       "$\\displaystyle D_3(\\epsilon) = \\left\\{z\\in\\mathbb{C}:\\left|\\,\\left(4 \\left(64 z^{18}+144 z^{17}+324 z^{16}-1128 z^{15}-2610 z^{14}+9603 z^{\n",
       "12}+5220 z^{11}-14580 z^{10}-12344 z^{9}+13410 z^{8}+10368 z^{7}-6504 z^{6}-\n",
       "3600 z^{5}+1620 z^{4}-288 z^{3}+288 z^{2}+16\\right) \\left(4 z^{9}-9 z^{8}-6 z\n",
       "^{6}+18 z^{5}-9 z^{2}+2\\right)\\right)/\\left(\\left(2 \\left(\\left(3 z^{2}-2\n",
       "\\right)^{2}-6 \\left(z^{2}+z+1\\right)^{2} \\left(z-1\\right)^{2}\\right)^{2} \n",
       "\\left(3 z^{2}-2\\right)^{2}-3 \\left(4 z^{6}+6 z^{5}+9 z^{4}-12 z^{3}-18 z^{2}+\n",
       "12\\right)^{2} \\left(2 z-3\\right)^{2} z^{4}\\right) \\left(\\left(3 z^{2}-2\\right)\n",
       "^{2}-6 \\left(z^{2}+z+1\\right)^{2} \\left(z-1\\right)^{2}\\right) \\left(3 z^{2}-2\n",
       "\\right)\\right) - r_i\\,\\right|<\\epsilon,\\,\\forall r_i(\\,f(r_i)=0 )\\right\\}$"
      ],
      "text/plain": [
       "L\"$\\displaystyle D_3(\\epsilon) = \\left\\{z\\in\\mathbb{C}:\\left|\\,\\left(4 \\left(64 z^{18}+144 z^{17}+324 z^{16}-1128 z^{15}-2610 z^{14}+9603 z^{\n",
       "12}+5220 z^{11}-14580 z^{10}-12344 z^{9}+13410 z^{8}+10368 z^{7}-6504 z^{6}-\n",
       "3600 z^{5}+1620 z^{4}-288 z^{3}+288 z^{2}+16\\right) \\left(4 z^{9}-9 z^{8}-6 z\n",
       "^{6}+18 z^{5}-9 z^{2}+2\\right)\\right)/\\left(\\left(2 \\left(\\left(3 z^{2}-2\n",
       "\\right)^{2}-6 \\left(z^{2}+z+1\\right)^{2} \\left(z-1\\right)^{2}\\right)^{2} \n",
       "\\left(3 z^{2}-2\\right)^{2}-3 \\left(4 z^{6}+6 z^{5}+9 z^{4}-12 z^{3}-18 z^{2}+\n",
       "12\\right)^{2} \\left(2 z-3\\right)^{2} z^{4}\\right) \\left(\\left(3 z^{2}-2\\right)\n",
       "^{2}-6 \\left(z^{2}+z+1\\right)^{2} \\left(z-1\\right)^{2}\\right) \\left(3 z^{2}-2\n",
       "\\right)\\right) - r_i\\,\\right|<\\epsilon,\\,\\forall r_i(\\,f(r_i)=0 )\\right\\}$\""
      ]
     },
     "execution_count": 6,
     "metadata": {},
     "output_type": "execute_result"
    }
   ],
   "source": [
    "nf1 = newton(:(z^3-2z+2),n=800,ϵ=0.1,N=25,iter=true,cmap=\"cubehelix\")\n",
    "nf1 |> fatou |> plot\n",
    "basin(nf1,3)"
   ]
  },
  {
   "cell_type": "code",
   "execution_count": null,
   "metadata": {},
   "outputs": [],
   "source": []
  }
 ],
 "metadata": {
  "kernelspec": {
   "display_name": "Julia 1.0.1",
   "language": "julia",
   "name": "julia-1.0"
  },
  "language_info": {
   "file_extension": ".jl",
   "mimetype": "application/julia",
   "name": "julia",
   "version": "1.0.1"
  }
 },
 "nbformat": 4,
 "nbformat_minor": 2
}
